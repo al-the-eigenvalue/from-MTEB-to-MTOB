{
  "cells": [
    {
      "cell_type": "code",
      "execution_count": null,
      "metadata": {
        "id": "s-SB9klqbyLz"
      },
      "outputs": [],
      "source": [
        "%%capture\n",
        "!pip install tiktoken httpx==0.27.2"
      ]
    },
    {
      "cell_type": "code",
      "execution_count": null,
      "metadata": {
        "id": "E54wszmzk0Cj"
      },
      "outputs": [],
      "source": [
        "import json\n",
        "import math\n",
        "import os\n",
        "import pandas as pd\n",
        "import re\n",
        "import requests\n",
        "import tiktoken\n",
        "\n",
        "from bs4 import BeautifulSoup\n",
        "from google.colab import drive, userdata\n",
        "from openai import OpenAI\n",
        "from pathlib import Path\n",
        "from textwrap import dedent\n",
        "from tqdm.notebook import tqdm"
      ]
    },
    {
      "cell_type": "code",
      "source": [
        "pd.options.mode.chained_assignment = None"
      ],
      "metadata": {
        "id": "OnVHgzVNQsNW"
      },
      "execution_count": null,
      "outputs": []
    },
    {
      "cell_type": "markdown",
      "source": [
        "## OpenAI API Call"
      ],
      "metadata": {
        "id": "XvpnxPv8XjCJ"
      }
    },
    {
      "cell_type": "code",
      "execution_count": null,
      "metadata": {
        "id": "U1d-QVbscbYM"
      },
      "outputs": [],
      "source": [
        "client = OpenAI(\n",
        "    api_key=userdata.get('OPENAI_API_KEY'),\n",
        ")"
      ]
    },
    {
      "cell_type": "code",
      "execution_count": null,
      "metadata": {
        "id": "NB-gflRZceXP"
      },
      "outputs": [],
      "source": [
        "def get_gpt_response(prompt):\n",
        "    chat_completion = client.chat.completions.create(\n",
        "        model='gpt-4o-2024-05-13',\n",
        "        temperature=0.2,\n",
        "        messages=[\n",
        "            {\n",
        "                'role': 'system',\n",
        "                'content': 'You are an expert in linguistic typology, with a deep understanding of typological features and classification of languages around the world.',\n",
        "            },\n",
        "            {\n",
        "                'role': 'user',\n",
        "                'content': prompt,\n",
        "            }\n",
        "        ],\n",
        "    )\n",
        "    return chat_completion.choices[0].message.content"
      ]
    },
    {
      "cell_type": "markdown",
      "source": [
        "## Counting Tokens"
      ],
      "metadata": {
        "id": "SEayk9Dk7DC3"
      }
    },
    {
      "cell_type": "code",
      "source": [
        "encoding = tiktoken.encoding_for_model('gpt-4o-2024-05-13')"
      ],
      "metadata": {
        "id": "LrJKl_6s7E6i"
      },
      "execution_count": null,
      "outputs": []
    },
    {
      "cell_type": "code",
      "source": [
        "def num_tokens_from_string(string: str) -> int:\n",
        "    \"\"\"Returns the number of tokens in a text string.\"\"\"\n",
        "    num_tokens = len(encoding.encode(string))\n",
        "    return num_tokens"
      ],
      "metadata": {
        "id": "WCV89flv7IEe"
      },
      "execution_count": null,
      "outputs": []
    },
    {
      "cell_type": "markdown",
      "source": [
        "## Google Drive Paths"
      ],
      "metadata": {
        "id": "DY-vwPL6Xlwe"
      }
    },
    {
      "cell_type": "code",
      "execution_count": null,
      "metadata": {
        "colab": {
          "base_uri": "https://localhost:8080/"
        },
        "id": "JwJvp2gNdGtt",
        "outputId": "aaa9a044-1de0-4907-be06-9c60e09850b8"
      },
      "outputs": [
        {
          "output_type": "stream",
          "name": "stdout",
          "text": [
            "Mounted at /content/drive\n"
          ]
        }
      ],
      "source": [
        "drive.mount('/content/drive', force_remount=True)"
      ]
    },
    {
      "cell_type": "code",
      "execution_count": null,
      "metadata": {
        "id": "053VKZmgc63S"
      },
      "outputs": [],
      "source": [
        "path_to_paragraphs = '/content/drive/MyDrive/Grammars Paragraphs'"
      ]
    },
    {
      "cell_type": "code",
      "execution_count": null,
      "metadata": {
        "id": "V4KqfzSFk1_0"
      },
      "outputs": [],
      "source": [
        "df_ground_truth = pd.read_csv('/content/drive/MyDrive/ground_truth_rag.csv').fillna('')\n",
        "df_ground_truth_number_of_cases = pd.read_csv('/content/drive/MyDrive/ground_truth_rag_number_of_cases.csv').fillna('')"
      ]
    },
    {
      "cell_type": "markdown",
      "source": [
        "## Wikipedia Summaries"
      ],
      "metadata": {
        "id": "jJgs7Jb-X6zR"
      }
    },
    {
      "cell_type": "code",
      "source": [
        "def preprocess(text):\n",
        "    return re.sub('\\[\\d+\\]|\\[citation needed\\]', '', text.strip('\\n'))\n",
        "\n",
        "def get_query(revision_id):\n",
        "    url = f'https://en.wikipedia.org/w/api.php'\n",
        "    params = {\n",
        "        'action': 'parse',\n",
        "        'oldid': revision_id,\n",
        "        'prop': 'text',\n",
        "        'format': 'json'\n",
        "    }\n",
        "\n",
        "    response = requests.get(url, params=params)\n",
        "    data = response.json()\n",
        "    html_content = data['parse']['text']['*']\n",
        "    soup = BeautifulSoup(html_content, 'html.parser')\n",
        "\n",
        "    start_summary = soup.find('p')\n",
        "    start_next_section = soup.find('meta')\n",
        "    summary = [preprocess(start_summary.text)]\n",
        "\n",
        "    elems = start_summary.next_siblings\n",
        "    for i, elem in enumerate(elems):\n",
        "        if elem == start_next_section:\n",
        "            break\n",
        "        if elem.name is not None:\n",
        "            text = preprocess(elem.text)\n",
        "            if elem.name == 'ul':\n",
        "                text = '\\n' + text\n",
        "            summary.append(text)\n",
        "\n",
        "    return '\\n'.join(summary)"
      ],
      "metadata": {
        "id": "u_yIWfdjX5z8"
      },
      "execution_count": null,
      "outputs": []
    },
    {
      "cell_type": "code",
      "source": [
        "word_order_wiki = get_query(1240489972)\n",
        "negation_wiki = get_query(1202783032)\n",
        "polar_questions_wiki = get_query(1236424936)\n",
        "grammatical_case_wiki = dedent('''A grammatical case is a category of nouns and noun modifiers (determiners, adjectives, participles, and numerals) that corresponds to one or more potential grammatical functions for a nominal group in a wording. In various languages, nominal groups consisting of a noun and its modifiers belong to one of a few such categories. For instance, in English, one says I see them and they see me: the nominative pronouns I/they represent the perceiver and the accusative pronouns me/them represent the phenomenon perceived. Here, nominative and accusative are cases, that is, categories of pronouns corresponding to the functions they have in representation.\n",
        "English has largely lost its inflected case system but personal pronouns still have three cases, which are simplified forms of the nominative, accusative (including functions formerly handled by the dative) and genitive cases. They are used with personal pronouns: subjective case (I, you, he, she, it, we, they, who, whoever), objective case (me, you, him, her, it, us, them, whom, whomever) and possessive case (my, mine; your, yours; his; her, hers; its; our, ours; their, theirs; whose; whosever). Forms such as I, he and we are used for the subject (\"I kicked John\"), and forms such as me, him and us are used for the object (\"John kicked me\").\n",
        "As a language evolves, cases can merge (for instance, in Ancient Greek, the locative case merged with the dative), a phenomenon known as syncretism.\n",
        "Commonly encountered cases include nominative, accusative, dative and genitive. A role that one of those languages marks by case is often marked in English with a preposition. For example, the English prepositional phrase with (his) foot (as in \"John kicked the ball with his foot\") might be rendered in Russian using a single noun in the instrumental case, or in Ancient Greek as τῷ ποδί (tôi podí, meaning \"the foot\") with both words (the definite article, and the noun πούς (poús) \"foot\") changing to dative form.\n",
        "More formally, case has been defined as \"a system of marking dependent nouns for the type of relationship they bear to their heads\".: p.1  Cases should be distinguished from thematic roles such as agent and patient. They are often closely related, and in languages such as Latin, several thematic roles are realised by a somewhat fixed case for deponent verbs, but cases are a syntagmatic/phrasal category, and thematic roles are the function of a syntagma/phrase in a larger structure. Languages having cases often exhibit free word order, as thematic roles are not required to be marked by position in the sentence.''')"
      ],
      "metadata": {
        "id": "ZwhNWb3arR24"
      },
      "execution_count": null,
      "outputs": []
    },
    {
      "cell_type": "markdown",
      "source": [
        "## WALS and Grambank summaries"
      ],
      "metadata": {
        "id": "UfInlyguYXN6"
      }
    },
    {
      "cell_type": "code",
      "source": [
        "word_order_wals = dedent('''\n",
        "This feature is concerned with the ordering of subject, object, and verb in a transitive clause, more specifically declarative clauses in which both the subject and object involve a noun (and not just a pronoun), as in the English sentence in (1).\n",
        "\n",
        "(1)\n",
        "\n",
        "[The dog] chased [the cat].\n",
        "\n",
        "S V O\n",
        "\n",
        "English is SVO (Subject-Verb-Object), because the subject \"the dog\" in (1) precedes the verb while the object \"the cat\" follows the verb.\n",
        "\n",
        "There are six logically possible orders of the three elements S, O, and V, with the seventh type \"No dominant order\":\n",
        "Subject-object-verb (SOV)\n",
        "Subject-verb-object (SVO)\n",
        "Verb-subject-object (VSO)\n",
        "Verb-object-subject (VOS)\n",
        "Object-verb-subject (OVS)\n",
        "Object-subject-verb (OSV)\n",
        "No dominant order\n",
        "\n",
        "All six of these types are attested; examples of each type are given in (2).\n",
        "\n",
        "(2)\n",
        "\n",
        "a. Japanese (Kuno 1973: 10)\n",
        "John ga tegami o yon-da.\n",
        "John subj letter obj read-pst\n",
        "S O V\n",
        "‘John read the letter.’\n",
        "\n",
        "b. Mandarin (Li and Thompson 1981: 217)\n",
        "Zhāngsān shōudǎo-le yi-fēng xìn.\n",
        "Zhangsan receive-perf one-clf letter\n",
        "S V O\n",
        "‘Zhangsan received a letter.’\n",
        "\n",
        "c. Irish (Dillon and Ó Cróinín 1961: 166)\n",
        "Léann [na sagairt] [na leabhair].\n",
        "read.pres the.pl priest.pl the.pl book.pl\n",
        "V S O\n",
        "‘The priests are reading the books.’\n",
        "\n",
        "d. Nias (Austronesian; Sumatra, Indonesia; Brown 2001: 538)\n",
        "i-rino vakhe ina-gu\n",
        "3sg.realis-cook abs.rice mother-1sg.poss\n",
        "V O S\n",
        "‘My mother cooked rice.’\n",
        "\n",
        "e. Hixkaryana (Carib; Brazil; Derbyshire 1979: 87)\n",
        "toto y-ahosɨ-ye kamara\n",
        "man 3:3-grab-distant.pst jaguar\n",
        "O V S\n",
        "‘The jaguar grabbed the man.’\n",
        "\n",
        "f. Nadëb (Nadahup; Brazil; Weir 1994: 309)\n",
        "awad kalapéé hapʉ́h\n",
        "jaguar child see.ind\n",
        "O S V\n",
        "‘The child sees the jaguar.’\n",
        "\n",
        "Although all six of these orders are attested, the last two types, OVS and OSV, in which the object comes first, are rare.\n",
        "The terms \"subject\" and \"object\" are used here in a rather informal semantic sense, to denote the more agent-like and more patient-like elements respectively. Their use here can be defined in terms of the notions S, A, and P, where the S is the single argument in an intransitive clause, the A is the more agent-like argument in a transitive clause, and the P is the more patient-like argument in a transitive clause. For the purposes of this map, then, the term \"subject\" is used for the A while the term \"object\" is used for the P. A language annotated as SOV could thus also be equally well and perhaps more accurately described as APV. Note that many linguists use the terms \"subject\" and \"object\" somewhat differently from this, and some linguists question the applicability of these terms to some languages, but these issues do not arise with the use of these terms here. For example, there is controversy surrounding the question of what ought to be considered the subject in Philippine languages, like Cebuano (cf. Schachter 1976). Cebuano has two common ways to express transitive clauses, one of which is illustrated in (3).\n",
        "\n",
        "(3) Cebuano (Austronesian; own data)\n",
        "gi-palit [sa babayi] [ang saging]\n",
        "goal.foc-buy nontopic woman topic banana\n",
        "‘The woman bought the bananas.’\n",
        "\n",
        "While there is a question as to which of the two arguments in (3) should be considered a subject (or whether neither or both should), in both types of clauses the verb normally comes first, followed by the A, and then the P. Hence, by the use of subject and object  assumed for this feature, Cebuano is treated as a VSO language.\n",
        "Note that while the position of the subject in intransitive clauses is generally the same as in transitive clauses, in some languages this is not the case.\n",
        "Some languages can be assigned straightforwardly to one of the six types, because all orders other than one are either ungrammatical or used relatively infrequently and only in special pragmatic contexts. Such languages can be said to have rigid order. There are many other languages in which all six orders are grammatical. Such languages can be said to have flexible order. Flexible order languages are sometimes described as having \"free\" word order, though this is misleading, since there are often pragmatic factors governing the choice of word order.\n",
        "We can further distinguish two subtypes of languages with flexible word order. In some languages with flexible order, there is one order which is most common and which can be described as the dominant order. In other flexible order languages, the flexibility is greater and there is no one order that is the dominant order in terms of frequency of usage or pragmatic neutrality. Flexible order languages in which one order is dominant are shown on the map according to that dominant order – in other words, the feature does not distinguish rigid order languages from flexible order languages with a dominant order. Flexible order languages lacking a dominant order are annotated as \"lacking a dominant word order\". Russian is an example of a language with flexible word order in which SVO order can be considered dominant, so Russian is shown as SVO.\n",
        "There are a number of different subtypes of languages lacking a dominant order which are not distinguished in the feature. In some languages with highly flexible word order, all or most orders of subject, object, and verb will be possible and common. Nunggubuyu (Gunwinyguan; northern Australia) is an example of such a language (Heath 1984: 507-513; 1986). But some languages lack a dominant order only because just the subject or just the object exhibits flexibility with respect to the verb.  For example, Syrian Arabic allows both SVO and VSO orders and there does not seem to be a reason (at least on the basis of the description by Cowell 1964: 407, 411) to consider one of them dominant. However, only these two orders are common and the order of verb and object is relatively inflexible.\n",
        "A third subtype of language lacking a dominant order consists of languages in which different word orders occur but the choice is syntactically determined. For example, in German and Dutch, the dominant order is SVO in main clauses lacking an auxiliary and SOV in subordinate clauses and clauses containing an auxiliary (see below for examples). Because this results in both orders being common, neither order is considered dominant here and these two languages are shown as lacking a dominant word order. In general, if the word order varies according to whether there is an auxiliary verb, the language is shown as lacking a dominant order. Another language whose word order depends both on whether there is an auxiliary and whether the clause is a main clause is Dinka (Nilotic; Sudan): like German, the order is SVO in main clauses without an auxiliary, SAuxOV in main clauses with an auxiliary, but it is VSO in subordinate clauses without an auxiliary and AuxSOV in subordinate clauses with an auxiliary (Nebel 1948: 9, 25, 42, 75, 82).\n",
        "Where languages differ in their order between main clauses and subordinate clauses, the order in main clauses is used to classify them on this map. For example, Quileute (Chimakuan; Washington State) is VSO in main clauses and SVO in subordinate clauses (Andrade 1933: 278), and is shown as VSO. In some languages, word order is more fixed in subordinate clauses. For example, in Miya (Chadic; Nigeria), while both SVO and VOS are found in main clauses, only VOS order is found in adverbial subordinate clauses and relative clauses (Schuh 1998: 281, 291); because both SVO and VOS are common in main clauses, Miya is shown as lacking a dominant order.\n",
        "\n",
        "Where a language is shown as having a particular order as the dominant order, this means that it is either the only order possible or the order that is more frequently used. The maps do not distinguish these two possibilities, because it is often not possible to obtain reliable information from descriptive grammars on whether a particular order which is not the most frequent order is grammatical or not. While a grammar may say, for example, that the order of subject, object, and verb in a language is SOV, it often turns out that one of the other orders is possible, either in special discourse contexts or in special grammatical contexts, so it is rarely possible to conclude with confidence that only one order is permitted.\n",
        "The expression \"dominant order\" is used here, rather than the more common expression \"basic order\", to emphasize that priority is given here to the criterion of what is more frequent in language use, as reflected in texts. The reason for assigning priority to this criterion is that for most languages, this is the only criterion for which we have any relevant information. When a language allows several orders of particular elements, grammars will often mention this but describe one order as the normal order or the more frequent order. For some languages, the classification of a language is based on actual text counts. The rule of thumb employed is that if text counts reveal one order of a pair of elements to be more than twice as common as the other order, then that order is considered dominant, while if the frequency of the two orders is such that the more frequent order is less than twice as common as the other, the language is treated as lacking a dominant order for that pair of elements. For sets of three elements, one order is considered dominant if text counts reveal it to be more than twice as common as the next most frequent order; if no order has this property, then the language is treated as lacking a dominant order for that set of elements. Of course, unless one examines a large number and a broad variety of texts, one cannot be sure that differences in frequency may not occasionally reflect the idiosyncratic properties of a particular set of texts. It is likely that in some cases, further text counts would lead to classifying a language differently.\n",
        "For some languages, the classification map is based on a claim in the source that some order is basic or that it is pragmatically neutral. In the absence of evidence to the contrary, I assume that these are also the dominant orders. Occasionally, however, such claims are at odds with frequency data provided by the author. For example, Abbott (1991: 25) characterizes OVS order (object-verb-subject) in Macushi (Carib; Brazil) as basic, and says that SOV order is used to highlight the subject. However, she cites text count data that show that OVS and SOV order are about equally common. I base my classification of Macushi here on the frequency counts, and since no order is more than twice as frequent as the next most frequent order, I treat this language as lacking a dominant order of subject, object, and verb.\n",
        "''')"
      ],
      "metadata": {
        "id": "_C4DJFDXY2BS"
      },
      "execution_count": null,
      "outputs": []
    },
    {
      "cell_type": "code",
      "source": [
        "negation_grambank = dedent('''\n",
        "This feature refers to Standard Negation, i.e. the constructions that mark negation of (at least) dynamic (not-stative) verbal predicates in declarative mood. The marker has to form a phonological unit with the verbal root, be it by affixation, cliticization, suppletion, reduplication, tone, etc. If there is negative marking on the verb and elsewhere (for example by a particle) in the same construction, this is included in this feature. If there is a clitic that attaches to anything in its vicinity, this doesn't count.\n",
        "\n",
        "Procedure\n",
        "Find the section in the available descriptive literature that deals with negation.\n",
        "If suppletion is used, or a marker is described as an affix, a phonologically bound clitic, tone or reduplication and you see no reason to doubt that it is indeed bound, reply with 1.\n",
        "If the marker is described as a particle and it is unclear whether it is bound to the verb or not, look into other paragraphs.\n",
        "If the marker can be bound and can be free (and you are sufficiently convinced that when it is described as bound it is indeed bound), reply with 1.\n",
        "If there is more than one construction for marking standard negation, code 1 if at least one of them is phonologically bound to the verb.\n",
        "\n",
        "Examples\n",
        "\n",
        "Turkish (ISO 639-3: tur, Glottolog: nucl1301)\n",
        "\n",
        "Standard negation in Turkish is marked using the suffix -mA on the verb (Kornfilt 1997: 123). Turkish is coded as 1 for this feature.\n",
        "\n",
        "Hasan kitab-ı  oku-ma-dı\n",
        "Hasan book-ACC read-NEG-PST\n",
        "‘Hasan didn't read the book.’ (Kornfilt 1997: 123)\n",
        "\n",
        "Swedish (ISO 639-3: swe, Glottolog: swed1254)\n",
        "\n",
        "Swedish accomplishes negation with a particle (icke or inte). It is possible for this particle to be phonologically bound to the verb, but it does not qualify for a 1 for this feature because it cliticizes to anything that precedes it - not just verbs. Below are examples from the Swedish dialect Jarssemål (spoken in Järvsö in Hälsingland). All examples are taken from Håkan Franck (1999) via Skigård (2010), with glosses and translation added by patron (also Skirgård). Swedish is coded as 0.\n",
        "\n",
        "(1) free-standing\n",
        "Fräsen begrep int dä där, han e.\n",
        "Hisser understand NEG that there, 3SG.MASK NEG\n",
        "'The kitty didn't understand that, did he?\"\n",
        "\n",
        "(2) cliticised to verb\n",
        "Jasså, du Fräsen! Du tyttje=n't ôm främmande du, e.\n",
        "well.then 2SG Hisser 2SG like=NEG about strangers 2SG NEG\n",
        "'Well then Kitty, you don't care for strangers do you?\"\n",
        "\n",
        "(3) cliticised to pragmatic particle\n",
        "Dä ä ju=n't sa långt hem tä ôss, e.\n",
        "It is PRAG.PART=NEG so far home to us, NEG\n",
        "'It's not that far home to us, is it?'\n",
        "''')"
      ],
      "metadata": {
        "id": "df6lra91dWue"
      },
      "execution_count": null,
      "outputs": []
    },
    {
      "cell_type": "code",
      "source": [
        "polar_questions_grambank = dedent('''\n",
        "Dryer (2013) distinguishes neutral questions from leading questions in the paragraph quoted below:\n",
        "\"Many languages have question particles or expressions that indicate that the question is a leading question, one where the speaker has an expectation as to what the answer will be. English, for example, employs what are called \"tag-questions\" for this purpose, illustrated in (13a), which differ from the neutral question form illustrated in (13b) in that its form indicates that the speaker expects a ‘yes’ answer.\n",
        "\n",
        "13a. You’re planning to go to the beach, aren’t you?\n",
        "13b. Are you planning to go to the beach?\"\n",
        "\n",
        "This feature concerns neutral questions only, leading questions should be disregarded.\n",
        "\n",
        "Guideline for the strategy \"Interrogative intonation only\":\n",
        "\n",
        "Summary\n",
        "Our focus is intonation, not tone. Intonation is different from tonal marking. Tonal marking is bound to a certain position in the clause (e.g. the final syllable, or a certain constituent). Intonation concerns the whole clause and will have a variation in pitch across sentences and phrases.\n",
        "\n",
        "Procedure\n",
        "Code 1 if a sentence can become a question by changing the intonation only.\n",
        "Code 0 if intonation and another marker (such as a question marker on the verb) together mark polar interrogation within the same construction, and intonation alone is not sufficient for marking the construction as a polar question.\n",
        "Code 0 if there is no data in the grammar paragraphs regarding whether intonation marks polar interrogation in the language.\n",
        "\n",
        "Examples\n",
        "Marshallese (ISO 639-3: mah, Glottolog: mars1254)\n",
        "In Marshallese, polar interrogation can be indicated by either intonation alone in the construction, or by intonation and a clause-final question morpheme. Marshallese is coded 1 because intonation can be the only marker of polar interrogation in the construction.\n",
        "\n",
        "Kwe    iro.i?\n",
        "2SG    chief?\n",
        "‘Are you a chief?’ (Zewen 1977: 92)\n",
        "\n",
        "Veps (ISO 639-3: vep, Glottolog: veps1250)\n",
        "Coded 0. A question particle is obligatory which indicates that intonation (whether present or not) does not mark polar interrogation alone in the construction (Brodskij 2008: 33–34).\n",
        "\n",
        "Guideline for the strategy \"Interrogative word order\":\n",
        "\n",
        "Summary\n",
        "Can a change in word order mark polar questions? In order for a construction to trigger 1, there should be no other marker in the clause that signals polar interrogation, not even lack of finiteness compared to the affirmative. This excludes intonation, which may be different between questions and declarative statements.\n",
        "\n",
        "Procedure\n",
        "Code 1 if a polar question can be formed by changing the word order in the clause and nothing else (except for intonation).\n",
        "Code 0 if a word order change and another marker (such as a question marker on the verb) together mark polar interrogation within the same construction.\n",
        "Code 0 if there is no data in the grammar paragraphs regarding whether word order marks polar interrogation in the language.\n",
        "\n",
        "Examples\n",
        "Parecís (ISO 639-3: pab, Glottolog: pare1272).\n",
        "\n",
        "Coded 1. Generally, in polar questions, the focused questioned argument is fronted and the verb is clause-final (Brandão 2014: 338).\n",
        "\n",
        "Guideline for the strategy \"Clause-initial question particle\":\n",
        "\n",
        "Summary\n",
        "In this feature, we are looking for a polar interrogative particle that appears at the beginning of the clause. This particle does not have to be obligatory, and it is sufficient if the particle does not always appear in clause-final position.\n",
        "\n",
        "Procedure\n",
        "Code 1 if polar interrogation can be marked through an interrogative particle, and this particle appears at the beginning of the clause.\n",
        "Code 0 if the grammar mentions no polar interrogative particles or if the polar interrogative particle does not appear at the beginning of the clause.\n",
        "\n",
        "Examples\n",
        "Nyigina (ISO 639-3: nyh, Glottocode: nyig1240)\n",
        "Coded 1. There is an interrogative particle for yes/no questions. The particle almost always occurs in the first position of a clause.\n",
        "marrinyan … kurru  warli  muk  ya-na-rr-i\n",
        "hungry      Q      meat   hit  1/2SG-FUT-PL-say\n",
        "‘I’m hungry. Can we kill meat?’ (McGregor 2004: 236)\n",
        "\n",
        "Guideline for the strategy \"Clause-final question particle\":\n",
        "\n",
        "Summary\n",
        "In this feature, we are looking for a polar interrogative particle which appears at the end of the clause. This particle does not have to be obligatory, and it is sufficient if the particle does not always appear in clause-final position.\n",
        "\n",
        "Procedure\n",
        "Code 1 if polar questions can be marked by a clause-final particle.\n",
        "Code 0 if the grammar mentions no polar interrogative particles or if the polar interrogative particle does not appear at the end of the clause.\n",
        "\n",
        "Examples\n",
        "Anu-Hkongso (ISO 639-3: anl, Glottolog: anuu1241)\n",
        "\n",
        "Coded 1. There is a clause-final question particle (Wright 2009: 96–97).\n",
        "\n",
        "ca˥ cak˦˨ kɘ˦˨  ma˥˩\n",
        "eat rice PRF  Q\n",
        "‘Have you eaten?’ (Wright 2009: 96)\n",
        "\n",
        "Awa Pit (ISO 639-3: kwi, Glottolog: awac1239)\n",
        "\n",
        "Coded 1.\n",
        "There are two constructions which are used to form polar (\"yes/no\") questions in Awa Pit, in different contexts. The simplest polar question form uses a verb suffix -ma, which indicates both the idea of a polar question and the idea of Past tense. The second type of polar question, the most frequent, involves the use of question markers ki or sa.\n",
        "\n",
        "tilawa    a-n       ki-s?\n",
        "tomorrow  come-INF  Q-LOCUT\n",
        "‘Are you coming tomorrow?’ (Curnow 1997: 323)\n",
        "(Abbreviations: LOCUT locutor person marker)\n",
        "\n",
        "Guideline for the strategy \"Clause-medial question particle\":\n",
        "\n",
        "Summary\n",
        "Is there a particle that is used for marking questions that ask for the equivalent of a 'yes’ or 'no’ answer, and can occur in the middle of the clause, neither initially nor finally?\n",
        "\n",
        "Procedure\n",
        "Code 1 if polar questions can contain a clause-medial particle that is used for marking polar questions.\n",
        "Code 0 if the grammar mentions no polar interrogative particles or if the polar interrogative particle does not appear in the middle of the clause.\n",
        "\n",
        "Examples\n",
        "\n",
        "in Hmong Njua (Hmong-Mien; China), the question particle \"puas\" occurs after the subject and before the verb:\n",
        "\n",
        "Hmong Njua (Harriehausen 1990: 205)\n",
        "\n",
        "kuv cov nyaaj puas nyam hoob pee\n",
        "1sg meas aunt q like sing song\n",
        "\"Do my aunts like to sing?\"\n",
        "\n",
        "Guideline for the strategy \"Interrogative verb morphology\":\n",
        "\n",
        "Summary\n",
        "In order for a construction to trigger 1, there should be no other marker in the clause that signals polar interrogation, not even lack of finiteness compared to the affirmative. This excludes intonation, which may be different between questions and declarative statements. Please note that verbal morphology need not be the only polar interrogative construction in the language to code 1 for it.\n",
        "\n",
        "Procedure\n",
        "Code 1 if a polar question can be formed by adding a morpheme that is phonologically bound to the verb (or by suppletion). Nothing else may be different between the polar question and the declarative statement, apart from intonation.\n",
        "Code 0 if polar interrogation is marked by a morpheme that can be attached to other constituents, not verbs only.\n",
        "Code 0 if the grammar does not treat polar interrogation at all or does not contain a discussion of interrogative verbal morphology.\n",
        "\n",
        "Examples\n",
        "Fuyug (ISO 639-3: fuy, Glottolog: fuyu1242)\n",
        "\n",
        "Fuyug is coded 1. The following is an example of a construction that triggers 1.\n",
        "\n",
        "Nu  ge  yalov ongo  n-adi=a?\n",
        "1SG TOP food  some  eat-IRR=Q\n",
        "‘Are you going to eat some food?’ (Bradshaw 2007: 66)\n",
        "\n",
        "Guideline for the strategy \"Tone\":\n",
        "\n",
        "Summary\n",
        "This feature deals with the presence or absence of a construction where the only difference between the interrogative and the declarative is marked by tone. Please note that tone is the focus here, not intonation. Tonal marking is bound to a certain position in the clause (e.g. the final syllable, or a certain constituent). Intonation concerns the whole clause and will have a variation in pitch across sentences and phrases.\n",
        "\n",
        "Procedure\n",
        "1) Determine if there is lexical or grammatical tone in the language (other than for polar interrogation) 2) if so, and if one of the words in a declarative sentence can change its tone to change the sentence into a polar question, then code 1.\n",
        "\n",
        "Examples\n",
        "Afar (ISO 639-3: aar, Glottolog: afar1241) Coded 1:\n",
        "\n",
        "\"Consultative can be derived as a question form of subjunctive in which an underlying o is not raised to u because of the addition of the question length and tone marker.\" (Bliese 1977: 148–151)\n",
        "\n",
        "’ab-u ‘that I do it’ (subjunctive from ab’aa-o)\n",
        "a’b-oô ‘shall I do it?’ (consultative from ab’aa-oô) (Bliese 1977: 149)\n",
        "''')"
      ],
      "metadata": {
        "id": "-mgSaPDpg97U"
      },
      "execution_count": null,
      "outputs": []
    },
    {
      "cell_type": "code",
      "source": [
        "number_of_cases_wals = dedent('''\n",
        "Morphological case on nominals is a common device to express the syntactic and semantic relationships between clausal constituents. However, the languages of the world that use this strategy vary greatly with respect to the number of case categories represented in their inflectional system. This feature is concerned with this numerical variation in the productive case paradigms of substantives (full nouns).\n",
        "The feature values are largely self-explanatory. In the languages lacking morphological case (e.g. Vietnamese), grammatical relations are expressed by word order and/or morphologically and prosodically independent function words (in general, prepositions and postpositions), and partly also by morphological devices on the verb.\n",
        "The minimal case paradigm contains two members, since paradigmatic relationships between word-forms are ultimately based on binary oppositions (minimal pairs). This implies that whenever a language has an overtly marked case category expressing a specific function, a corresponding zero-marked base form is counted as a case (\"default case\", or \"direct case\") even if it has no specific function describable in positive terms. In such instances, the base form receives its case status only through the existence of a functionally and formally marked case category. An example in point is Mapudungun (Araucanian; Chile), which has only one overt case suffix -mew ~ -mu  expressing diverse oblique functions such as place, cause and instrument. This suffix also occurs on syntactically demoted core arguments. Hence, Mapudungun exhibits the following case system, exemplified by the word peñi  ‘brother’.\n",
        "\n",
        "(1) Mapudungun (Smeets 1989: 77)\n",
        "Direct: peñi\n",
        "Oblique: peñi-mu\n",
        "\n",
        "While two or three cases constitute small paradigms, languages with four or five categories may be considered to have mid-sized inventories. Four cases are found in Icelandic. The table lists the paradigm of \"hestur\" (\"horse\").\n",
        "\n",
        "(2) Icelandic (Thráinsson 1994: 153)\n",
        "Nominative: hest-ur\n",
        "Accusative: hest\n",
        "Genitive: hest-s\n",
        "Dative: hest-i\n",
        "\n",
        "Languages with six through nine case categories have large inventories. Russian exemplifies the value six to seven cases. It has six productive cases (there are secondary genitives and locatives occurring only in some declension classes; these have not been judged productive). Russian case inflection is characterized by a high degree of declension-specific allomorphy and syncretism. Two word paradigms belonging to two different declensions (zavod \"factory\" and karta \"map\") are given here.\n",
        "\n",
        "(3) Russian (Wade 1992: 53, 69)\n",
        "Nominative: zavod, kart-a\n",
        "Accusative: zavod, kart-u\n",
        "Genitive: zavod-a, kart-y\n",
        "Dative: zavod-u, kart-e\n",
        "Instrumental: zavod-om, kart-oj\n",
        "Locative: zavod-e, kart-e\n",
        "\n",
        "The feature value of eight to nine cases is represented by West Greenlandic (Eskimo-Aleut). The model word is qimmiq ‘dog’.\n",
        "\n",
        "(4) West Greenlandic (Fortescue 1984: 206)\n",
        "Absolutive: qimmiq\n",
        "Ergative: qimmi-p\n",
        "Instrumental: qimmi-mik\n",
        "Allative: qimmi-mut\n",
        "Locative: qimmi-mi\n",
        "Ablative: qimmi-mit\n",
        "Prosecutive: qimmi-kkut\n",
        "Equative: qimmi-tut\n",
        "\n",
        "Languages with ten or more cases show very large paradigms: for example, Hungarian with (under some analyses) 21 productive cases and Lak (Nakh-Daghestanian; eastern Caucasus) with 19 cases. The table of example (7) presents the (reasonably) productive case categories of Hungarian on the basis of the example word hajó  ‘ship’.\n",
        "\n",
        "(5) Hungarian (Tompa 1968: 206-209)\n",
        "\n",
        "Nominative: hajó\n",
        "Accusative: hajó-t\n",
        "Inessive: hajó-ban\n",
        "Elative: hajó-ból\n",
        "Illative: hajó-ba\n",
        "Superessive: hajó-n\n",
        "Delative: hajó-ról\n",
        "Sublative: hajó-ra\n",
        "Adessive: hajó-nál\n",
        "Ablative: hajó-tól\n",
        "Allative: hajó-hoz\n",
        "Terminative: hajó-ig\n",
        "Dative: hajó-nak\n",
        "Instrumental-Comitative: hajó-val\n",
        "Formal: hajó-képp\n",
        "Essive: hajó-ul\n",
        "Essive-Formal(-Similitive): hajó-ként\n",
        "Translative-Factitive: hajó-vá\n",
        "Causal-Final: hajó-ért\n",
        "Distributive: hajó-nként\n",
        "Sociative: hajó-stul\n",
        "\n",
        "The feature value \"exclusively borderline case-marking\" refers to languages which have overt marking only for concrete (or \"peripheral\", or “semantic”) case relations, such as locatives or instrumentals. This type is represented by Plains Cree (Algonquian; Saskatchewan, Alberta), whose only case-inflecting device is the locative suffix –ehk (Wolfart 1973: 31). In several descriptive traditions such paradigmatically isolated adverbial categories are considered derivational rather than inflectional. The functional core of case morphology is the expression of the specific syntactic relations of clausal arguments. Hence, languages like Plains Cree do not participate in \"genuine\" case-marking. In practical terms, delimiting case markers from other morphological-functional entities is often particularly difficult in such languages. However, a rather generous stance is adopted for the present feature: as soon as one single morphological category is significantly involved in some kind of argument encoding, the entire set of forms is considered a \"genuine\" case paradigm. It must be pointed out that full case-marking paradigms may contain categories that would be considered borderline cases if taken in isolation. Thus the borderline feature value has rather to be viewed as a threshold beyond which all categories, regardless of their semantics, are counted as true cases.\n",
        "\n",
        "For the purposes of this feature Blake’s (1994: 1) general definition of case has been adopted:\n",
        "Case is a system of marking dependent nouns for the type of relationship they bear to their heads. Traditionally the term refers to inflectional marking, and, typically, case marks the relationship of a noun to a verb at the clause level or of a noun to a preposition, postposition or another noun at the phrase level.\n",
        "Since case is by definition dependent-marking, head-marking nominal morphology remains outside the limits of case even if it encodes case-like functions (e.g. possessive marking on the possessed instead of the possessor noun).\n",
        "Morphological case is a combination of form and function, but distinctiveness of formal expression will be taken as basic here. Hence, if in a language two or more unrelated functions are consistently expressed with the same marker, this is counted as only one case. The complete syncretism of dative and locative in Serbian-Croatian is thus considered as a single category. On the other hand, allomorphic case markers and free variants are not counted as separate cases as long as they are not associated with a discernible difference in meaning. In allomorphy-rich languages like Russian (see (5)) the general case paradigm is found by comparing the distinctive distribution patterns of markers across all productive declension classes. If in a language animate and inanimate nouns show divergent case inventories, the cases are added together even though no nominal is capable of inflecting for all of them.\n",
        "The functional part of the above definition entails a number of stipulations. Categories with pragmatic (non-syntactic) functions, such as vocatives or topic markers, are not counted as case even if they are morphologically integrated into case paradigms. Genitives are counted as long as they do not encode categories of the possessum like number or gender as well, if they do not show explicit adjective-like properties. However, genitives may take additional case affixes agreeing with the head noun case (\"double case\", Plank 1995); in that case they are not regarded as adjectival. Case-stacking, i.e. the obligatory affixation of certain case markers to already case-inflected bases, has been dealt with by counting the markers separately if both markers contribute to the combined meaning of the resulting word form (cf. Comrie 1999). Case-like markers with derivational character are not taken into account. For example, \"locative\" suffixes that can derive body-part nouns which may occur in all semantically permitted syntactic positions (i.e. not only as locational adverbials), are not counted as case.\n",
        "In a departure from Blake, a more generous stance has been taken with regard to clitic and adpositional case marking. A marker does not necessarily have to be attached to the phrasal head to be counted as nominal case; it is only required that the marker show a sufficient degree of bondedness (phonological integration) with its host noun in basic syntactic constructions – i.e. in non-expanded, head-only NPs. The reason for doing this is that postpositions (independent words), phrasal clitics and inflectional case morphemes are diachronically interconnected on a grammaticalization cline, and it seems rather arbitrary to set up cut-off points on it. Furthermore, it is often problematic to decide whether in a given language a pre-specified cut-off point has or has not been crossed (given the particular morphosyntactic properties of the language or the shortcomings of the extant descriptions). Finally, taking the semantic side of the case categories into account, there is little reason to keep clitic case marking separated from affixal marking only because of gradual differences in bondedness, while functionally categories in two languages representing different morphological types may be straightforwardly comparable.\n",
        "''')"
      ],
      "metadata": {
        "id": "ZADsh5nsusID"
      },
      "execution_count": null,
      "outputs": []
    },
    {
      "cell_type": "markdown",
      "source": [
        "## Prompts"
      ],
      "metadata": {
        "id": "iNSrKryNXrGP"
      }
    },
    {
      "cell_type": "markdown",
      "metadata": {
        "id": "HMngFyZUc07c"
      },
      "source": [
        "### Word Order:"
      ]
    },
    {
      "cell_type": "code",
      "execution_count": null,
      "metadata": {
        "id": "MIG21uZnlc5L"
      },
      "outputs": [],
      "source": [
        "def get_word_order_prompt(file_path, language_name, wals_or_grambank):\n",
        "    prompt = dedent(f'''\n",
        "    Please determine the dominant word order (order of subject, object, and verb) in the language {language_name} based on paragraphs from a descriptive grammar.\n",
        "    The paragraphs will be given in the order they appear in the grammar.\n",
        "    The term \"dominant word order\" in the context of this feature refers to the dominant order of constituents in declarative sentences, in the case where both the subject and the object participants are nouns.\n",
        "    Reply with one of the 8 following options: SOV, SVO, VOS, VSO, OVS, OSV, No dominant order, Not mentioned in the grammar.\n",
        "    1. Provide the reasoning for the chosen option.\n",
        "    2. After the reasoning, output the word \"Conclusion:\" and the chosen option at the end of your response.\\n\n",
        "    ''')\n",
        "\n",
        "    prompt += 'Definition of word order:\\n\\n' + word_order_wiki + '\\n\\n'\n",
        "\n",
        "    if wals_or_grambank:\n",
        "        prompt += 'Guidelines and examples for determining dominant word order:\\n' + word_order_wals + '\\n'\n",
        "\n",
        "    df_paragraphs = pd.read_csv(file_path)\n",
        "    paragraphs = list(df_paragraphs['Paragraph'])\n",
        "    for i in range(len(paragraphs)):\n",
        "        paragraphs[i] = f'Paragraph {i + 1}:\\n\\n' + paragraphs[i] + '\\n'\n",
        "    prompt += '\\n'.join(paragraphs)\n",
        "    return prompt"
      ]
    },
    {
      "cell_type": "code",
      "source": [
        "def get_negation_prompt(file_path, language_name, wals_or_grambank):\n",
        "    prompt = dedent(f'''\n",
        "    Please determine if standard negation in the language {language_name} can be marked by a modification of the verb or an affix/clitic that is phonologically bound to the verb, based on paragraphs from a descriptive grammar.\n",
        "    The paragraphs will be given in the order they appear in the grammar.\n",
        "    The term \"standard negation\" refers to constructions that mark negation in declarative sentences involving dynamic (not-stative) verbal predicates.\n",
        "    Morphemes that attach (become phonologically bound) to other constituents, not verbs only, do not count.\n",
        "    Clitic boundaries are marked in the glosses by an equals sign: \"=\".\n",
        "    Affix boundaries are marked in the glosses by a dash: \"-\".\n",
        "    Separate words (i. e. particles that are not phonologically bound to other words) are separated from other words by spaces.\n",
        "    Choose one of the 2 following options: 1, 0.\n",
        "    Reply with 1 if standard negation in the language {language_name} can be marked by an affix, clitic or modification of the verb.\n",
        "    Reply with 0 if standard negation in {language_name} cannot be marked by an affix, clitic or modification of the verb.\n",
        "    Reply with 0 if it is not possible to determine the method of negation from the given paragraphs.\n",
        "    1. Provide the reasoning for the chosen option.\n",
        "    2. After the reasoning, output the word \"Conclusion:\" and the chosen option at the end of your response.\\n\n",
        "    ''')\n",
        "\n",
        "    prompt += 'Definition of affirmation and negation:\\n\\n' + negation_wiki + '\\n\\n'\n",
        "\n",
        "    if wals_or_grambank:\n",
        "        prompt += 'Guidelines and examples for determining the method of standard negation:\\n' + negation_grambank + '\\n'\n",
        "\n",
        "    df_paragraphs = pd.read_csv(file_path)\n",
        "    paragraphs = list(df_paragraphs['Paragraph'])\n",
        "    for i in range(len(paragraphs)):\n",
        "        paragraphs[i] = f'Paragraph {i + 1}:\\n\\n' + paragraphs[i] + '\\n'\n",
        "    prompt += '\\n'.join(paragraphs)\n",
        "    return prompt"
      ],
      "metadata": {
        "id": "dXe0c1fMd4w7"
      },
      "execution_count": null,
      "outputs": []
    },
    {
      "cell_type": "code",
      "source": [
        "def get_polar_questions_prompt(file_path, language_name, wals_or_grambank):\n",
        "    prompt = dedent(f'''\n",
        "    Please determine all possible strategies for forming polar questions (yes-no questions) in the language {language_name} based on paragraphs from a descriptive grammar.\n",
        "    The paragraphs will be given in the order they appear in the grammar.\n",
        "    Consider neutral polar questions only (non-neutral, or leading, polar questions indicate that the speaker expects a particular response).\n",
        "    The 7 strategies for forming polar questions are the following: Interrogative intonation only, Interrogative word order, Clause-initial question particle, Clause-final question particle, Clause-medial question particle, Interrogative verb morphology, Tone.\n",
        "    Clitic boundaries are marked in the glosses by an equals sign: \"=\".\n",
        "    Affix boundaries are marked in the glosses by a dash: \"-\".\n",
        "    Separate words (e. g. particles that are not phonologically bound to other words) are separated from other words by spaces.\n",
        "    For this feature, count interrogative clitics as particles if they can be bound to other constituents in the sentence, not to the verb only.\n",
        "    Interrogative morphemes that can be phonologically bound to the verb only are counted as interrogative verbal morphology.\n",
        "    If a morpheme (for example, clitic or particle) can follow any constituent, which can be in various positions within the clause, including the clause-final position, code 1 for both \"Clause-medial question particle\" and \"Clause-final question particle\".\n",
        "    If a morpheme (for example, clitic or particle) can precede any constituent, which can be in various positions within the clause, including the clause-initial position, code 1 for both \"Clause-initial question particle\" and \"Clause-medial question particle\".\n",
        "    For each strategy, code 1 if it is present in the described language; code 0 if the grammar does not mention this strategy or explicitly states that it is absent in the language.\n",
        "    It is possible that none of the 7 strategies are mentioned in the grammar; in this case, code all strategies as 0.\n",
        "    Example of the output for a language that marks polar questions either with interrogative intonation only or with a clause-final interrogative particle:\n",
        "    \"Interrogative intonation only: 1, Interrogative word order: 0, Clause-initial question particle: 0, Clause-final question particle: 1, Clause-medial question particle: 0, Interrogative verb morphology: 0, Tone: 0\"\n",
        "    1. Provide the reasoning for the chosen option.\n",
        "    2. After the reasoning, output the word \"Conclusion:\" and the chosen option at the end of your response.\\n\n",
        "    ''')\n",
        "\n",
        "    prompt += 'Definition of polar questions:\\n\\n' + polar_questions_wiki + '\\n\\n'\n",
        "\n",
        "    if wals_or_grambank:\n",
        "        prompt += 'Guidelines and examples for determining the method of forming polar questions:\\n' + polar_questions_grambank + '\\n'\n",
        "\n",
        "    df_paragraphs = pd.read_csv(file_path)\n",
        "    paragraphs = list(df_paragraphs['Paragraph'])\n",
        "    for i in range(len(paragraphs)):\n",
        "        paragraphs[i] = f'Paragraph {i + 1}:\\n\\n' + paragraphs[i] + '\\n'\n",
        "    prompt += '\\n'.join(paragraphs)\n",
        "    return prompt"
      ],
      "metadata": {
        "id": "bHKsN9dVo65x"
      },
      "execution_count": null,
      "outputs": []
    },
    {
      "cell_type": "code",
      "source": [
        "def get_number_of_cases_prompt(file_path, language_name, wals_or_grambank):\n",
        "    prompt = dedent(f'''\n",
        "    Please determine the number of cases in the language {language_name} based on paragraphs from a descriptive grammar.\n",
        "    The paragraphs will be given in the order they appear in the grammar.\n",
        "    The term \"cases\" in the context of this feature refers to productive case paradigms of nouns.\n",
        "    Reply with one of the 9 following options: No morphological case-marking, 2 cases, 3 cases, 4 cases, 5 cases, 6-7 cases, 8-9 cases, 10 or more cases, Exclusively borderline case-marking.\n",
        "    The feature value \"Exclusively borderline case-marking\" refers to languages which have overt marking only for concrete (or \"peripheral\", or “semantic”) case relations, such as locatives or instrumentals.\n",
        "    Categories with pragmatic (non-syntactic) functions, such as vocatives or topic markers, are not counted as case even if they are morphologically integrated into case paradigms.\n",
        "    Genitives are counted as long as they do not encode categories of the possessum like number or gender as well, if they do not show explicit adjective-like properties. Genitives that may take additional case affixes agreeing with the head noun case (\"double case\") are not regarded as adjectival.\n",
        "    1. Provide the reasoning for the chosen option.\n",
        "    2. After the reasoning, output the word \"Conclusion:\" and the chosen option at the end of your response.\\n\n",
        "    ''')\n",
        "\n",
        "    prompt += 'Definition of grammatical case:\\n\\n' + grammatical_case_wiki + '\\n\\n'\n",
        "\n",
        "    if wals_or_grambank:\n",
        "        prompt += 'Guidelines and examples for determining the number of cases:\\n' + number_of_cases_wals + '\\n'\n",
        "\n",
        "    df_paragraphs = pd.read_csv(file_path)\n",
        "    paragraphs = list(df_paragraphs['Paragraph'])\n",
        "    for i in range(len(paragraphs)):\n",
        "        paragraphs[i] = f'Paragraph {i + 1}:\\n\\n' + paragraphs[i] + '\\n'\n",
        "    prompt += '\\n'.join(paragraphs)\n",
        "    return prompt"
      ],
      "metadata": {
        "id": "7K_olphms21L"
      },
      "execution_count": null,
      "outputs": []
    },
    {
      "cell_type": "markdown",
      "source": [
        "## RAG on Dataset with Batch Inference"
      ],
      "metadata": {
        "id": "NdivWXtOcvuT"
      }
    },
    {
      "cell_type": "code",
      "source": [
        "def get_list_of_prompts(prompt_function, df_ground_truth, path_to_paragraphs, wals_or_grambank):\n",
        "    prompts = []\n",
        "    input_column_name = 'Language'\n",
        "\n",
        "    for index, row in tqdm(df_ground_truth.iterrows(), total=len(df_ground_truth)):\n",
        "        filename = row['Filename']\n",
        "        file_path = f'{path_to_paragraphs}{filename}.csv'\n",
        "        if os.path.isfile(file_path):\n",
        "            prompt = prompt_function(file_path, row[input_column_name], wals_or_grambank=wals_or_grambank)\n",
        "        else:\n",
        "            prompt = ''\n",
        "        num_tokens = num_tokens_from_string(prompt)\n",
        "        while num_tokens > 128000:\n",
        "            num_characters = math.floor(len(prompt) * 128000 / (num_tokens + 1000))\n",
        "            prompt = prompt[:num_characters]\n",
        "            num_tokens = num_tokens_from_string(prompt)\n",
        "        prompts.append(prompt)\n",
        "    return prompts"
      ],
      "metadata": {
        "id": "fnKD1zLgc0r_"
      },
      "execution_count": null,
      "outputs": []
    },
    {
      "cell_type": "code",
      "source": [
        "def create_jsonl_file(prompts, out_path):\n",
        "    with open(out_path, 'w') as outfile:\n",
        "        for i, prompt in enumerate(prompts):\n",
        "            if len(prompt) > 0:\n",
        "                entry = {\n",
        "                    'custom_id': f'request-{i+1}',\n",
        "                    'method': 'POST',\n",
        "                    'url': '/v1/chat/completions',\n",
        "                    'body': {\n",
        "                            'model': 'gpt-4o',\n",
        "                            'temperature': 0.2,\n",
        "                            'messages': [\n",
        "                                  {\n",
        "                                      'role': 'system',\n",
        "                                      'content': 'You are an expert in linguistic typology, with a deep understanding of typological features and classification of languages around the world.',\n",
        "                                  },\n",
        "                                  {\n",
        "                                      'role': 'user',\n",
        "                                      'content': prompt,\n",
        "                                  }\n",
        "                            ]\n",
        "                      }\n",
        "                }\n",
        "                print(json.dumps(entry), file=outfile)"
      ],
      "metadata": {
        "id": "e8AFNaVcymeU"
      },
      "execution_count": null,
      "outputs": []
    },
    {
      "cell_type": "code",
      "source": [
        "def batch_inference(filename):\n",
        "    batch_input_file = client.files.create(\n",
        "        file=open(filename, 'rb'),\n",
        "        purpose='batch'\n",
        "    )\n",
        "    batch_input_file_id = batch_input_file.id\n",
        "    description = filename.replace('/content/drive/MyDrive/RAG Prompts/', '')\n",
        "\n",
        "    batch = client.batches.create(\n",
        "        input_file_id=batch_input_file_id,\n",
        "        endpoint='/v1/chat/completions',\n",
        "        completion_window='24h',\n",
        "        metadata={\n",
        "            'description': f'{description}'\n",
        "        }\n",
        "    )\n",
        "    print(f'File: {description}')\n",
        "    print(batch)\n",
        "    print()"
      ],
      "metadata": {
        "id": "1qzWz1ydykpx"
      },
      "execution_count": null,
      "outputs": []
    },
    {
      "cell_type": "code",
      "source": [
        "def rag_batch_inference(prompt_function, df_ground_truth, out_path, path_to_paragraphs=None, wals_or_grambank=None):\n",
        "    prompts = get_list_of_prompts(prompt_function, df_ground_truth, path_to_paragraphs, wals_or_grambank)\n",
        "    create_jsonl_file(prompts, out_path)\n",
        "    #batch_inference(out_path)"
      ],
      "metadata": {
        "id": "oCyuAF5no0dG"
      },
      "execution_count": null,
      "outputs": []
    },
    {
      "cell_type": "markdown",
      "source": [
        "## WALS 81A: Word Order"
      ],
      "metadata": {
        "id": "F2whwXmxcXwd"
      }
    },
    {
      "cell_type": "code",
      "source": [
        "path_to_paragraphs = '/content/drive/MyDrive/Grammars Paragraphs/WALS 81A/Ablation/'"
      ],
      "metadata": {
        "id": "sshKpDZvIuph"
      },
      "execution_count": null,
      "outputs": []
    },
    {
      "cell_type": "markdown",
      "source": [
        "### Default"
      ],
      "metadata": {
        "id": "Irr68PJkcvqx"
      }
    },
    {
      "cell_type": "code",
      "source": [
        "prompt_out_path = '/content/drive/MyDrive/RAG Prompts/WALS 81A/ablation_default.jsonl'\n",
        "rag_batch_inference(get_word_order_prompt, df_ground_truth, prompt_out_path, path_to_paragraphs, wals_or_grambank=False)"
      ],
      "metadata": {
        "id": "bUhg2NJBcVaZ",
        "colab": {
          "base_uri": "https://localhost:8080/",
          "height": 121,
          "referenced_widgets": [
            "a73d7daa14b2482fa332312bcf166ccf",
            "524eafa6c9ff470ea818d4617fa78e4a",
            "7fb6f1b09bec4cc1b2caff4789b38d23",
            "df2e95470ee74bc0aecf726aa896d249",
            "8fdbcbc54e7349ae8f1c0713f3e01150",
            "36be2b3ee0204a4e9ac5b8026c089911",
            "d5caa2a769484c95a77aaa66f48b03be",
            "a45edbe2b9714522a0783b9f113f1dfc",
            "0862b60f052c4605b81fd24c3bf1234e",
            "0ff810ca70a54253b4d586e0177c1bdc",
            "7754cad82f224c3d85a727e66760a52e"
          ]
        },
        "outputId": "359b009b-2354-4094-ec9c-7455a96d8c70"
      },
      "execution_count": null,
      "outputs": [
        {
          "output_type": "display_data",
          "data": {
            "text/plain": [
              "  0%|          | 0/148 [00:00<?, ?it/s]"
            ],
            "application/vnd.jupyter.widget-view+json": {
              "version_major": 2,
              "version_minor": 0,
              "model_id": "a73d7daa14b2482fa332312bcf166ccf"
            }
          },
          "metadata": {}
        },
        {
          "output_type": "stream",
          "name": "stdout",
          "text": [
            "File: WALS 81A/ablation_default.jsonl\n",
            "Batch(id='batch_v9bxeYU1ukiA0mpAIMwrzQah', completion_window='24h', created_at=1726358578, endpoint='/v1/chat/completions', input_file_id='file-S0lhNFOKaCt3GCOC3x1VOS0H', object='batch', status='validating', cancelled_at=None, cancelling_at=None, completed_at=None, error_file_id=None, errors=None, expired_at=None, expires_at=1726444978, failed_at=None, finalizing_at=None, in_progress_at=None, metadata={'description': 'WALS 81A/ablation_default.jsonl'}, output_file_id=None, request_counts=BatchRequestCounts(completed=0, failed=0, total=0))\n",
            "\n"
          ]
        }
      ]
    },
    {
      "cell_type": "markdown",
      "source": [
        "### With WALS"
      ],
      "metadata": {
        "id": "-cMe_rs30t0W"
      }
    },
    {
      "cell_type": "code",
      "execution_count": null,
      "metadata": {
        "id": "xcJjHeiMuJIQ",
        "colab": {
          "base_uri": "https://localhost:8080/",
          "height": 121,
          "referenced_widgets": [
            "35ab45ce8d364e039f5ecef39adc235b",
            "76fdce0fcf6146979ab17ea0ad59b1cc",
            "c473ed9fccc44c49bcc0ba824600258b",
            "0e3a64b30d7e463692678235decbd12a",
            "25f01eec06fd48378d6e80f24505f451",
            "e62db7fb76684ea2920f47b65620cf96",
            "158b9111c805441a80be96e4584947fa",
            "d7b2367962d5430f9c55bc687a5907dc",
            "145a9e305ea849dcab94eda528975bed",
            "4192cf2459e4454cbb8b5fbc74f87ead",
            "e49f7a714cf74290978e5aabb596cd63"
          ]
        },
        "outputId": "26f115a2-511a-4f5a-ce53-61ce2f86bfd2"
      },
      "outputs": [
        {
          "output_type": "display_data",
          "data": {
            "text/plain": [
              "  0%|          | 0/148 [00:00<?, ?it/s]"
            ],
            "application/vnd.jupyter.widget-view+json": {
              "version_major": 2,
              "version_minor": 0,
              "model_id": "35ab45ce8d364e039f5ecef39adc235b"
            }
          },
          "metadata": {}
        },
        {
          "output_type": "stream",
          "name": "stdout",
          "text": [
            "File: WALS 81A/ablation_with_guidelines.jsonl\n",
            "Batch(id='batch_wAzXFjudwZKLPJzcvMExzWlA', completion_window='24h', created_at=1726358580, endpoint='/v1/chat/completions', input_file_id='file-yeEp4j1Neq7933UWLWj5pgIy', object='batch', status='validating', cancelled_at=None, cancelling_at=None, completed_at=None, error_file_id=None, errors=None, expired_at=None, expires_at=1726444980, failed_at=None, finalizing_at=None, in_progress_at=None, metadata={'description': 'WALS 81A/ablation_with_guidelines.jsonl'}, output_file_id=None, request_counts=BatchRequestCounts(completed=0, failed=0, total=0))\n",
            "\n"
          ]
        }
      ],
      "source": [
        "prompt_out_path = '/content/drive/MyDrive/RAG Prompts/WALS 81A/ablation_with_guidelines.jsonl'\n",
        "rag_batch_inference(get_word_order_prompt, df_ground_truth, prompt_out_path, path_to_paragraphs, wals_or_grambank=True)"
      ]
    },
    {
      "cell_type": "markdown",
      "source": [
        "## GB 107: Can standard negation be marked by an affix, clitic or modification of the verb?"
      ],
      "metadata": {
        "id": "OnmE5uQ-ABA7"
      }
    },
    {
      "cell_type": "code",
      "source": [
        "path_to_paragraphs = '/content/drive/MyDrive/Grammars Paragraphs/GB 107/Ablation/'"
      ],
      "metadata": {
        "id": "wtOisGQGJ-uv"
      },
      "execution_count": null,
      "outputs": []
    },
    {
      "cell_type": "markdown",
      "source": [
        "### Default"
      ],
      "metadata": {
        "id": "8eQRPPNQAVo8"
      }
    },
    {
      "cell_type": "code",
      "source": [
        "prompt_out_path = '/content/drive/MyDrive/RAG Prompts/GB 107/ablation_default.jsonl'\n",
        "rag_batch_inference(get_negation_prompt, df_ground_truth, prompt_out_path, path_to_paragraphs, wals_or_grambank=False)"
      ],
      "metadata": {
        "id": "HkQF1tUNAHHz",
        "colab": {
          "base_uri": "https://localhost:8080/",
          "height": 121,
          "referenced_widgets": [
            "081dea644bba426789a431fb587ff7fa",
            "cd9a581319c64880bc2e4f9e38ab34bf",
            "4a0ce5b90d0f435bb703d2ceeb01de6d",
            "409276ad23fc4666a2a1bc0d9b8ee404",
            "0a7434434341451e8089364b3750e9b5",
            "2bb6682963ea42bd95271a57d6065245",
            "fdeba72f9e124908b391de40a97e5f08",
            "d64ad31a2780436cad205809b36a5e5d",
            "6dc95b2df0be4604ad3df2485ce1c9f6",
            "a1e4496385a54f5c9d625060d441e1ab",
            "a87bb1a45e9f4f439d4aa0b12c74e8b9"
          ]
        },
        "outputId": "867818bf-085f-48fb-e805-b43193e11d30"
      },
      "execution_count": null,
      "outputs": [
        {
          "output_type": "display_data",
          "data": {
            "text/plain": [
              "  0%|          | 0/148 [00:00<?, ?it/s]"
            ],
            "application/vnd.jupyter.widget-view+json": {
              "version_major": 2,
              "version_minor": 0,
              "model_id": "081dea644bba426789a431fb587ff7fa"
            }
          },
          "metadata": {}
        },
        {
          "output_type": "stream",
          "name": "stdout",
          "text": [
            "File: GB 107/ablation_default.jsonl\n",
            "Batch(id='batch_XstYJUepy8LMTwF5C5vDWmwU', completion_window='24h', created_at=1726358590, endpoint='/v1/chat/completions', input_file_id='file-9QOElOX7NckzQwCVFvcrEkUm', object='batch', status='validating', cancelled_at=None, cancelling_at=None, completed_at=None, error_file_id=None, errors=None, expired_at=None, expires_at=1726444990, failed_at=None, finalizing_at=None, in_progress_at=None, metadata={'description': 'GB 107/ablation_default.jsonl'}, output_file_id=None, request_counts=BatchRequestCounts(completed=0, failed=0, total=0))\n",
            "\n"
          ]
        }
      ]
    },
    {
      "cell_type": "markdown",
      "source": [
        "### With Grambank"
      ],
      "metadata": {
        "id": "YwYnIMPhAgVg"
      }
    },
    {
      "cell_type": "code",
      "source": [
        "prompt_out_path = '/content/drive/MyDrive/RAG Prompts/GB 107/ablation_with_guidelines.jsonl'\n",
        "rag_batch_inference(get_negation_prompt, df_ground_truth, prompt_out_path, path_to_paragraphs, wals_or_grambank=True)"
      ],
      "metadata": {
        "id": "9gVenZUS9aMF",
        "colab": {
          "base_uri": "https://localhost:8080/",
          "height": 121,
          "referenced_widgets": [
            "78d02f7c98464f95bbcba723108d1068",
            "0b1e97e922c34313b8969b96136f5d6b",
            "8f3540403e7744f7a76c2c2b938deb78",
            "bc76537cc3634443bbe8dab32841a811",
            "099ad00386394e7ca0c5b0c3e137f45c",
            "729c84c67d6b4a2db58d284ae032d9f9",
            "7178bffde1ef4e7b90167fb321c7dd22",
            "7a9a16f246534f729e962eab3f0b63c4",
            "f3a4623dcfa443998826a1ae275bda83",
            "39e73666a22944788a456590e9a243cd",
            "dd66ea896f414eb28a3e06b4d598d3fc"
          ]
        },
        "outputId": "6a3a8c0c-0928-4fe5-9ce7-e0c2acc8980d"
      },
      "execution_count": null,
      "outputs": [
        {
          "output_type": "display_data",
          "data": {
            "text/plain": [
              "  0%|          | 0/148 [00:00<?, ?it/s]"
            ],
            "application/vnd.jupyter.widget-view+json": {
              "version_major": 2,
              "version_minor": 0,
              "model_id": "78d02f7c98464f95bbcba723108d1068"
            }
          },
          "metadata": {}
        },
        {
          "output_type": "stream",
          "name": "stdout",
          "text": [
            "File: GB 107/ablation_with_guidelines.jsonl\n",
            "Batch(id='batch_EImd7mM53kDoGHk7znEyZIVk', completion_window='24h', created_at=1726358596, endpoint='/v1/chat/completions', input_file_id='file-wNTU4SfQvrVHOg5grA94gLmC', object='batch', status='validating', cancelled_at=None, cancelling_at=None, completed_at=None, error_file_id=None, errors=None, expired_at=None, expires_at=1726444996, failed_at=None, finalizing_at=None, in_progress_at=None, metadata={'description': 'GB 107/ablation_with_guidelines.jsonl'}, output_file_id=None, request_counts=BatchRequestCounts(completed=0, failed=0, total=0))\n",
            "\n"
          ]
        }
      ]
    },
    {
      "cell_type": "markdown",
      "source": [
        "## WALS 116A: Polar Questions"
      ],
      "metadata": {
        "id": "TnEp_28wBBmg"
      }
    },
    {
      "cell_type": "code",
      "source": [
        "path_to_paragraphs = '/content/drive/MyDrive/Grammars Paragraphs/WALS 116A/Ablation/'"
      ],
      "metadata": {
        "id": "EeTHCJQpLIt8"
      },
      "execution_count": null,
      "outputs": []
    },
    {
      "cell_type": "markdown",
      "source": [
        "### Default"
      ],
      "metadata": {
        "id": "57qzOirDCisS"
      }
    },
    {
      "cell_type": "code",
      "source": [
        "prompt_out_path = '/content/drive/MyDrive/RAG Prompts/WALS 116A/ablation_default.jsonl'\n",
        "rag_batch_inference(get_polar_questions_prompt, df_ground_truth, prompt_out_path, path_to_paragraphs, wals_or_grambank=False)"
      ],
      "metadata": {
        "id": "qo2k8M3SChVF",
        "colab": {
          "base_uri": "https://localhost:8080/",
          "height": 121,
          "referenced_widgets": [
            "c9fce5e97e7447c7b566c4d14440b9e9",
            "2d52ee61b40744d5a8499577e4aa8a6e",
            "297131d367be43e388d05bea4b9cdba9",
            "b4c191badfde48a5b9197a25f0c29d5d",
            "68cd2949f779414c800f2ed902158a99",
            "5ffb3a46fecd478fa3e9c362f0f292d7",
            "60855ce85dd84ac2b48031e5ae296438",
            "8a62780974354c74be7dc2e778daeff3",
            "233d8b2c02e34f89baa887fcee4dd9d9",
            "9ecc1844048d4f82a50392d31011e086",
            "8383bc5523c3452aa1143facd5c2d194"
          ]
        },
        "outputId": "a89d5724-81f8-42d3-efb4-9ca9475438d2"
      },
      "execution_count": null,
      "outputs": [
        {
          "output_type": "display_data",
          "data": {
            "text/plain": [
              "  0%|          | 0/148 [00:00<?, ?it/s]"
            ],
            "application/vnd.jupyter.widget-view+json": {
              "version_major": 2,
              "version_minor": 0,
              "model_id": "c9fce5e97e7447c7b566c4d14440b9e9"
            }
          },
          "metadata": {}
        },
        {
          "output_type": "stream",
          "name": "stdout",
          "text": [
            "File: WALS 116A/ablation_default.jsonl\n",
            "Batch(id='batch_ihC6uNSQ3NEQoyfuZ2rvCQAX', completion_window='24h', created_at=1726358600, endpoint='/v1/chat/completions', input_file_id='file-RFext1FLPtlqhGcUo2F52j94', object='batch', status='validating', cancelled_at=None, cancelling_at=None, completed_at=None, error_file_id=None, errors=None, expired_at=None, expires_at=1726445000, failed_at=None, finalizing_at=None, in_progress_at=None, metadata={'description': 'WALS 116A/ablation_default.jsonl'}, output_file_id=None, request_counts=BatchRequestCounts(completed=0, failed=0, total=0))\n",
            "\n"
          ]
        }
      ]
    },
    {
      "cell_type": "markdown",
      "source": [
        "### With WALS"
      ],
      "metadata": {
        "id": "ljp8jQriFYax"
      }
    },
    {
      "cell_type": "code",
      "source": [
        "prompt_out_path = '/content/drive/MyDrive/RAG Prompts/WALS 116A/ablation_with_guidelines.jsonl'\n",
        "rag_batch_inference(get_polar_questions_prompt, df_ground_truth, prompt_out_path, path_to_paragraphs, wals_or_grambank=True)"
      ],
      "metadata": {
        "id": "nZ_Y9xFqFVrq",
        "colab": {
          "base_uri": "https://localhost:8080/",
          "height": 121,
          "referenced_widgets": [
            "62f41084c0824d24872d87a5edc05812",
            "5560b1a9c903480890e84245f3a013af",
            "be83b4b10a6748b7860d79ab65e1fd1b",
            "482703a1e8f9475685be14e6489cda7e",
            "9961f36ec15f4320a3fbcfeb068140c2",
            "4eb7a880facc4ab0aca50ce2647a05e5",
            "3e62d7cb21064899a883e5ce24596c87",
            "045ab266ab2e470e9953ade2bf397228",
            "c9769372e7c1421890f802a6ed66d297",
            "be275735d6b84a2abd717aa5f4a11c7d",
            "034b366a100047c68821a094143da3ec"
          ]
        },
        "outputId": "a98f749e-9dc6-42c7-c0b5-e827e469c542"
      },
      "execution_count": null,
      "outputs": [
        {
          "output_type": "display_data",
          "data": {
            "text/plain": [
              "  0%|          | 0/148 [00:00<?, ?it/s]"
            ],
            "application/vnd.jupyter.widget-view+json": {
              "version_major": 2,
              "version_minor": 0,
              "model_id": "62f41084c0824d24872d87a5edc05812"
            }
          },
          "metadata": {}
        },
        {
          "output_type": "stream",
          "name": "stdout",
          "text": [
            "File: WALS 116A/ablation_with_guidelines.jsonl\n",
            "Batch(id='batch_uyiviqBf3Uq4L6YDOgarvJ1F', completion_window='24h', created_at=1726358603, endpoint='/v1/chat/completions', input_file_id='file-wqq80KygtMUIy7OW4KgKJc5g', object='batch', status='validating', cancelled_at=None, cancelling_at=None, completed_at=None, error_file_id=None, errors=None, expired_at=None, expires_at=1726445003, failed_at=None, finalizing_at=None, in_progress_at=None, metadata={'description': 'WALS 116A/ablation_with_guidelines.jsonl'}, output_file_id=None, request_counts=BatchRequestCounts(completed=0, failed=0, total=0))\n",
            "\n"
          ]
        }
      ]
    },
    {
      "cell_type": "markdown",
      "source": [
        "## WALS 49A: Number of Cases"
      ],
      "metadata": {
        "id": "tkYxaCFzF1o1"
      }
    },
    {
      "cell_type": "code",
      "source": [
        "path_to_paragraphs = '/content/drive/MyDrive/Grammars Paragraphs/WALS 49A/Ablation/'"
      ],
      "metadata": {
        "id": "qD8p-Z2nMDwS"
      },
      "execution_count": null,
      "outputs": []
    },
    {
      "cell_type": "markdown",
      "source": [
        "### Default"
      ],
      "metadata": {
        "id": "VvoMUamwF-nI"
      }
    },
    {
      "cell_type": "code",
      "source": [
        "prompt_out_path = '/content/drive/MyDrive/RAG Prompts/WALS 49A/ablation_default.jsonl'\n",
        "rag_batch_inference(get_number_of_cases_prompt, df_ground_truth_number_of_cases, prompt_out_path, path_to_paragraphs, wals_or_grambank=False)"
      ],
      "metadata": {
        "id": "0DTltRoTF5TH",
        "colab": {
          "base_uri": "https://localhost:8080/",
          "height": 121,
          "referenced_widgets": [
            "2f22ac20f1684d849d6a66580899bc8a",
            "f9b83ee43e7240ff8b96de5bd7936234",
            "2fc49dcc80b948949ac9603f1ab2e79e",
            "b6f9436c19524256999187760e4b87d2",
            "52c33c1e90d24d17aa39dbce331327da",
            "b78bf604fbd648359e4a20be3bdbb62d",
            "5acd0b1ca3ce4395aac1682de0b65326",
            "f843f53393b94ca29dba853f8e20f97d",
            "b19aed04c55a4514bf99d546b0351966",
            "5c01fd87d9c5465a95a33da594deb41d",
            "cd11ae21e99140dcacaaad1c830ffac2"
          ]
        },
        "outputId": "ad741451-bac7-48bd-fb96-805f6ad5a636"
      },
      "execution_count": null,
      "outputs": [
        {
          "output_type": "display_data",
          "data": {
            "text/plain": [
              "  0%|          | 0/148 [00:00<?, ?it/s]"
            ],
            "application/vnd.jupyter.widget-view+json": {
              "version_major": 2,
              "version_minor": 0,
              "model_id": "2f22ac20f1684d849d6a66580899bc8a"
            }
          },
          "metadata": {}
        },
        {
          "output_type": "stream",
          "name": "stdout",
          "text": [
            "File: WALS 49A/ablation_default.jsonl\n",
            "Batch(id='batch_jQcQfjCAjHvPiy5xHuGMh64c', completion_window='24h', created_at=1726358609, endpoint='/v1/chat/completions', input_file_id='file-deYM3VB7hirn16Riv4b88z6T', object='batch', status='validating', cancelled_at=None, cancelling_at=None, completed_at=None, error_file_id=None, errors=None, expired_at=None, expires_at=1726445009, failed_at=None, finalizing_at=None, in_progress_at=None, metadata={'description': 'WALS 49A/ablation_default.jsonl'}, output_file_id=None, request_counts=BatchRequestCounts(completed=0, failed=0, total=0))\n",
            "\n"
          ]
        }
      ]
    },
    {
      "cell_type": "markdown",
      "source": [
        "### With WALS"
      ],
      "metadata": {
        "id": "wRY_nBX7GBN5"
      }
    },
    {
      "cell_type": "code",
      "source": [
        "prompt_out_path = '/content/drive/MyDrive/RAG Prompts/WALS 49A/ablation_with_guidelines.jsonl'\n",
        "rag_batch_inference(get_number_of_cases_prompt, df_ground_truth_number_of_cases, prompt_out_path, path_to_paragraphs, wals_or_grambank=True)"
      ],
      "metadata": {
        "id": "k4Pnmgt7F88G",
        "colab": {
          "base_uri": "https://localhost:8080/",
          "height": 121,
          "referenced_widgets": [
            "6fc824089f0f4c1fa93c0c0938d68186",
            "0288be9578454b119a01bb8ab2794a44",
            "c2713c3bd7a14966913bac0f5b5dc783",
            "2122d707ede74a6592a5adeccb7a16a0",
            "029087a60d614069984fc15da5985f33",
            "f30bc65147eb4466a23a54e4c08192cc",
            "7f6c3dd6290b429fb11c4bb4ff57f4a8",
            "33f7e6fa8fff496a9097de395988e8e5",
            "633c5212d4a64072b881ced12c54b5c0",
            "7afc1884692f455d83c77aa708b1c0b8",
            "45e0b4fb94e048c88ef33f5c7d743764"
          ]
        },
        "outputId": "1b7d80f3-807f-4a35-f92b-300804b23e01"
      },
      "execution_count": null,
      "outputs": [
        {
          "output_type": "display_data",
          "data": {
            "text/plain": [
              "  0%|          | 0/148 [00:00<?, ?it/s]"
            ],
            "application/vnd.jupyter.widget-view+json": {
              "version_major": 2,
              "version_minor": 0,
              "model_id": "6fc824089f0f4c1fa93c0c0938d68186"
            }
          },
          "metadata": {}
        },
        {
          "output_type": "stream",
          "name": "stdout",
          "text": [
            "File: WALS 49A/ablation_with_guidelines.jsonl\n",
            "Batch(id='batch_CEQ6MORuHXVgoF4wWB8BpUh4', completion_window='24h', created_at=1726358615, endpoint='/v1/chat/completions', input_file_id='file-qHrw8FmDDgr24GT2A95HZUu1', object='batch', status='validating', cancelled_at=None, cancelling_at=None, completed_at=None, error_file_id=None, errors=None, expired_at=None, expires_at=1726445015, failed_at=None, finalizing_at=None, in_progress_at=None, metadata={'description': 'WALS 49A/ablation_with_guidelines.jsonl'}, output_file_id=None, request_counts=BatchRequestCounts(completed=0, failed=0, total=0))\n",
            "\n"
          ]
        }
      ]
    },
    {
      "cell_type": "markdown",
      "source": [
        "## Aggregating Outputs"
      ],
      "metadata": {
        "id": "wyborCB8XuS4"
      }
    },
    {
      "cell_type": "code",
      "source": [
        "def aggregate_output(file_id, file_path):\n",
        "    outputs_dict = {}\n",
        "    outputs = []\n",
        "    if 'WALS 49A' in file_path:\n",
        "        ground_truth = df_ground_truth_number_of_cases\n",
        "    else:\n",
        "        ground_truth = df_ground_truth\n",
        "\n",
        "    lang_names = ground_truth['Language'].values\n",
        "    feature = Path(file_path).parts[0]\n",
        "    pages = ground_truth[f'{feature}: PDF Pages'].values\n",
        "    ground_truth_values = [str(item).lower() for item in ground_truth[feature].values]\n",
        "\n",
        "    result = client.files.content(file_id).content\n",
        "    jsonl_string = result.decode('utf-8')\n",
        "    lines = jsonl_string.splitlines()\n",
        "    json_objects = [json.loads(line) for line in lines]\n",
        "    for obj in json_objects:\n",
        "        outputs_dict[obj['custom_id']] = obj['response']['body']['choices'][0]['message']['content']\n",
        "    for i in range(148):\n",
        "        if 'request-' + str(i+1) in outputs_dict:\n",
        "            outputs.append(outputs_dict['request-' + str(i+1)])\n",
        "        else:\n",
        "            outputs.append('')\n",
        "            if len(pages[i]) != 0:\n",
        "                print(f'Failed file: {file_path}, request-{str(i+1)}, language: {lang_names[i]}')\n",
        "    df = pd.DataFrame({'Language': lang_names, 'Response': outputs, 'Target': ground_truth_values})\n",
        "    out_path = os.path.join('/content/drive/MyDrive/RAG Results', file_path).replace('jsonl', 'csv')\n",
        "    df.to_csv(out_path, index=False)"
      ],
      "metadata": {
        "id": "s48DznTXMoxS"
      },
      "execution_count": null,
      "outputs": []
    },
    {
      "cell_type": "code",
      "source": [
        "for i, batch in enumerate(list(client.batches.list())[:8]):\n",
        "    file_id = batch.output_file_id\n",
        "    file_path = batch.metadata['description']\n",
        "    aggregate_output(file_id, file_path)"
      ],
      "metadata": {
        "id": "OdH3SVqeY2OI"
      },
      "execution_count": null,
      "outputs": []
    }
  ],
  "metadata": {
    "colab": {
      "provenance": []
    },
    "kernelspec": {
      "display_name": "Python 3",
      "name": "python3"
    },
    "language_info": {
      "name": "python"
    },
    "widgets": {
      "application/vnd.jupyter.widget-state+json": {
        "a73d7daa14b2482fa332312bcf166ccf": {
          "model_module": "@jupyter-widgets/controls",
          "model_name": "HBoxModel",
          "model_module_version": "1.5.0",
          "state": {
            "_dom_classes": [],
            "_model_module": "@jupyter-widgets/controls",
            "_model_module_version": "1.5.0",
            "_model_name": "HBoxModel",
            "_view_count": null,
            "_view_module": "@jupyter-widgets/controls",
            "_view_module_version": "1.5.0",
            "_view_name": "HBoxView",
            "box_style": "",
            "children": [
              "IPY_MODEL_524eafa6c9ff470ea818d4617fa78e4a",
              "IPY_MODEL_7fb6f1b09bec4cc1b2caff4789b38d23",
              "IPY_MODEL_df2e95470ee74bc0aecf726aa896d249"
            ],
            "layout": "IPY_MODEL_8fdbcbc54e7349ae8f1c0713f3e01150"
          }
        },
        "524eafa6c9ff470ea818d4617fa78e4a": {
          "model_module": "@jupyter-widgets/controls",
          "model_name": "HTMLModel",
          "model_module_version": "1.5.0",
          "state": {
            "_dom_classes": [],
            "_model_module": "@jupyter-widgets/controls",
            "_model_module_version": "1.5.0",
            "_model_name": "HTMLModel",
            "_view_count": null,
            "_view_module": "@jupyter-widgets/controls",
            "_view_module_version": "1.5.0",
            "_view_name": "HTMLView",
            "description": "",
            "description_tooltip": null,
            "layout": "IPY_MODEL_36be2b3ee0204a4e9ac5b8026c089911",
            "placeholder": "​",
            "style": "IPY_MODEL_d5caa2a769484c95a77aaa66f48b03be",
            "value": "100%"
          }
        },
        "7fb6f1b09bec4cc1b2caff4789b38d23": {
          "model_module": "@jupyter-widgets/controls",
          "model_name": "FloatProgressModel",
          "model_module_version": "1.5.0",
          "state": {
            "_dom_classes": [],
            "_model_module": "@jupyter-widgets/controls",
            "_model_module_version": "1.5.0",
            "_model_name": "FloatProgressModel",
            "_view_count": null,
            "_view_module": "@jupyter-widgets/controls",
            "_view_module_version": "1.5.0",
            "_view_name": "ProgressView",
            "bar_style": "success",
            "description": "",
            "description_tooltip": null,
            "layout": "IPY_MODEL_a45edbe2b9714522a0783b9f113f1dfc",
            "max": 148,
            "min": 0,
            "orientation": "horizontal",
            "style": "IPY_MODEL_0862b60f052c4605b81fd24c3bf1234e",
            "value": 148
          }
        },
        "df2e95470ee74bc0aecf726aa896d249": {
          "model_module": "@jupyter-widgets/controls",
          "model_name": "HTMLModel",
          "model_module_version": "1.5.0",
          "state": {
            "_dom_classes": [],
            "_model_module": "@jupyter-widgets/controls",
            "_model_module_version": "1.5.0",
            "_model_name": "HTMLModel",
            "_view_count": null,
            "_view_module": "@jupyter-widgets/controls",
            "_view_module_version": "1.5.0",
            "_view_name": "HTMLView",
            "description": "",
            "description_tooltip": null,
            "layout": "IPY_MODEL_0ff810ca70a54253b4d586e0177c1bdc",
            "placeholder": "​",
            "style": "IPY_MODEL_7754cad82f224c3d85a727e66760a52e",
            "value": " 148/148 [00:01&lt;00:00, 111.91it/s]"
          }
        },
        "8fdbcbc54e7349ae8f1c0713f3e01150": {
          "model_module": "@jupyter-widgets/base",
          "model_name": "LayoutModel",
          "model_module_version": "1.2.0",
          "state": {
            "_model_module": "@jupyter-widgets/base",
            "_model_module_version": "1.2.0",
            "_model_name": "LayoutModel",
            "_view_count": null,
            "_view_module": "@jupyter-widgets/base",
            "_view_module_version": "1.2.0",
            "_view_name": "LayoutView",
            "align_content": null,
            "align_items": null,
            "align_self": null,
            "border": null,
            "bottom": null,
            "display": null,
            "flex": null,
            "flex_flow": null,
            "grid_area": null,
            "grid_auto_columns": null,
            "grid_auto_flow": null,
            "grid_auto_rows": null,
            "grid_column": null,
            "grid_gap": null,
            "grid_row": null,
            "grid_template_areas": null,
            "grid_template_columns": null,
            "grid_template_rows": null,
            "height": null,
            "justify_content": null,
            "justify_items": null,
            "left": null,
            "margin": null,
            "max_height": null,
            "max_width": null,
            "min_height": null,
            "min_width": null,
            "object_fit": null,
            "object_position": null,
            "order": null,
            "overflow": null,
            "overflow_x": null,
            "overflow_y": null,
            "padding": null,
            "right": null,
            "top": null,
            "visibility": null,
            "width": null
          }
        },
        "36be2b3ee0204a4e9ac5b8026c089911": {
          "model_module": "@jupyter-widgets/base",
          "model_name": "LayoutModel",
          "model_module_version": "1.2.0",
          "state": {
            "_model_module": "@jupyter-widgets/base",
            "_model_module_version": "1.2.0",
            "_model_name": "LayoutModel",
            "_view_count": null,
            "_view_module": "@jupyter-widgets/base",
            "_view_module_version": "1.2.0",
            "_view_name": "LayoutView",
            "align_content": null,
            "align_items": null,
            "align_self": null,
            "border": null,
            "bottom": null,
            "display": null,
            "flex": null,
            "flex_flow": null,
            "grid_area": null,
            "grid_auto_columns": null,
            "grid_auto_flow": null,
            "grid_auto_rows": null,
            "grid_column": null,
            "grid_gap": null,
            "grid_row": null,
            "grid_template_areas": null,
            "grid_template_columns": null,
            "grid_template_rows": null,
            "height": null,
            "justify_content": null,
            "justify_items": null,
            "left": null,
            "margin": null,
            "max_height": null,
            "max_width": null,
            "min_height": null,
            "min_width": null,
            "object_fit": null,
            "object_position": null,
            "order": null,
            "overflow": null,
            "overflow_x": null,
            "overflow_y": null,
            "padding": null,
            "right": null,
            "top": null,
            "visibility": null,
            "width": null
          }
        },
        "d5caa2a769484c95a77aaa66f48b03be": {
          "model_module": "@jupyter-widgets/controls",
          "model_name": "DescriptionStyleModel",
          "model_module_version": "1.5.0",
          "state": {
            "_model_module": "@jupyter-widgets/controls",
            "_model_module_version": "1.5.0",
            "_model_name": "DescriptionStyleModel",
            "_view_count": null,
            "_view_module": "@jupyter-widgets/base",
            "_view_module_version": "1.2.0",
            "_view_name": "StyleView",
            "description_width": ""
          }
        },
        "a45edbe2b9714522a0783b9f113f1dfc": {
          "model_module": "@jupyter-widgets/base",
          "model_name": "LayoutModel",
          "model_module_version": "1.2.0",
          "state": {
            "_model_module": "@jupyter-widgets/base",
            "_model_module_version": "1.2.0",
            "_model_name": "LayoutModel",
            "_view_count": null,
            "_view_module": "@jupyter-widgets/base",
            "_view_module_version": "1.2.0",
            "_view_name": "LayoutView",
            "align_content": null,
            "align_items": null,
            "align_self": null,
            "border": null,
            "bottom": null,
            "display": null,
            "flex": null,
            "flex_flow": null,
            "grid_area": null,
            "grid_auto_columns": null,
            "grid_auto_flow": null,
            "grid_auto_rows": null,
            "grid_column": null,
            "grid_gap": null,
            "grid_row": null,
            "grid_template_areas": null,
            "grid_template_columns": null,
            "grid_template_rows": null,
            "height": null,
            "justify_content": null,
            "justify_items": null,
            "left": null,
            "margin": null,
            "max_height": null,
            "max_width": null,
            "min_height": null,
            "min_width": null,
            "object_fit": null,
            "object_position": null,
            "order": null,
            "overflow": null,
            "overflow_x": null,
            "overflow_y": null,
            "padding": null,
            "right": null,
            "top": null,
            "visibility": null,
            "width": null
          }
        },
        "0862b60f052c4605b81fd24c3bf1234e": {
          "model_module": "@jupyter-widgets/controls",
          "model_name": "ProgressStyleModel",
          "model_module_version": "1.5.0",
          "state": {
            "_model_module": "@jupyter-widgets/controls",
            "_model_module_version": "1.5.0",
            "_model_name": "ProgressStyleModel",
            "_view_count": null,
            "_view_module": "@jupyter-widgets/base",
            "_view_module_version": "1.2.0",
            "_view_name": "StyleView",
            "bar_color": null,
            "description_width": ""
          }
        },
        "0ff810ca70a54253b4d586e0177c1bdc": {
          "model_module": "@jupyter-widgets/base",
          "model_name": "LayoutModel",
          "model_module_version": "1.2.0",
          "state": {
            "_model_module": "@jupyter-widgets/base",
            "_model_module_version": "1.2.0",
            "_model_name": "LayoutModel",
            "_view_count": null,
            "_view_module": "@jupyter-widgets/base",
            "_view_module_version": "1.2.0",
            "_view_name": "LayoutView",
            "align_content": null,
            "align_items": null,
            "align_self": null,
            "border": null,
            "bottom": null,
            "display": null,
            "flex": null,
            "flex_flow": null,
            "grid_area": null,
            "grid_auto_columns": null,
            "grid_auto_flow": null,
            "grid_auto_rows": null,
            "grid_column": null,
            "grid_gap": null,
            "grid_row": null,
            "grid_template_areas": null,
            "grid_template_columns": null,
            "grid_template_rows": null,
            "height": null,
            "justify_content": null,
            "justify_items": null,
            "left": null,
            "margin": null,
            "max_height": null,
            "max_width": null,
            "min_height": null,
            "min_width": null,
            "object_fit": null,
            "object_position": null,
            "order": null,
            "overflow": null,
            "overflow_x": null,
            "overflow_y": null,
            "padding": null,
            "right": null,
            "top": null,
            "visibility": null,
            "width": null
          }
        },
        "7754cad82f224c3d85a727e66760a52e": {
          "model_module": "@jupyter-widgets/controls",
          "model_name": "DescriptionStyleModel",
          "model_module_version": "1.5.0",
          "state": {
            "_model_module": "@jupyter-widgets/controls",
            "_model_module_version": "1.5.0",
            "_model_name": "DescriptionStyleModel",
            "_view_count": null,
            "_view_module": "@jupyter-widgets/base",
            "_view_module_version": "1.2.0",
            "_view_name": "StyleView",
            "description_width": ""
          }
        },
        "35ab45ce8d364e039f5ecef39adc235b": {
          "model_module": "@jupyter-widgets/controls",
          "model_name": "HBoxModel",
          "model_module_version": "1.5.0",
          "state": {
            "_dom_classes": [],
            "_model_module": "@jupyter-widgets/controls",
            "_model_module_version": "1.5.0",
            "_model_name": "HBoxModel",
            "_view_count": null,
            "_view_module": "@jupyter-widgets/controls",
            "_view_module_version": "1.5.0",
            "_view_name": "HBoxView",
            "box_style": "",
            "children": [
              "IPY_MODEL_76fdce0fcf6146979ab17ea0ad59b1cc",
              "IPY_MODEL_c473ed9fccc44c49bcc0ba824600258b",
              "IPY_MODEL_0e3a64b30d7e463692678235decbd12a"
            ],
            "layout": "IPY_MODEL_25f01eec06fd48378d6e80f24505f451"
          }
        },
        "76fdce0fcf6146979ab17ea0ad59b1cc": {
          "model_module": "@jupyter-widgets/controls",
          "model_name": "HTMLModel",
          "model_module_version": "1.5.0",
          "state": {
            "_dom_classes": [],
            "_model_module": "@jupyter-widgets/controls",
            "_model_module_version": "1.5.0",
            "_model_name": "HTMLModel",
            "_view_count": null,
            "_view_module": "@jupyter-widgets/controls",
            "_view_module_version": "1.5.0",
            "_view_name": "HTMLView",
            "description": "",
            "description_tooltip": null,
            "layout": "IPY_MODEL_e62db7fb76684ea2920f47b65620cf96",
            "placeholder": "​",
            "style": "IPY_MODEL_158b9111c805441a80be96e4584947fa",
            "value": "100%"
          }
        },
        "c473ed9fccc44c49bcc0ba824600258b": {
          "model_module": "@jupyter-widgets/controls",
          "model_name": "FloatProgressModel",
          "model_module_version": "1.5.0",
          "state": {
            "_dom_classes": [],
            "_model_module": "@jupyter-widgets/controls",
            "_model_module_version": "1.5.0",
            "_model_name": "FloatProgressModel",
            "_view_count": null,
            "_view_module": "@jupyter-widgets/controls",
            "_view_module_version": "1.5.0",
            "_view_name": "ProgressView",
            "bar_style": "success",
            "description": "",
            "description_tooltip": null,
            "layout": "IPY_MODEL_d7b2367962d5430f9c55bc687a5907dc",
            "max": 148,
            "min": 0,
            "orientation": "horizontal",
            "style": "IPY_MODEL_145a9e305ea849dcab94eda528975bed",
            "value": 148
          }
        },
        "0e3a64b30d7e463692678235decbd12a": {
          "model_module": "@jupyter-widgets/controls",
          "model_name": "HTMLModel",
          "model_module_version": "1.5.0",
          "state": {
            "_dom_classes": [],
            "_model_module": "@jupyter-widgets/controls",
            "_model_module_version": "1.5.0",
            "_model_name": "HTMLModel",
            "_view_count": null,
            "_view_module": "@jupyter-widgets/controls",
            "_view_module_version": "1.5.0",
            "_view_name": "HTMLView",
            "description": "",
            "description_tooltip": null,
            "layout": "IPY_MODEL_4192cf2459e4454cbb8b5fbc74f87ead",
            "placeholder": "​",
            "style": "IPY_MODEL_e49f7a714cf74290978e5aabb596cd63",
            "value": " 148/148 [00:01&lt;00:00, 75.45it/s]"
          }
        },
        "25f01eec06fd48378d6e80f24505f451": {
          "model_module": "@jupyter-widgets/base",
          "model_name": "LayoutModel",
          "model_module_version": "1.2.0",
          "state": {
            "_model_module": "@jupyter-widgets/base",
            "_model_module_version": "1.2.0",
            "_model_name": "LayoutModel",
            "_view_count": null,
            "_view_module": "@jupyter-widgets/base",
            "_view_module_version": "1.2.0",
            "_view_name": "LayoutView",
            "align_content": null,
            "align_items": null,
            "align_self": null,
            "border": null,
            "bottom": null,
            "display": null,
            "flex": null,
            "flex_flow": null,
            "grid_area": null,
            "grid_auto_columns": null,
            "grid_auto_flow": null,
            "grid_auto_rows": null,
            "grid_column": null,
            "grid_gap": null,
            "grid_row": null,
            "grid_template_areas": null,
            "grid_template_columns": null,
            "grid_template_rows": null,
            "height": null,
            "justify_content": null,
            "justify_items": null,
            "left": null,
            "margin": null,
            "max_height": null,
            "max_width": null,
            "min_height": null,
            "min_width": null,
            "object_fit": null,
            "object_position": null,
            "order": null,
            "overflow": null,
            "overflow_x": null,
            "overflow_y": null,
            "padding": null,
            "right": null,
            "top": null,
            "visibility": null,
            "width": null
          }
        },
        "e62db7fb76684ea2920f47b65620cf96": {
          "model_module": "@jupyter-widgets/base",
          "model_name": "LayoutModel",
          "model_module_version": "1.2.0",
          "state": {
            "_model_module": "@jupyter-widgets/base",
            "_model_module_version": "1.2.0",
            "_model_name": "LayoutModel",
            "_view_count": null,
            "_view_module": "@jupyter-widgets/base",
            "_view_module_version": "1.2.0",
            "_view_name": "LayoutView",
            "align_content": null,
            "align_items": null,
            "align_self": null,
            "border": null,
            "bottom": null,
            "display": null,
            "flex": null,
            "flex_flow": null,
            "grid_area": null,
            "grid_auto_columns": null,
            "grid_auto_flow": null,
            "grid_auto_rows": null,
            "grid_column": null,
            "grid_gap": null,
            "grid_row": null,
            "grid_template_areas": null,
            "grid_template_columns": null,
            "grid_template_rows": null,
            "height": null,
            "justify_content": null,
            "justify_items": null,
            "left": null,
            "margin": null,
            "max_height": null,
            "max_width": null,
            "min_height": null,
            "min_width": null,
            "object_fit": null,
            "object_position": null,
            "order": null,
            "overflow": null,
            "overflow_x": null,
            "overflow_y": null,
            "padding": null,
            "right": null,
            "top": null,
            "visibility": null,
            "width": null
          }
        },
        "158b9111c805441a80be96e4584947fa": {
          "model_module": "@jupyter-widgets/controls",
          "model_name": "DescriptionStyleModel",
          "model_module_version": "1.5.0",
          "state": {
            "_model_module": "@jupyter-widgets/controls",
            "_model_module_version": "1.5.0",
            "_model_name": "DescriptionStyleModel",
            "_view_count": null,
            "_view_module": "@jupyter-widgets/base",
            "_view_module_version": "1.2.0",
            "_view_name": "StyleView",
            "description_width": ""
          }
        },
        "d7b2367962d5430f9c55bc687a5907dc": {
          "model_module": "@jupyter-widgets/base",
          "model_name": "LayoutModel",
          "model_module_version": "1.2.0",
          "state": {
            "_model_module": "@jupyter-widgets/base",
            "_model_module_version": "1.2.0",
            "_model_name": "LayoutModel",
            "_view_count": null,
            "_view_module": "@jupyter-widgets/base",
            "_view_module_version": "1.2.0",
            "_view_name": "LayoutView",
            "align_content": null,
            "align_items": null,
            "align_self": null,
            "border": null,
            "bottom": null,
            "display": null,
            "flex": null,
            "flex_flow": null,
            "grid_area": null,
            "grid_auto_columns": null,
            "grid_auto_flow": null,
            "grid_auto_rows": null,
            "grid_column": null,
            "grid_gap": null,
            "grid_row": null,
            "grid_template_areas": null,
            "grid_template_columns": null,
            "grid_template_rows": null,
            "height": null,
            "justify_content": null,
            "justify_items": null,
            "left": null,
            "margin": null,
            "max_height": null,
            "max_width": null,
            "min_height": null,
            "min_width": null,
            "object_fit": null,
            "object_position": null,
            "order": null,
            "overflow": null,
            "overflow_x": null,
            "overflow_y": null,
            "padding": null,
            "right": null,
            "top": null,
            "visibility": null,
            "width": null
          }
        },
        "145a9e305ea849dcab94eda528975bed": {
          "model_module": "@jupyter-widgets/controls",
          "model_name": "ProgressStyleModel",
          "model_module_version": "1.5.0",
          "state": {
            "_model_module": "@jupyter-widgets/controls",
            "_model_module_version": "1.5.0",
            "_model_name": "ProgressStyleModel",
            "_view_count": null,
            "_view_module": "@jupyter-widgets/base",
            "_view_module_version": "1.2.0",
            "_view_name": "StyleView",
            "bar_color": null,
            "description_width": ""
          }
        },
        "4192cf2459e4454cbb8b5fbc74f87ead": {
          "model_module": "@jupyter-widgets/base",
          "model_name": "LayoutModel",
          "model_module_version": "1.2.0",
          "state": {
            "_model_module": "@jupyter-widgets/base",
            "_model_module_version": "1.2.0",
            "_model_name": "LayoutModel",
            "_view_count": null,
            "_view_module": "@jupyter-widgets/base",
            "_view_module_version": "1.2.0",
            "_view_name": "LayoutView",
            "align_content": null,
            "align_items": null,
            "align_self": null,
            "border": null,
            "bottom": null,
            "display": null,
            "flex": null,
            "flex_flow": null,
            "grid_area": null,
            "grid_auto_columns": null,
            "grid_auto_flow": null,
            "grid_auto_rows": null,
            "grid_column": null,
            "grid_gap": null,
            "grid_row": null,
            "grid_template_areas": null,
            "grid_template_columns": null,
            "grid_template_rows": null,
            "height": null,
            "justify_content": null,
            "justify_items": null,
            "left": null,
            "margin": null,
            "max_height": null,
            "max_width": null,
            "min_height": null,
            "min_width": null,
            "object_fit": null,
            "object_position": null,
            "order": null,
            "overflow": null,
            "overflow_x": null,
            "overflow_y": null,
            "padding": null,
            "right": null,
            "top": null,
            "visibility": null,
            "width": null
          }
        },
        "e49f7a714cf74290978e5aabb596cd63": {
          "model_module": "@jupyter-widgets/controls",
          "model_name": "DescriptionStyleModel",
          "model_module_version": "1.5.0",
          "state": {
            "_model_module": "@jupyter-widgets/controls",
            "_model_module_version": "1.5.0",
            "_model_name": "DescriptionStyleModel",
            "_view_count": null,
            "_view_module": "@jupyter-widgets/base",
            "_view_module_version": "1.2.0",
            "_view_name": "StyleView",
            "description_width": ""
          }
        },
        "081dea644bba426789a431fb587ff7fa": {
          "model_module": "@jupyter-widgets/controls",
          "model_name": "HBoxModel",
          "model_module_version": "1.5.0",
          "state": {
            "_dom_classes": [],
            "_model_module": "@jupyter-widgets/controls",
            "_model_module_version": "1.5.0",
            "_model_name": "HBoxModel",
            "_view_count": null,
            "_view_module": "@jupyter-widgets/controls",
            "_view_module_version": "1.5.0",
            "_view_name": "HBoxView",
            "box_style": "",
            "children": [
              "IPY_MODEL_cd9a581319c64880bc2e4f9e38ab34bf",
              "IPY_MODEL_4a0ce5b90d0f435bb703d2ceeb01de6d",
              "IPY_MODEL_409276ad23fc4666a2a1bc0d9b8ee404"
            ],
            "layout": "IPY_MODEL_0a7434434341451e8089364b3750e9b5"
          }
        },
        "cd9a581319c64880bc2e4f9e38ab34bf": {
          "model_module": "@jupyter-widgets/controls",
          "model_name": "HTMLModel",
          "model_module_version": "1.5.0",
          "state": {
            "_dom_classes": [],
            "_model_module": "@jupyter-widgets/controls",
            "_model_module_version": "1.5.0",
            "_model_name": "HTMLModel",
            "_view_count": null,
            "_view_module": "@jupyter-widgets/controls",
            "_view_module_version": "1.5.0",
            "_view_name": "HTMLView",
            "description": "",
            "description_tooltip": null,
            "layout": "IPY_MODEL_2bb6682963ea42bd95271a57d6065245",
            "placeholder": "​",
            "style": "IPY_MODEL_fdeba72f9e124908b391de40a97e5f08",
            "value": "100%"
          }
        },
        "4a0ce5b90d0f435bb703d2ceeb01de6d": {
          "model_module": "@jupyter-widgets/controls",
          "model_name": "FloatProgressModel",
          "model_module_version": "1.5.0",
          "state": {
            "_dom_classes": [],
            "_model_module": "@jupyter-widgets/controls",
            "_model_module_version": "1.5.0",
            "_model_name": "FloatProgressModel",
            "_view_count": null,
            "_view_module": "@jupyter-widgets/controls",
            "_view_module_version": "1.5.0",
            "_view_name": "ProgressView",
            "bar_style": "success",
            "description": "",
            "description_tooltip": null,
            "layout": "IPY_MODEL_d64ad31a2780436cad205809b36a5e5d",
            "max": 148,
            "min": 0,
            "orientation": "horizontal",
            "style": "IPY_MODEL_6dc95b2df0be4604ad3df2485ce1c9f6",
            "value": 148
          }
        },
        "409276ad23fc4666a2a1bc0d9b8ee404": {
          "model_module": "@jupyter-widgets/controls",
          "model_name": "HTMLModel",
          "model_module_version": "1.5.0",
          "state": {
            "_dom_classes": [],
            "_model_module": "@jupyter-widgets/controls",
            "_model_module_version": "1.5.0",
            "_model_name": "HTMLModel",
            "_view_count": null,
            "_view_module": "@jupyter-widgets/controls",
            "_view_module_version": "1.5.0",
            "_view_name": "HTMLView",
            "description": "",
            "description_tooltip": null,
            "layout": "IPY_MODEL_a1e4496385a54f5c9d625060d441e1ab",
            "placeholder": "​",
            "style": "IPY_MODEL_a87bb1a45e9f4f439d4aa0b12c74e8b9",
            "value": " 148/148 [00:01&lt;00:00, 93.49it/s]"
          }
        },
        "0a7434434341451e8089364b3750e9b5": {
          "model_module": "@jupyter-widgets/base",
          "model_name": "LayoutModel",
          "model_module_version": "1.2.0",
          "state": {
            "_model_module": "@jupyter-widgets/base",
            "_model_module_version": "1.2.0",
            "_model_name": "LayoutModel",
            "_view_count": null,
            "_view_module": "@jupyter-widgets/base",
            "_view_module_version": "1.2.0",
            "_view_name": "LayoutView",
            "align_content": null,
            "align_items": null,
            "align_self": null,
            "border": null,
            "bottom": null,
            "display": null,
            "flex": null,
            "flex_flow": null,
            "grid_area": null,
            "grid_auto_columns": null,
            "grid_auto_flow": null,
            "grid_auto_rows": null,
            "grid_column": null,
            "grid_gap": null,
            "grid_row": null,
            "grid_template_areas": null,
            "grid_template_columns": null,
            "grid_template_rows": null,
            "height": null,
            "justify_content": null,
            "justify_items": null,
            "left": null,
            "margin": null,
            "max_height": null,
            "max_width": null,
            "min_height": null,
            "min_width": null,
            "object_fit": null,
            "object_position": null,
            "order": null,
            "overflow": null,
            "overflow_x": null,
            "overflow_y": null,
            "padding": null,
            "right": null,
            "top": null,
            "visibility": null,
            "width": null
          }
        },
        "2bb6682963ea42bd95271a57d6065245": {
          "model_module": "@jupyter-widgets/base",
          "model_name": "LayoutModel",
          "model_module_version": "1.2.0",
          "state": {
            "_model_module": "@jupyter-widgets/base",
            "_model_module_version": "1.2.0",
            "_model_name": "LayoutModel",
            "_view_count": null,
            "_view_module": "@jupyter-widgets/base",
            "_view_module_version": "1.2.0",
            "_view_name": "LayoutView",
            "align_content": null,
            "align_items": null,
            "align_self": null,
            "border": null,
            "bottom": null,
            "display": null,
            "flex": null,
            "flex_flow": null,
            "grid_area": null,
            "grid_auto_columns": null,
            "grid_auto_flow": null,
            "grid_auto_rows": null,
            "grid_column": null,
            "grid_gap": null,
            "grid_row": null,
            "grid_template_areas": null,
            "grid_template_columns": null,
            "grid_template_rows": null,
            "height": null,
            "justify_content": null,
            "justify_items": null,
            "left": null,
            "margin": null,
            "max_height": null,
            "max_width": null,
            "min_height": null,
            "min_width": null,
            "object_fit": null,
            "object_position": null,
            "order": null,
            "overflow": null,
            "overflow_x": null,
            "overflow_y": null,
            "padding": null,
            "right": null,
            "top": null,
            "visibility": null,
            "width": null
          }
        },
        "fdeba72f9e124908b391de40a97e5f08": {
          "model_module": "@jupyter-widgets/controls",
          "model_name": "DescriptionStyleModel",
          "model_module_version": "1.5.0",
          "state": {
            "_model_module": "@jupyter-widgets/controls",
            "_model_module_version": "1.5.0",
            "_model_name": "DescriptionStyleModel",
            "_view_count": null,
            "_view_module": "@jupyter-widgets/base",
            "_view_module_version": "1.2.0",
            "_view_name": "StyleView",
            "description_width": ""
          }
        },
        "d64ad31a2780436cad205809b36a5e5d": {
          "model_module": "@jupyter-widgets/base",
          "model_name": "LayoutModel",
          "model_module_version": "1.2.0",
          "state": {
            "_model_module": "@jupyter-widgets/base",
            "_model_module_version": "1.2.0",
            "_model_name": "LayoutModel",
            "_view_count": null,
            "_view_module": "@jupyter-widgets/base",
            "_view_module_version": "1.2.0",
            "_view_name": "LayoutView",
            "align_content": null,
            "align_items": null,
            "align_self": null,
            "border": null,
            "bottom": null,
            "display": null,
            "flex": null,
            "flex_flow": null,
            "grid_area": null,
            "grid_auto_columns": null,
            "grid_auto_flow": null,
            "grid_auto_rows": null,
            "grid_column": null,
            "grid_gap": null,
            "grid_row": null,
            "grid_template_areas": null,
            "grid_template_columns": null,
            "grid_template_rows": null,
            "height": null,
            "justify_content": null,
            "justify_items": null,
            "left": null,
            "margin": null,
            "max_height": null,
            "max_width": null,
            "min_height": null,
            "min_width": null,
            "object_fit": null,
            "object_position": null,
            "order": null,
            "overflow": null,
            "overflow_x": null,
            "overflow_y": null,
            "padding": null,
            "right": null,
            "top": null,
            "visibility": null,
            "width": null
          }
        },
        "6dc95b2df0be4604ad3df2485ce1c9f6": {
          "model_module": "@jupyter-widgets/controls",
          "model_name": "ProgressStyleModel",
          "model_module_version": "1.5.0",
          "state": {
            "_model_module": "@jupyter-widgets/controls",
            "_model_module_version": "1.5.0",
            "_model_name": "ProgressStyleModel",
            "_view_count": null,
            "_view_module": "@jupyter-widgets/base",
            "_view_module_version": "1.2.0",
            "_view_name": "StyleView",
            "bar_color": null,
            "description_width": ""
          }
        },
        "a1e4496385a54f5c9d625060d441e1ab": {
          "model_module": "@jupyter-widgets/base",
          "model_name": "LayoutModel",
          "model_module_version": "1.2.0",
          "state": {
            "_model_module": "@jupyter-widgets/base",
            "_model_module_version": "1.2.0",
            "_model_name": "LayoutModel",
            "_view_count": null,
            "_view_module": "@jupyter-widgets/base",
            "_view_module_version": "1.2.0",
            "_view_name": "LayoutView",
            "align_content": null,
            "align_items": null,
            "align_self": null,
            "border": null,
            "bottom": null,
            "display": null,
            "flex": null,
            "flex_flow": null,
            "grid_area": null,
            "grid_auto_columns": null,
            "grid_auto_flow": null,
            "grid_auto_rows": null,
            "grid_column": null,
            "grid_gap": null,
            "grid_row": null,
            "grid_template_areas": null,
            "grid_template_columns": null,
            "grid_template_rows": null,
            "height": null,
            "justify_content": null,
            "justify_items": null,
            "left": null,
            "margin": null,
            "max_height": null,
            "max_width": null,
            "min_height": null,
            "min_width": null,
            "object_fit": null,
            "object_position": null,
            "order": null,
            "overflow": null,
            "overflow_x": null,
            "overflow_y": null,
            "padding": null,
            "right": null,
            "top": null,
            "visibility": null,
            "width": null
          }
        },
        "a87bb1a45e9f4f439d4aa0b12c74e8b9": {
          "model_module": "@jupyter-widgets/controls",
          "model_name": "DescriptionStyleModel",
          "model_module_version": "1.5.0",
          "state": {
            "_model_module": "@jupyter-widgets/controls",
            "_model_module_version": "1.5.0",
            "_model_name": "DescriptionStyleModel",
            "_view_count": null,
            "_view_module": "@jupyter-widgets/base",
            "_view_module_version": "1.2.0",
            "_view_name": "StyleView",
            "description_width": ""
          }
        },
        "78d02f7c98464f95bbcba723108d1068": {
          "model_module": "@jupyter-widgets/controls",
          "model_name": "HBoxModel",
          "model_module_version": "1.5.0",
          "state": {
            "_dom_classes": [],
            "_model_module": "@jupyter-widgets/controls",
            "_model_module_version": "1.5.0",
            "_model_name": "HBoxModel",
            "_view_count": null,
            "_view_module": "@jupyter-widgets/controls",
            "_view_module_version": "1.5.0",
            "_view_name": "HBoxView",
            "box_style": "",
            "children": [
              "IPY_MODEL_0b1e97e922c34313b8969b96136f5d6b",
              "IPY_MODEL_8f3540403e7744f7a76c2c2b938deb78",
              "IPY_MODEL_bc76537cc3634443bbe8dab32841a811"
            ],
            "layout": "IPY_MODEL_099ad00386394e7ca0c5b0c3e137f45c"
          }
        },
        "0b1e97e922c34313b8969b96136f5d6b": {
          "model_module": "@jupyter-widgets/controls",
          "model_name": "HTMLModel",
          "model_module_version": "1.5.0",
          "state": {
            "_dom_classes": [],
            "_model_module": "@jupyter-widgets/controls",
            "_model_module_version": "1.5.0",
            "_model_name": "HTMLModel",
            "_view_count": null,
            "_view_module": "@jupyter-widgets/controls",
            "_view_module_version": "1.5.0",
            "_view_name": "HTMLView",
            "description": "",
            "description_tooltip": null,
            "layout": "IPY_MODEL_729c84c67d6b4a2db58d284ae032d9f9",
            "placeholder": "​",
            "style": "IPY_MODEL_7178bffde1ef4e7b90167fb321c7dd22",
            "value": "100%"
          }
        },
        "8f3540403e7744f7a76c2c2b938deb78": {
          "model_module": "@jupyter-widgets/controls",
          "model_name": "FloatProgressModel",
          "model_module_version": "1.5.0",
          "state": {
            "_dom_classes": [],
            "_model_module": "@jupyter-widgets/controls",
            "_model_module_version": "1.5.0",
            "_model_name": "FloatProgressModel",
            "_view_count": null,
            "_view_module": "@jupyter-widgets/controls",
            "_view_module_version": "1.5.0",
            "_view_name": "ProgressView",
            "bar_style": "success",
            "description": "",
            "description_tooltip": null,
            "layout": "IPY_MODEL_7a9a16f246534f729e962eab3f0b63c4",
            "max": 148,
            "min": 0,
            "orientation": "horizontal",
            "style": "IPY_MODEL_f3a4623dcfa443998826a1ae275bda83",
            "value": 148
          }
        },
        "bc76537cc3634443bbe8dab32841a811": {
          "model_module": "@jupyter-widgets/controls",
          "model_name": "HTMLModel",
          "model_module_version": "1.5.0",
          "state": {
            "_dom_classes": [],
            "_model_module": "@jupyter-widgets/controls",
            "_model_module_version": "1.5.0",
            "_model_name": "HTMLModel",
            "_view_count": null,
            "_view_module": "@jupyter-widgets/controls",
            "_view_module_version": "1.5.0",
            "_view_name": "HTMLView",
            "description": "",
            "description_tooltip": null,
            "layout": "IPY_MODEL_39e73666a22944788a456590e9a243cd",
            "placeholder": "​",
            "style": "IPY_MODEL_dd66ea896f414eb28a3e06b4d598d3fc",
            "value": " 148/148 [00:01&lt;00:00, 86.81it/s]"
          }
        },
        "099ad00386394e7ca0c5b0c3e137f45c": {
          "model_module": "@jupyter-widgets/base",
          "model_name": "LayoutModel",
          "model_module_version": "1.2.0",
          "state": {
            "_model_module": "@jupyter-widgets/base",
            "_model_module_version": "1.2.0",
            "_model_name": "LayoutModel",
            "_view_count": null,
            "_view_module": "@jupyter-widgets/base",
            "_view_module_version": "1.2.0",
            "_view_name": "LayoutView",
            "align_content": null,
            "align_items": null,
            "align_self": null,
            "border": null,
            "bottom": null,
            "display": null,
            "flex": null,
            "flex_flow": null,
            "grid_area": null,
            "grid_auto_columns": null,
            "grid_auto_flow": null,
            "grid_auto_rows": null,
            "grid_column": null,
            "grid_gap": null,
            "grid_row": null,
            "grid_template_areas": null,
            "grid_template_columns": null,
            "grid_template_rows": null,
            "height": null,
            "justify_content": null,
            "justify_items": null,
            "left": null,
            "margin": null,
            "max_height": null,
            "max_width": null,
            "min_height": null,
            "min_width": null,
            "object_fit": null,
            "object_position": null,
            "order": null,
            "overflow": null,
            "overflow_x": null,
            "overflow_y": null,
            "padding": null,
            "right": null,
            "top": null,
            "visibility": null,
            "width": null
          }
        },
        "729c84c67d6b4a2db58d284ae032d9f9": {
          "model_module": "@jupyter-widgets/base",
          "model_name": "LayoutModel",
          "model_module_version": "1.2.0",
          "state": {
            "_model_module": "@jupyter-widgets/base",
            "_model_module_version": "1.2.0",
            "_model_name": "LayoutModel",
            "_view_count": null,
            "_view_module": "@jupyter-widgets/base",
            "_view_module_version": "1.2.0",
            "_view_name": "LayoutView",
            "align_content": null,
            "align_items": null,
            "align_self": null,
            "border": null,
            "bottom": null,
            "display": null,
            "flex": null,
            "flex_flow": null,
            "grid_area": null,
            "grid_auto_columns": null,
            "grid_auto_flow": null,
            "grid_auto_rows": null,
            "grid_column": null,
            "grid_gap": null,
            "grid_row": null,
            "grid_template_areas": null,
            "grid_template_columns": null,
            "grid_template_rows": null,
            "height": null,
            "justify_content": null,
            "justify_items": null,
            "left": null,
            "margin": null,
            "max_height": null,
            "max_width": null,
            "min_height": null,
            "min_width": null,
            "object_fit": null,
            "object_position": null,
            "order": null,
            "overflow": null,
            "overflow_x": null,
            "overflow_y": null,
            "padding": null,
            "right": null,
            "top": null,
            "visibility": null,
            "width": null
          }
        },
        "7178bffde1ef4e7b90167fb321c7dd22": {
          "model_module": "@jupyter-widgets/controls",
          "model_name": "DescriptionStyleModel",
          "model_module_version": "1.5.0",
          "state": {
            "_model_module": "@jupyter-widgets/controls",
            "_model_module_version": "1.5.0",
            "_model_name": "DescriptionStyleModel",
            "_view_count": null,
            "_view_module": "@jupyter-widgets/base",
            "_view_module_version": "1.2.0",
            "_view_name": "StyleView",
            "description_width": ""
          }
        },
        "7a9a16f246534f729e962eab3f0b63c4": {
          "model_module": "@jupyter-widgets/base",
          "model_name": "LayoutModel",
          "model_module_version": "1.2.0",
          "state": {
            "_model_module": "@jupyter-widgets/base",
            "_model_module_version": "1.2.0",
            "_model_name": "LayoutModel",
            "_view_count": null,
            "_view_module": "@jupyter-widgets/base",
            "_view_module_version": "1.2.0",
            "_view_name": "LayoutView",
            "align_content": null,
            "align_items": null,
            "align_self": null,
            "border": null,
            "bottom": null,
            "display": null,
            "flex": null,
            "flex_flow": null,
            "grid_area": null,
            "grid_auto_columns": null,
            "grid_auto_flow": null,
            "grid_auto_rows": null,
            "grid_column": null,
            "grid_gap": null,
            "grid_row": null,
            "grid_template_areas": null,
            "grid_template_columns": null,
            "grid_template_rows": null,
            "height": null,
            "justify_content": null,
            "justify_items": null,
            "left": null,
            "margin": null,
            "max_height": null,
            "max_width": null,
            "min_height": null,
            "min_width": null,
            "object_fit": null,
            "object_position": null,
            "order": null,
            "overflow": null,
            "overflow_x": null,
            "overflow_y": null,
            "padding": null,
            "right": null,
            "top": null,
            "visibility": null,
            "width": null
          }
        },
        "f3a4623dcfa443998826a1ae275bda83": {
          "model_module": "@jupyter-widgets/controls",
          "model_name": "ProgressStyleModel",
          "model_module_version": "1.5.0",
          "state": {
            "_model_module": "@jupyter-widgets/controls",
            "_model_module_version": "1.5.0",
            "_model_name": "ProgressStyleModel",
            "_view_count": null,
            "_view_module": "@jupyter-widgets/base",
            "_view_module_version": "1.2.0",
            "_view_name": "StyleView",
            "bar_color": null,
            "description_width": ""
          }
        },
        "39e73666a22944788a456590e9a243cd": {
          "model_module": "@jupyter-widgets/base",
          "model_name": "LayoutModel",
          "model_module_version": "1.2.0",
          "state": {
            "_model_module": "@jupyter-widgets/base",
            "_model_module_version": "1.2.0",
            "_model_name": "LayoutModel",
            "_view_count": null,
            "_view_module": "@jupyter-widgets/base",
            "_view_module_version": "1.2.0",
            "_view_name": "LayoutView",
            "align_content": null,
            "align_items": null,
            "align_self": null,
            "border": null,
            "bottom": null,
            "display": null,
            "flex": null,
            "flex_flow": null,
            "grid_area": null,
            "grid_auto_columns": null,
            "grid_auto_flow": null,
            "grid_auto_rows": null,
            "grid_column": null,
            "grid_gap": null,
            "grid_row": null,
            "grid_template_areas": null,
            "grid_template_columns": null,
            "grid_template_rows": null,
            "height": null,
            "justify_content": null,
            "justify_items": null,
            "left": null,
            "margin": null,
            "max_height": null,
            "max_width": null,
            "min_height": null,
            "min_width": null,
            "object_fit": null,
            "object_position": null,
            "order": null,
            "overflow": null,
            "overflow_x": null,
            "overflow_y": null,
            "padding": null,
            "right": null,
            "top": null,
            "visibility": null,
            "width": null
          }
        },
        "dd66ea896f414eb28a3e06b4d598d3fc": {
          "model_module": "@jupyter-widgets/controls",
          "model_name": "DescriptionStyleModel",
          "model_module_version": "1.5.0",
          "state": {
            "_model_module": "@jupyter-widgets/controls",
            "_model_module_version": "1.5.0",
            "_model_name": "DescriptionStyleModel",
            "_view_count": null,
            "_view_module": "@jupyter-widgets/base",
            "_view_module_version": "1.2.0",
            "_view_name": "StyleView",
            "description_width": ""
          }
        },
        "c9fce5e97e7447c7b566c4d14440b9e9": {
          "model_module": "@jupyter-widgets/controls",
          "model_name": "HBoxModel",
          "model_module_version": "1.5.0",
          "state": {
            "_dom_classes": [],
            "_model_module": "@jupyter-widgets/controls",
            "_model_module_version": "1.5.0",
            "_model_name": "HBoxModel",
            "_view_count": null,
            "_view_module": "@jupyter-widgets/controls",
            "_view_module_version": "1.5.0",
            "_view_name": "HBoxView",
            "box_style": "",
            "children": [
              "IPY_MODEL_2d52ee61b40744d5a8499577e4aa8a6e",
              "IPY_MODEL_297131d367be43e388d05bea4b9cdba9",
              "IPY_MODEL_b4c191badfde48a5b9197a25f0c29d5d"
            ],
            "layout": "IPY_MODEL_68cd2949f779414c800f2ed902158a99"
          }
        },
        "2d52ee61b40744d5a8499577e4aa8a6e": {
          "model_module": "@jupyter-widgets/controls",
          "model_name": "HTMLModel",
          "model_module_version": "1.5.0",
          "state": {
            "_dom_classes": [],
            "_model_module": "@jupyter-widgets/controls",
            "_model_module_version": "1.5.0",
            "_model_name": "HTMLModel",
            "_view_count": null,
            "_view_module": "@jupyter-widgets/controls",
            "_view_module_version": "1.5.0",
            "_view_name": "HTMLView",
            "description": "",
            "description_tooltip": null,
            "layout": "IPY_MODEL_5ffb3a46fecd478fa3e9c362f0f292d7",
            "placeholder": "​",
            "style": "IPY_MODEL_60855ce85dd84ac2b48031e5ae296438",
            "value": "100%"
          }
        },
        "297131d367be43e388d05bea4b9cdba9": {
          "model_module": "@jupyter-widgets/controls",
          "model_name": "FloatProgressModel",
          "model_module_version": "1.5.0",
          "state": {
            "_dom_classes": [],
            "_model_module": "@jupyter-widgets/controls",
            "_model_module_version": "1.5.0",
            "_model_name": "FloatProgressModel",
            "_view_count": null,
            "_view_module": "@jupyter-widgets/controls",
            "_view_module_version": "1.5.0",
            "_view_name": "ProgressView",
            "bar_style": "success",
            "description": "",
            "description_tooltip": null,
            "layout": "IPY_MODEL_8a62780974354c74be7dc2e778daeff3",
            "max": 148,
            "min": 0,
            "orientation": "horizontal",
            "style": "IPY_MODEL_233d8b2c02e34f89baa887fcee4dd9d9",
            "value": 148
          }
        },
        "b4c191badfde48a5b9197a25f0c29d5d": {
          "model_module": "@jupyter-widgets/controls",
          "model_name": "HTMLModel",
          "model_module_version": "1.5.0",
          "state": {
            "_dom_classes": [],
            "_model_module": "@jupyter-widgets/controls",
            "_model_module_version": "1.5.0",
            "_model_name": "HTMLModel",
            "_view_count": null,
            "_view_module": "@jupyter-widgets/controls",
            "_view_module_version": "1.5.0",
            "_view_name": "HTMLView",
            "description": "",
            "description_tooltip": null,
            "layout": "IPY_MODEL_9ecc1844048d4f82a50392d31011e086",
            "placeholder": "​",
            "style": "IPY_MODEL_8383bc5523c3452aa1143facd5c2d194",
            "value": " 148/148 [00:01&lt;00:00, 83.25it/s]"
          }
        },
        "68cd2949f779414c800f2ed902158a99": {
          "model_module": "@jupyter-widgets/base",
          "model_name": "LayoutModel",
          "model_module_version": "1.2.0",
          "state": {
            "_model_module": "@jupyter-widgets/base",
            "_model_module_version": "1.2.0",
            "_model_name": "LayoutModel",
            "_view_count": null,
            "_view_module": "@jupyter-widgets/base",
            "_view_module_version": "1.2.0",
            "_view_name": "LayoutView",
            "align_content": null,
            "align_items": null,
            "align_self": null,
            "border": null,
            "bottom": null,
            "display": null,
            "flex": null,
            "flex_flow": null,
            "grid_area": null,
            "grid_auto_columns": null,
            "grid_auto_flow": null,
            "grid_auto_rows": null,
            "grid_column": null,
            "grid_gap": null,
            "grid_row": null,
            "grid_template_areas": null,
            "grid_template_columns": null,
            "grid_template_rows": null,
            "height": null,
            "justify_content": null,
            "justify_items": null,
            "left": null,
            "margin": null,
            "max_height": null,
            "max_width": null,
            "min_height": null,
            "min_width": null,
            "object_fit": null,
            "object_position": null,
            "order": null,
            "overflow": null,
            "overflow_x": null,
            "overflow_y": null,
            "padding": null,
            "right": null,
            "top": null,
            "visibility": null,
            "width": null
          }
        },
        "5ffb3a46fecd478fa3e9c362f0f292d7": {
          "model_module": "@jupyter-widgets/base",
          "model_name": "LayoutModel",
          "model_module_version": "1.2.0",
          "state": {
            "_model_module": "@jupyter-widgets/base",
            "_model_module_version": "1.2.0",
            "_model_name": "LayoutModel",
            "_view_count": null,
            "_view_module": "@jupyter-widgets/base",
            "_view_module_version": "1.2.0",
            "_view_name": "LayoutView",
            "align_content": null,
            "align_items": null,
            "align_self": null,
            "border": null,
            "bottom": null,
            "display": null,
            "flex": null,
            "flex_flow": null,
            "grid_area": null,
            "grid_auto_columns": null,
            "grid_auto_flow": null,
            "grid_auto_rows": null,
            "grid_column": null,
            "grid_gap": null,
            "grid_row": null,
            "grid_template_areas": null,
            "grid_template_columns": null,
            "grid_template_rows": null,
            "height": null,
            "justify_content": null,
            "justify_items": null,
            "left": null,
            "margin": null,
            "max_height": null,
            "max_width": null,
            "min_height": null,
            "min_width": null,
            "object_fit": null,
            "object_position": null,
            "order": null,
            "overflow": null,
            "overflow_x": null,
            "overflow_y": null,
            "padding": null,
            "right": null,
            "top": null,
            "visibility": null,
            "width": null
          }
        },
        "60855ce85dd84ac2b48031e5ae296438": {
          "model_module": "@jupyter-widgets/controls",
          "model_name": "DescriptionStyleModel",
          "model_module_version": "1.5.0",
          "state": {
            "_model_module": "@jupyter-widgets/controls",
            "_model_module_version": "1.5.0",
            "_model_name": "DescriptionStyleModel",
            "_view_count": null,
            "_view_module": "@jupyter-widgets/base",
            "_view_module_version": "1.2.0",
            "_view_name": "StyleView",
            "description_width": ""
          }
        },
        "8a62780974354c74be7dc2e778daeff3": {
          "model_module": "@jupyter-widgets/base",
          "model_name": "LayoutModel",
          "model_module_version": "1.2.0",
          "state": {
            "_model_module": "@jupyter-widgets/base",
            "_model_module_version": "1.2.0",
            "_model_name": "LayoutModel",
            "_view_count": null,
            "_view_module": "@jupyter-widgets/base",
            "_view_module_version": "1.2.0",
            "_view_name": "LayoutView",
            "align_content": null,
            "align_items": null,
            "align_self": null,
            "border": null,
            "bottom": null,
            "display": null,
            "flex": null,
            "flex_flow": null,
            "grid_area": null,
            "grid_auto_columns": null,
            "grid_auto_flow": null,
            "grid_auto_rows": null,
            "grid_column": null,
            "grid_gap": null,
            "grid_row": null,
            "grid_template_areas": null,
            "grid_template_columns": null,
            "grid_template_rows": null,
            "height": null,
            "justify_content": null,
            "justify_items": null,
            "left": null,
            "margin": null,
            "max_height": null,
            "max_width": null,
            "min_height": null,
            "min_width": null,
            "object_fit": null,
            "object_position": null,
            "order": null,
            "overflow": null,
            "overflow_x": null,
            "overflow_y": null,
            "padding": null,
            "right": null,
            "top": null,
            "visibility": null,
            "width": null
          }
        },
        "233d8b2c02e34f89baa887fcee4dd9d9": {
          "model_module": "@jupyter-widgets/controls",
          "model_name": "ProgressStyleModel",
          "model_module_version": "1.5.0",
          "state": {
            "_model_module": "@jupyter-widgets/controls",
            "_model_module_version": "1.5.0",
            "_model_name": "ProgressStyleModel",
            "_view_count": null,
            "_view_module": "@jupyter-widgets/base",
            "_view_module_version": "1.2.0",
            "_view_name": "StyleView",
            "bar_color": null,
            "description_width": ""
          }
        },
        "9ecc1844048d4f82a50392d31011e086": {
          "model_module": "@jupyter-widgets/base",
          "model_name": "LayoutModel",
          "model_module_version": "1.2.0",
          "state": {
            "_model_module": "@jupyter-widgets/base",
            "_model_module_version": "1.2.0",
            "_model_name": "LayoutModel",
            "_view_count": null,
            "_view_module": "@jupyter-widgets/base",
            "_view_module_version": "1.2.0",
            "_view_name": "LayoutView",
            "align_content": null,
            "align_items": null,
            "align_self": null,
            "border": null,
            "bottom": null,
            "display": null,
            "flex": null,
            "flex_flow": null,
            "grid_area": null,
            "grid_auto_columns": null,
            "grid_auto_flow": null,
            "grid_auto_rows": null,
            "grid_column": null,
            "grid_gap": null,
            "grid_row": null,
            "grid_template_areas": null,
            "grid_template_columns": null,
            "grid_template_rows": null,
            "height": null,
            "justify_content": null,
            "justify_items": null,
            "left": null,
            "margin": null,
            "max_height": null,
            "max_width": null,
            "min_height": null,
            "min_width": null,
            "object_fit": null,
            "object_position": null,
            "order": null,
            "overflow": null,
            "overflow_x": null,
            "overflow_y": null,
            "padding": null,
            "right": null,
            "top": null,
            "visibility": null,
            "width": null
          }
        },
        "8383bc5523c3452aa1143facd5c2d194": {
          "model_module": "@jupyter-widgets/controls",
          "model_name": "DescriptionStyleModel",
          "model_module_version": "1.5.0",
          "state": {
            "_model_module": "@jupyter-widgets/controls",
            "_model_module_version": "1.5.0",
            "_model_name": "DescriptionStyleModel",
            "_view_count": null,
            "_view_module": "@jupyter-widgets/base",
            "_view_module_version": "1.2.0",
            "_view_name": "StyleView",
            "description_width": ""
          }
        },
        "62f41084c0824d24872d87a5edc05812": {
          "model_module": "@jupyter-widgets/controls",
          "model_name": "HBoxModel",
          "model_module_version": "1.5.0",
          "state": {
            "_dom_classes": [],
            "_model_module": "@jupyter-widgets/controls",
            "_model_module_version": "1.5.0",
            "_model_name": "HBoxModel",
            "_view_count": null,
            "_view_module": "@jupyter-widgets/controls",
            "_view_module_version": "1.5.0",
            "_view_name": "HBoxView",
            "box_style": "",
            "children": [
              "IPY_MODEL_5560b1a9c903480890e84245f3a013af",
              "IPY_MODEL_be83b4b10a6748b7860d79ab65e1fd1b",
              "IPY_MODEL_482703a1e8f9475685be14e6489cda7e"
            ],
            "layout": "IPY_MODEL_9961f36ec15f4320a3fbcfeb068140c2"
          }
        },
        "5560b1a9c903480890e84245f3a013af": {
          "model_module": "@jupyter-widgets/controls",
          "model_name": "HTMLModel",
          "model_module_version": "1.5.0",
          "state": {
            "_dom_classes": [],
            "_model_module": "@jupyter-widgets/controls",
            "_model_module_version": "1.5.0",
            "_model_name": "HTMLModel",
            "_view_count": null,
            "_view_module": "@jupyter-widgets/controls",
            "_view_module_version": "1.5.0",
            "_view_name": "HTMLView",
            "description": "",
            "description_tooltip": null,
            "layout": "IPY_MODEL_4eb7a880facc4ab0aca50ce2647a05e5",
            "placeholder": "​",
            "style": "IPY_MODEL_3e62d7cb21064899a883e5ce24596c87",
            "value": "100%"
          }
        },
        "be83b4b10a6748b7860d79ab65e1fd1b": {
          "model_module": "@jupyter-widgets/controls",
          "model_name": "FloatProgressModel",
          "model_module_version": "1.5.0",
          "state": {
            "_dom_classes": [],
            "_model_module": "@jupyter-widgets/controls",
            "_model_module_version": "1.5.0",
            "_model_name": "FloatProgressModel",
            "_view_count": null,
            "_view_module": "@jupyter-widgets/controls",
            "_view_module_version": "1.5.0",
            "_view_name": "ProgressView",
            "bar_style": "success",
            "description": "",
            "description_tooltip": null,
            "layout": "IPY_MODEL_045ab266ab2e470e9953ade2bf397228",
            "max": 148,
            "min": 0,
            "orientation": "horizontal",
            "style": "IPY_MODEL_c9769372e7c1421890f802a6ed66d297",
            "value": 148
          }
        },
        "482703a1e8f9475685be14e6489cda7e": {
          "model_module": "@jupyter-widgets/controls",
          "model_name": "HTMLModel",
          "model_module_version": "1.5.0",
          "state": {
            "_dom_classes": [],
            "_model_module": "@jupyter-widgets/controls",
            "_model_module_version": "1.5.0",
            "_model_name": "HTMLModel",
            "_view_count": null,
            "_view_module": "@jupyter-widgets/controls",
            "_view_module_version": "1.5.0",
            "_view_name": "HTMLView",
            "description": "",
            "description_tooltip": null,
            "layout": "IPY_MODEL_be275735d6b84a2abd717aa5f4a11c7d",
            "placeholder": "​",
            "style": "IPY_MODEL_034b366a100047c68821a094143da3ec",
            "value": " 148/148 [00:01&lt;00:00, 80.02it/s]"
          }
        },
        "9961f36ec15f4320a3fbcfeb068140c2": {
          "model_module": "@jupyter-widgets/base",
          "model_name": "LayoutModel",
          "model_module_version": "1.2.0",
          "state": {
            "_model_module": "@jupyter-widgets/base",
            "_model_module_version": "1.2.0",
            "_model_name": "LayoutModel",
            "_view_count": null,
            "_view_module": "@jupyter-widgets/base",
            "_view_module_version": "1.2.0",
            "_view_name": "LayoutView",
            "align_content": null,
            "align_items": null,
            "align_self": null,
            "border": null,
            "bottom": null,
            "display": null,
            "flex": null,
            "flex_flow": null,
            "grid_area": null,
            "grid_auto_columns": null,
            "grid_auto_flow": null,
            "grid_auto_rows": null,
            "grid_column": null,
            "grid_gap": null,
            "grid_row": null,
            "grid_template_areas": null,
            "grid_template_columns": null,
            "grid_template_rows": null,
            "height": null,
            "justify_content": null,
            "justify_items": null,
            "left": null,
            "margin": null,
            "max_height": null,
            "max_width": null,
            "min_height": null,
            "min_width": null,
            "object_fit": null,
            "object_position": null,
            "order": null,
            "overflow": null,
            "overflow_x": null,
            "overflow_y": null,
            "padding": null,
            "right": null,
            "top": null,
            "visibility": null,
            "width": null
          }
        },
        "4eb7a880facc4ab0aca50ce2647a05e5": {
          "model_module": "@jupyter-widgets/base",
          "model_name": "LayoutModel",
          "model_module_version": "1.2.0",
          "state": {
            "_model_module": "@jupyter-widgets/base",
            "_model_module_version": "1.2.0",
            "_model_name": "LayoutModel",
            "_view_count": null,
            "_view_module": "@jupyter-widgets/base",
            "_view_module_version": "1.2.0",
            "_view_name": "LayoutView",
            "align_content": null,
            "align_items": null,
            "align_self": null,
            "border": null,
            "bottom": null,
            "display": null,
            "flex": null,
            "flex_flow": null,
            "grid_area": null,
            "grid_auto_columns": null,
            "grid_auto_flow": null,
            "grid_auto_rows": null,
            "grid_column": null,
            "grid_gap": null,
            "grid_row": null,
            "grid_template_areas": null,
            "grid_template_columns": null,
            "grid_template_rows": null,
            "height": null,
            "justify_content": null,
            "justify_items": null,
            "left": null,
            "margin": null,
            "max_height": null,
            "max_width": null,
            "min_height": null,
            "min_width": null,
            "object_fit": null,
            "object_position": null,
            "order": null,
            "overflow": null,
            "overflow_x": null,
            "overflow_y": null,
            "padding": null,
            "right": null,
            "top": null,
            "visibility": null,
            "width": null
          }
        },
        "3e62d7cb21064899a883e5ce24596c87": {
          "model_module": "@jupyter-widgets/controls",
          "model_name": "DescriptionStyleModel",
          "model_module_version": "1.5.0",
          "state": {
            "_model_module": "@jupyter-widgets/controls",
            "_model_module_version": "1.5.0",
            "_model_name": "DescriptionStyleModel",
            "_view_count": null,
            "_view_module": "@jupyter-widgets/base",
            "_view_module_version": "1.2.0",
            "_view_name": "StyleView",
            "description_width": ""
          }
        },
        "045ab266ab2e470e9953ade2bf397228": {
          "model_module": "@jupyter-widgets/base",
          "model_name": "LayoutModel",
          "model_module_version": "1.2.0",
          "state": {
            "_model_module": "@jupyter-widgets/base",
            "_model_module_version": "1.2.0",
            "_model_name": "LayoutModel",
            "_view_count": null,
            "_view_module": "@jupyter-widgets/base",
            "_view_module_version": "1.2.0",
            "_view_name": "LayoutView",
            "align_content": null,
            "align_items": null,
            "align_self": null,
            "border": null,
            "bottom": null,
            "display": null,
            "flex": null,
            "flex_flow": null,
            "grid_area": null,
            "grid_auto_columns": null,
            "grid_auto_flow": null,
            "grid_auto_rows": null,
            "grid_column": null,
            "grid_gap": null,
            "grid_row": null,
            "grid_template_areas": null,
            "grid_template_columns": null,
            "grid_template_rows": null,
            "height": null,
            "justify_content": null,
            "justify_items": null,
            "left": null,
            "margin": null,
            "max_height": null,
            "max_width": null,
            "min_height": null,
            "min_width": null,
            "object_fit": null,
            "object_position": null,
            "order": null,
            "overflow": null,
            "overflow_x": null,
            "overflow_y": null,
            "padding": null,
            "right": null,
            "top": null,
            "visibility": null,
            "width": null
          }
        },
        "c9769372e7c1421890f802a6ed66d297": {
          "model_module": "@jupyter-widgets/controls",
          "model_name": "ProgressStyleModel",
          "model_module_version": "1.5.0",
          "state": {
            "_model_module": "@jupyter-widgets/controls",
            "_model_module_version": "1.5.0",
            "_model_name": "ProgressStyleModel",
            "_view_count": null,
            "_view_module": "@jupyter-widgets/base",
            "_view_module_version": "1.2.0",
            "_view_name": "StyleView",
            "bar_color": null,
            "description_width": ""
          }
        },
        "be275735d6b84a2abd717aa5f4a11c7d": {
          "model_module": "@jupyter-widgets/base",
          "model_name": "LayoutModel",
          "model_module_version": "1.2.0",
          "state": {
            "_model_module": "@jupyter-widgets/base",
            "_model_module_version": "1.2.0",
            "_model_name": "LayoutModel",
            "_view_count": null,
            "_view_module": "@jupyter-widgets/base",
            "_view_module_version": "1.2.0",
            "_view_name": "LayoutView",
            "align_content": null,
            "align_items": null,
            "align_self": null,
            "border": null,
            "bottom": null,
            "display": null,
            "flex": null,
            "flex_flow": null,
            "grid_area": null,
            "grid_auto_columns": null,
            "grid_auto_flow": null,
            "grid_auto_rows": null,
            "grid_column": null,
            "grid_gap": null,
            "grid_row": null,
            "grid_template_areas": null,
            "grid_template_columns": null,
            "grid_template_rows": null,
            "height": null,
            "justify_content": null,
            "justify_items": null,
            "left": null,
            "margin": null,
            "max_height": null,
            "max_width": null,
            "min_height": null,
            "min_width": null,
            "object_fit": null,
            "object_position": null,
            "order": null,
            "overflow": null,
            "overflow_x": null,
            "overflow_y": null,
            "padding": null,
            "right": null,
            "top": null,
            "visibility": null,
            "width": null
          }
        },
        "034b366a100047c68821a094143da3ec": {
          "model_module": "@jupyter-widgets/controls",
          "model_name": "DescriptionStyleModel",
          "model_module_version": "1.5.0",
          "state": {
            "_model_module": "@jupyter-widgets/controls",
            "_model_module_version": "1.5.0",
            "_model_name": "DescriptionStyleModel",
            "_view_count": null,
            "_view_module": "@jupyter-widgets/base",
            "_view_module_version": "1.2.0",
            "_view_name": "StyleView",
            "description_width": ""
          }
        },
        "2f22ac20f1684d849d6a66580899bc8a": {
          "model_module": "@jupyter-widgets/controls",
          "model_name": "HBoxModel",
          "model_module_version": "1.5.0",
          "state": {
            "_dom_classes": [],
            "_model_module": "@jupyter-widgets/controls",
            "_model_module_version": "1.5.0",
            "_model_name": "HBoxModel",
            "_view_count": null,
            "_view_module": "@jupyter-widgets/controls",
            "_view_module_version": "1.5.0",
            "_view_name": "HBoxView",
            "box_style": "",
            "children": [
              "IPY_MODEL_f9b83ee43e7240ff8b96de5bd7936234",
              "IPY_MODEL_2fc49dcc80b948949ac9603f1ab2e79e",
              "IPY_MODEL_b6f9436c19524256999187760e4b87d2"
            ],
            "layout": "IPY_MODEL_52c33c1e90d24d17aa39dbce331327da"
          }
        },
        "f9b83ee43e7240ff8b96de5bd7936234": {
          "model_module": "@jupyter-widgets/controls",
          "model_name": "HTMLModel",
          "model_module_version": "1.5.0",
          "state": {
            "_dom_classes": [],
            "_model_module": "@jupyter-widgets/controls",
            "_model_module_version": "1.5.0",
            "_model_name": "HTMLModel",
            "_view_count": null,
            "_view_module": "@jupyter-widgets/controls",
            "_view_module_version": "1.5.0",
            "_view_name": "HTMLView",
            "description": "",
            "description_tooltip": null,
            "layout": "IPY_MODEL_b78bf604fbd648359e4a20be3bdbb62d",
            "placeholder": "​",
            "style": "IPY_MODEL_5acd0b1ca3ce4395aac1682de0b65326",
            "value": "100%"
          }
        },
        "2fc49dcc80b948949ac9603f1ab2e79e": {
          "model_module": "@jupyter-widgets/controls",
          "model_name": "FloatProgressModel",
          "model_module_version": "1.5.0",
          "state": {
            "_dom_classes": [],
            "_model_module": "@jupyter-widgets/controls",
            "_model_module_version": "1.5.0",
            "_model_name": "FloatProgressModel",
            "_view_count": null,
            "_view_module": "@jupyter-widgets/controls",
            "_view_module_version": "1.5.0",
            "_view_name": "ProgressView",
            "bar_style": "success",
            "description": "",
            "description_tooltip": null,
            "layout": "IPY_MODEL_f843f53393b94ca29dba853f8e20f97d",
            "max": 148,
            "min": 0,
            "orientation": "horizontal",
            "style": "IPY_MODEL_b19aed04c55a4514bf99d546b0351966",
            "value": 148
          }
        },
        "b6f9436c19524256999187760e4b87d2": {
          "model_module": "@jupyter-widgets/controls",
          "model_name": "HTMLModel",
          "model_module_version": "1.5.0",
          "state": {
            "_dom_classes": [],
            "_model_module": "@jupyter-widgets/controls",
            "_model_module_version": "1.5.0",
            "_model_name": "HTMLModel",
            "_view_count": null,
            "_view_module": "@jupyter-widgets/controls",
            "_view_module_version": "1.5.0",
            "_view_name": "HTMLView",
            "description": "",
            "description_tooltip": null,
            "layout": "IPY_MODEL_5c01fd87d9c5465a95a33da594deb41d",
            "placeholder": "​",
            "style": "IPY_MODEL_cd11ae21e99140dcacaaad1c830ffac2",
            "value": " 148/148 [00:03&lt;00:00, 43.88it/s]"
          }
        },
        "52c33c1e90d24d17aa39dbce331327da": {
          "model_module": "@jupyter-widgets/base",
          "model_name": "LayoutModel",
          "model_module_version": "1.2.0",
          "state": {
            "_model_module": "@jupyter-widgets/base",
            "_model_module_version": "1.2.0",
            "_model_name": "LayoutModel",
            "_view_count": null,
            "_view_module": "@jupyter-widgets/base",
            "_view_module_version": "1.2.0",
            "_view_name": "LayoutView",
            "align_content": null,
            "align_items": null,
            "align_self": null,
            "border": null,
            "bottom": null,
            "display": null,
            "flex": null,
            "flex_flow": null,
            "grid_area": null,
            "grid_auto_columns": null,
            "grid_auto_flow": null,
            "grid_auto_rows": null,
            "grid_column": null,
            "grid_gap": null,
            "grid_row": null,
            "grid_template_areas": null,
            "grid_template_columns": null,
            "grid_template_rows": null,
            "height": null,
            "justify_content": null,
            "justify_items": null,
            "left": null,
            "margin": null,
            "max_height": null,
            "max_width": null,
            "min_height": null,
            "min_width": null,
            "object_fit": null,
            "object_position": null,
            "order": null,
            "overflow": null,
            "overflow_x": null,
            "overflow_y": null,
            "padding": null,
            "right": null,
            "top": null,
            "visibility": null,
            "width": null
          }
        },
        "b78bf604fbd648359e4a20be3bdbb62d": {
          "model_module": "@jupyter-widgets/base",
          "model_name": "LayoutModel",
          "model_module_version": "1.2.0",
          "state": {
            "_model_module": "@jupyter-widgets/base",
            "_model_module_version": "1.2.0",
            "_model_name": "LayoutModel",
            "_view_count": null,
            "_view_module": "@jupyter-widgets/base",
            "_view_module_version": "1.2.0",
            "_view_name": "LayoutView",
            "align_content": null,
            "align_items": null,
            "align_self": null,
            "border": null,
            "bottom": null,
            "display": null,
            "flex": null,
            "flex_flow": null,
            "grid_area": null,
            "grid_auto_columns": null,
            "grid_auto_flow": null,
            "grid_auto_rows": null,
            "grid_column": null,
            "grid_gap": null,
            "grid_row": null,
            "grid_template_areas": null,
            "grid_template_columns": null,
            "grid_template_rows": null,
            "height": null,
            "justify_content": null,
            "justify_items": null,
            "left": null,
            "margin": null,
            "max_height": null,
            "max_width": null,
            "min_height": null,
            "min_width": null,
            "object_fit": null,
            "object_position": null,
            "order": null,
            "overflow": null,
            "overflow_x": null,
            "overflow_y": null,
            "padding": null,
            "right": null,
            "top": null,
            "visibility": null,
            "width": null
          }
        },
        "5acd0b1ca3ce4395aac1682de0b65326": {
          "model_module": "@jupyter-widgets/controls",
          "model_name": "DescriptionStyleModel",
          "model_module_version": "1.5.0",
          "state": {
            "_model_module": "@jupyter-widgets/controls",
            "_model_module_version": "1.5.0",
            "_model_name": "DescriptionStyleModel",
            "_view_count": null,
            "_view_module": "@jupyter-widgets/base",
            "_view_module_version": "1.2.0",
            "_view_name": "StyleView",
            "description_width": ""
          }
        },
        "f843f53393b94ca29dba853f8e20f97d": {
          "model_module": "@jupyter-widgets/base",
          "model_name": "LayoutModel",
          "model_module_version": "1.2.0",
          "state": {
            "_model_module": "@jupyter-widgets/base",
            "_model_module_version": "1.2.0",
            "_model_name": "LayoutModel",
            "_view_count": null,
            "_view_module": "@jupyter-widgets/base",
            "_view_module_version": "1.2.0",
            "_view_name": "LayoutView",
            "align_content": null,
            "align_items": null,
            "align_self": null,
            "border": null,
            "bottom": null,
            "display": null,
            "flex": null,
            "flex_flow": null,
            "grid_area": null,
            "grid_auto_columns": null,
            "grid_auto_flow": null,
            "grid_auto_rows": null,
            "grid_column": null,
            "grid_gap": null,
            "grid_row": null,
            "grid_template_areas": null,
            "grid_template_columns": null,
            "grid_template_rows": null,
            "height": null,
            "justify_content": null,
            "justify_items": null,
            "left": null,
            "margin": null,
            "max_height": null,
            "max_width": null,
            "min_height": null,
            "min_width": null,
            "object_fit": null,
            "object_position": null,
            "order": null,
            "overflow": null,
            "overflow_x": null,
            "overflow_y": null,
            "padding": null,
            "right": null,
            "top": null,
            "visibility": null,
            "width": null
          }
        },
        "b19aed04c55a4514bf99d546b0351966": {
          "model_module": "@jupyter-widgets/controls",
          "model_name": "ProgressStyleModel",
          "model_module_version": "1.5.0",
          "state": {
            "_model_module": "@jupyter-widgets/controls",
            "_model_module_version": "1.5.0",
            "_model_name": "ProgressStyleModel",
            "_view_count": null,
            "_view_module": "@jupyter-widgets/base",
            "_view_module_version": "1.2.0",
            "_view_name": "StyleView",
            "bar_color": null,
            "description_width": ""
          }
        },
        "5c01fd87d9c5465a95a33da594deb41d": {
          "model_module": "@jupyter-widgets/base",
          "model_name": "LayoutModel",
          "model_module_version": "1.2.0",
          "state": {
            "_model_module": "@jupyter-widgets/base",
            "_model_module_version": "1.2.0",
            "_model_name": "LayoutModel",
            "_view_count": null,
            "_view_module": "@jupyter-widgets/base",
            "_view_module_version": "1.2.0",
            "_view_name": "LayoutView",
            "align_content": null,
            "align_items": null,
            "align_self": null,
            "border": null,
            "bottom": null,
            "display": null,
            "flex": null,
            "flex_flow": null,
            "grid_area": null,
            "grid_auto_columns": null,
            "grid_auto_flow": null,
            "grid_auto_rows": null,
            "grid_column": null,
            "grid_gap": null,
            "grid_row": null,
            "grid_template_areas": null,
            "grid_template_columns": null,
            "grid_template_rows": null,
            "height": null,
            "justify_content": null,
            "justify_items": null,
            "left": null,
            "margin": null,
            "max_height": null,
            "max_width": null,
            "min_height": null,
            "min_width": null,
            "object_fit": null,
            "object_position": null,
            "order": null,
            "overflow": null,
            "overflow_x": null,
            "overflow_y": null,
            "padding": null,
            "right": null,
            "top": null,
            "visibility": null,
            "width": null
          }
        },
        "cd11ae21e99140dcacaaad1c830ffac2": {
          "model_module": "@jupyter-widgets/controls",
          "model_name": "DescriptionStyleModel",
          "model_module_version": "1.5.0",
          "state": {
            "_model_module": "@jupyter-widgets/controls",
            "_model_module_version": "1.5.0",
            "_model_name": "DescriptionStyleModel",
            "_view_count": null,
            "_view_module": "@jupyter-widgets/base",
            "_view_module_version": "1.2.0",
            "_view_name": "StyleView",
            "description_width": ""
          }
        },
        "6fc824089f0f4c1fa93c0c0938d68186": {
          "model_module": "@jupyter-widgets/controls",
          "model_name": "HBoxModel",
          "model_module_version": "1.5.0",
          "state": {
            "_dom_classes": [],
            "_model_module": "@jupyter-widgets/controls",
            "_model_module_version": "1.5.0",
            "_model_name": "HBoxModel",
            "_view_count": null,
            "_view_module": "@jupyter-widgets/controls",
            "_view_module_version": "1.5.0",
            "_view_name": "HBoxView",
            "box_style": "",
            "children": [
              "IPY_MODEL_0288be9578454b119a01bb8ab2794a44",
              "IPY_MODEL_c2713c3bd7a14966913bac0f5b5dc783",
              "IPY_MODEL_2122d707ede74a6592a5adeccb7a16a0"
            ],
            "layout": "IPY_MODEL_029087a60d614069984fc15da5985f33"
          }
        },
        "0288be9578454b119a01bb8ab2794a44": {
          "model_module": "@jupyter-widgets/controls",
          "model_name": "HTMLModel",
          "model_module_version": "1.5.0",
          "state": {
            "_dom_classes": [],
            "_model_module": "@jupyter-widgets/controls",
            "_model_module_version": "1.5.0",
            "_model_name": "HTMLModel",
            "_view_count": null,
            "_view_module": "@jupyter-widgets/controls",
            "_view_module_version": "1.5.0",
            "_view_name": "HTMLView",
            "description": "",
            "description_tooltip": null,
            "layout": "IPY_MODEL_f30bc65147eb4466a23a54e4c08192cc",
            "placeholder": "​",
            "style": "IPY_MODEL_7f6c3dd6290b429fb11c4bb4ff57f4a8",
            "value": "100%"
          }
        },
        "c2713c3bd7a14966913bac0f5b5dc783": {
          "model_module": "@jupyter-widgets/controls",
          "model_name": "FloatProgressModel",
          "model_module_version": "1.5.0",
          "state": {
            "_dom_classes": [],
            "_model_module": "@jupyter-widgets/controls",
            "_model_module_version": "1.5.0",
            "_model_name": "FloatProgressModel",
            "_view_count": null,
            "_view_module": "@jupyter-widgets/controls",
            "_view_module_version": "1.5.0",
            "_view_name": "ProgressView",
            "bar_style": "success",
            "description": "",
            "description_tooltip": null,
            "layout": "IPY_MODEL_33f7e6fa8fff496a9097de395988e8e5",
            "max": 148,
            "min": 0,
            "orientation": "horizontal",
            "style": "IPY_MODEL_633c5212d4a64072b881ced12c54b5c0",
            "value": 148
          }
        },
        "2122d707ede74a6592a5adeccb7a16a0": {
          "model_module": "@jupyter-widgets/controls",
          "model_name": "HTMLModel",
          "model_module_version": "1.5.0",
          "state": {
            "_dom_classes": [],
            "_model_module": "@jupyter-widgets/controls",
            "_model_module_version": "1.5.0",
            "_model_name": "HTMLModel",
            "_view_count": null,
            "_view_module": "@jupyter-widgets/controls",
            "_view_module_version": "1.5.0",
            "_view_name": "HTMLView",
            "description": "",
            "description_tooltip": null,
            "layout": "IPY_MODEL_7afc1884692f455d83c77aa708b1c0b8",
            "placeholder": "​",
            "style": "IPY_MODEL_45e0b4fb94e048c88ef33f5c7d743764",
            "value": " 148/148 [00:04&lt;00:00, 32.63it/s]"
          }
        },
        "029087a60d614069984fc15da5985f33": {
          "model_module": "@jupyter-widgets/base",
          "model_name": "LayoutModel",
          "model_module_version": "1.2.0",
          "state": {
            "_model_module": "@jupyter-widgets/base",
            "_model_module_version": "1.2.0",
            "_model_name": "LayoutModel",
            "_view_count": null,
            "_view_module": "@jupyter-widgets/base",
            "_view_module_version": "1.2.0",
            "_view_name": "LayoutView",
            "align_content": null,
            "align_items": null,
            "align_self": null,
            "border": null,
            "bottom": null,
            "display": null,
            "flex": null,
            "flex_flow": null,
            "grid_area": null,
            "grid_auto_columns": null,
            "grid_auto_flow": null,
            "grid_auto_rows": null,
            "grid_column": null,
            "grid_gap": null,
            "grid_row": null,
            "grid_template_areas": null,
            "grid_template_columns": null,
            "grid_template_rows": null,
            "height": null,
            "justify_content": null,
            "justify_items": null,
            "left": null,
            "margin": null,
            "max_height": null,
            "max_width": null,
            "min_height": null,
            "min_width": null,
            "object_fit": null,
            "object_position": null,
            "order": null,
            "overflow": null,
            "overflow_x": null,
            "overflow_y": null,
            "padding": null,
            "right": null,
            "top": null,
            "visibility": null,
            "width": null
          }
        },
        "f30bc65147eb4466a23a54e4c08192cc": {
          "model_module": "@jupyter-widgets/base",
          "model_name": "LayoutModel",
          "model_module_version": "1.2.0",
          "state": {
            "_model_module": "@jupyter-widgets/base",
            "_model_module_version": "1.2.0",
            "_model_name": "LayoutModel",
            "_view_count": null,
            "_view_module": "@jupyter-widgets/base",
            "_view_module_version": "1.2.0",
            "_view_name": "LayoutView",
            "align_content": null,
            "align_items": null,
            "align_self": null,
            "border": null,
            "bottom": null,
            "display": null,
            "flex": null,
            "flex_flow": null,
            "grid_area": null,
            "grid_auto_columns": null,
            "grid_auto_flow": null,
            "grid_auto_rows": null,
            "grid_column": null,
            "grid_gap": null,
            "grid_row": null,
            "grid_template_areas": null,
            "grid_template_columns": null,
            "grid_template_rows": null,
            "height": null,
            "justify_content": null,
            "justify_items": null,
            "left": null,
            "margin": null,
            "max_height": null,
            "max_width": null,
            "min_height": null,
            "min_width": null,
            "object_fit": null,
            "object_position": null,
            "order": null,
            "overflow": null,
            "overflow_x": null,
            "overflow_y": null,
            "padding": null,
            "right": null,
            "top": null,
            "visibility": null,
            "width": null
          }
        },
        "7f6c3dd6290b429fb11c4bb4ff57f4a8": {
          "model_module": "@jupyter-widgets/controls",
          "model_name": "DescriptionStyleModel",
          "model_module_version": "1.5.0",
          "state": {
            "_model_module": "@jupyter-widgets/controls",
            "_model_module_version": "1.5.0",
            "_model_name": "DescriptionStyleModel",
            "_view_count": null,
            "_view_module": "@jupyter-widgets/base",
            "_view_module_version": "1.2.0",
            "_view_name": "StyleView",
            "description_width": ""
          }
        },
        "33f7e6fa8fff496a9097de395988e8e5": {
          "model_module": "@jupyter-widgets/base",
          "model_name": "LayoutModel",
          "model_module_version": "1.2.0",
          "state": {
            "_model_module": "@jupyter-widgets/base",
            "_model_module_version": "1.2.0",
            "_model_name": "LayoutModel",
            "_view_count": null,
            "_view_module": "@jupyter-widgets/base",
            "_view_module_version": "1.2.0",
            "_view_name": "LayoutView",
            "align_content": null,
            "align_items": null,
            "align_self": null,
            "border": null,
            "bottom": null,
            "display": null,
            "flex": null,
            "flex_flow": null,
            "grid_area": null,
            "grid_auto_columns": null,
            "grid_auto_flow": null,
            "grid_auto_rows": null,
            "grid_column": null,
            "grid_gap": null,
            "grid_row": null,
            "grid_template_areas": null,
            "grid_template_columns": null,
            "grid_template_rows": null,
            "height": null,
            "justify_content": null,
            "justify_items": null,
            "left": null,
            "margin": null,
            "max_height": null,
            "max_width": null,
            "min_height": null,
            "min_width": null,
            "object_fit": null,
            "object_position": null,
            "order": null,
            "overflow": null,
            "overflow_x": null,
            "overflow_y": null,
            "padding": null,
            "right": null,
            "top": null,
            "visibility": null,
            "width": null
          }
        },
        "633c5212d4a64072b881ced12c54b5c0": {
          "model_module": "@jupyter-widgets/controls",
          "model_name": "ProgressStyleModel",
          "model_module_version": "1.5.0",
          "state": {
            "_model_module": "@jupyter-widgets/controls",
            "_model_module_version": "1.5.0",
            "_model_name": "ProgressStyleModel",
            "_view_count": null,
            "_view_module": "@jupyter-widgets/base",
            "_view_module_version": "1.2.0",
            "_view_name": "StyleView",
            "bar_color": null,
            "description_width": ""
          }
        },
        "7afc1884692f455d83c77aa708b1c0b8": {
          "model_module": "@jupyter-widgets/base",
          "model_name": "LayoutModel",
          "model_module_version": "1.2.0",
          "state": {
            "_model_module": "@jupyter-widgets/base",
            "_model_module_version": "1.2.0",
            "_model_name": "LayoutModel",
            "_view_count": null,
            "_view_module": "@jupyter-widgets/base",
            "_view_module_version": "1.2.0",
            "_view_name": "LayoutView",
            "align_content": null,
            "align_items": null,
            "align_self": null,
            "border": null,
            "bottom": null,
            "display": null,
            "flex": null,
            "flex_flow": null,
            "grid_area": null,
            "grid_auto_columns": null,
            "grid_auto_flow": null,
            "grid_auto_rows": null,
            "grid_column": null,
            "grid_gap": null,
            "grid_row": null,
            "grid_template_areas": null,
            "grid_template_columns": null,
            "grid_template_rows": null,
            "height": null,
            "justify_content": null,
            "justify_items": null,
            "left": null,
            "margin": null,
            "max_height": null,
            "max_width": null,
            "min_height": null,
            "min_width": null,
            "object_fit": null,
            "object_position": null,
            "order": null,
            "overflow": null,
            "overflow_x": null,
            "overflow_y": null,
            "padding": null,
            "right": null,
            "top": null,
            "visibility": null,
            "width": null
          }
        },
        "45e0b4fb94e048c88ef33f5c7d743764": {
          "model_module": "@jupyter-widgets/controls",
          "model_name": "DescriptionStyleModel",
          "model_module_version": "1.5.0",
          "state": {
            "_model_module": "@jupyter-widgets/controls",
            "_model_module_version": "1.5.0",
            "_model_name": "DescriptionStyleModel",
            "_view_count": null,
            "_view_module": "@jupyter-widgets/base",
            "_view_module_version": "1.2.0",
            "_view_name": "StyleView",
            "description_width": ""
          }
        }
      }
    }
  },
  "nbformat": 4,
  "nbformat_minor": 0
}