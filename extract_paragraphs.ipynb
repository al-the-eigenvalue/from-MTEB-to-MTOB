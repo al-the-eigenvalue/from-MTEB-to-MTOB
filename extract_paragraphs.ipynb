{
  "cells": [
    {
      "cell_type": "code",
      "execution_count": null,
      "metadata": {
        "id": "yIlMwV7l-Fre"
      },
      "outputs": [],
      "source": [
        "%%capture\n",
        "!sudo apt-get update\n",
        "!sudo apt install build-essential libpoppler-cpp-dev pkg-config python3-dev\n",
        "!pip install pdftotext rank_bm25"
      ]
    },
    {
      "cell_type": "code",
      "execution_count": null,
      "metadata": {
        "id": "UA3CgCBG-SU0"
      },
      "outputs": [],
      "source": [
        "import numpy as np\n",
        "import os\n",
        "import pandas as pd\n",
        "import pdftotext\n",
        "import re\n",
        "import requests\n",
        "import random\n",
        "import spacy\n",
        "\n",
        "from bs4 import BeautifulSoup\n",
        "from google.colab import drive\n",
        "from os import listdir\n",
        "from os.path import isfile, join\n",
        "from rank_bm25 import BM25Okapi\n",
        "from spacy.lang.en import stop_words\n",
        "from tqdm.notebook import tqdm"
      ]
    },
    {
      "cell_type": "code",
      "execution_count": null,
      "metadata": {
        "colab": {
          "base_uri": "https://localhost:8080/"
        },
        "id": "4AiSX7z5_9iG",
        "outputId": "8929edc6-d8f9-403f-cdfc-688239c44b46"
      },
      "outputs": [
        {
          "output_type": "stream",
          "name": "stdout",
          "text": [
            "Mounted at /content/drive\n"
          ]
        }
      ],
      "source": [
        "from google.colab import drive\n",
        "drive.mount('/content/drive', force_remount=True)"
      ]
    },
    {
      "cell_type": "code",
      "source": [
        "base_dir = '/content/drive/My Drive/Grammars Paragraphs'\n",
        "subdirs = ['GB 107', 'WALS 49A', 'WALS 81A', 'WALS 116A']\n",
        "subsubdirs = ['Ablation', 'Reranker 20', 'Wikipedia 50']\n",
        "\n",
        "for subdir in subdirs:\n",
        "    for subsubdir in subsubdirs:\n",
        "        os.makedirs(os.path.join(base_dir, subdir, subsubdir), exist_ok=True)\n",
        "\n",
        "print('Directories created successfully!')"
      ],
      "metadata": {
        "colab": {
          "base_uri": "https://localhost:8080/"
        },
        "id": "ZipvFusKiPlR",
        "outputId": "9ba2969d-b79a-4cd4-d4af-e532baa7fda8"
      },
      "execution_count": null,
      "outputs": [
        {
          "output_type": "stream",
          "name": "stdout",
          "text": [
            "Directories created successfully!\n"
          ]
        }
      ]
    },
    {
      "cell_type": "code",
      "execution_count": null,
      "metadata": {
        "id": "HYFVJIy9Uaf3"
      },
      "outputs": [],
      "source": [
        "stopwords = stop_words.STOP_WORDS\n",
        "model = spacy.load('en_core_web_sm', disable=['parser', 'ner'])\n",
        "model.max_length = 5000000"
      ]
    },
    {
      "cell_type": "code",
      "execution_count": null,
      "metadata": {
        "id": "UKcR_sqHbTdi"
      },
      "outputs": [],
      "source": [
        "def first_letter(s):\n",
        "    m = re.search(r'[a-z]', s, re.I)\n",
        "    if m is not None:\n",
        "        return s[m.start()]\n",
        "    return 'A'"
      ]
    },
    {
      "cell_type": "code",
      "execution_count": null,
      "metadata": {
        "id": "yNzGlaKdbh-5"
      },
      "outputs": [],
      "source": [
        "def end_of_sentence(text):\n",
        "    text = text.strip('\\n ')\n",
        "    stop = ('.', '?', '!', '…')\n",
        "    for item in stop:\n",
        "        if text.endswith(item) or text.endswith(item + '”') or text.endswith(item + '\"') or text.endswith(item + '\\''):\n",
        "            return True\n",
        "    return False"
      ]
    },
    {
      "cell_type": "code",
      "execution_count": null,
      "metadata": {
        "id": "WrnaB_s39-fM"
      },
      "outputs": [],
      "source": [
        "def preprocess(text):\n",
        "    return re.sub('\\[\\d+\\]|\\[citation needed\\]', '', text.strip('\\n'))\n",
        "\n",
        "def get_query(revision_id):\n",
        "    url = f'https://en.wikipedia.org/w/api.php'\n",
        "    params = {\n",
        "        'action': 'parse',\n",
        "        'oldid': revision_id,\n",
        "        'prop': 'text',\n",
        "        'format': 'json'\n",
        "    }\n",
        "\n",
        "    response = requests.get(url, params=params)\n",
        "    data = response.json()\n",
        "    html_content = data['parse']['text']['*']\n",
        "    soup = BeautifulSoup(html_content, 'html.parser')\n",
        "\n",
        "    start_summary = soup.find('p')\n",
        "    start_next_section = soup.find('meta')\n",
        "    summary = [preprocess(start_summary.text)]\n",
        "\n",
        "    elems = start_summary.next_siblings\n",
        "    for i, elem in enumerate(elems):\n",
        "        if elem == start_next_section:\n",
        "            break\n",
        "        if elem.name is not None:\n",
        "            text = preprocess(elem.text)\n",
        "            if elem.name == 'ul':\n",
        "                text = '\\n' + text\n",
        "            summary.append(text)\n",
        "\n",
        "    return '\\n'.join(summary)"
      ]
    },
    {
      "cell_type": "code",
      "execution_count": null,
      "metadata": {
        "id": "M9J0sKBkUHP4"
      },
      "outputs": [],
      "source": [
        "def get_lemmatized_query(query):\n",
        "    tokenized_query = model(query.lower())\n",
        "    lemmatized_query = []\n",
        "\n",
        "    for token in tokenized_query:\n",
        "        if token.lemma_ not in stopwords and token.is_alpha:\n",
        "            lemmatized_query.append(token.lemma_)\n",
        "\n",
        "    return lemmatized_query"
      ]
    },
    {
      "cell_type": "code",
      "execution_count": null,
      "metadata": {
        "id": "cbAIKrAVUe-1"
      },
      "outputs": [],
      "source": [
        "def get_new_paragraphs(paragraphs, page_numbers):\n",
        "    new_paragraphs = [paragraphs[0]]\n",
        "    new_dict = dict()\n",
        "    new_dict[paragraphs[0]] = [page_numbers[0]]\n",
        "    for i in range(1, len(paragraphs)):\n",
        "        paragraph = paragraphs[i].strip('  ')\n",
        "        if len(paragraph) > 0:\n",
        "            if (not end_of_sentence(new_paragraphs[-1])) | first_letter(paragraphs[i]).islower():\n",
        "                index = new_dict[new_paragraphs[-1]]\n",
        "                del new_dict[new_paragraphs[-1]]\n",
        "                new_paragraphs[-1] += paragraphs[i]\n",
        "                if index[-1] != page_numbers[i]:\n",
        "                    index.append(page_numbers[i])\n",
        "                new_dict[new_paragraphs[-1]] = index\n",
        "            else:\n",
        "                new_paragraphs.append(paragraphs[i])\n",
        "                new_dict[paragraphs[i]] = [page_numbers[i]]\n",
        "    return new_dict"
      ]
    },
    {
      "cell_type": "code",
      "execution_count": null,
      "metadata": {
        "id": "JTuOoH1z9-fM"
      },
      "outputs": [],
      "source": [
        "def get_paragraphs_bm25(lemmatized_query, path_to_grammars, filename, out_path, layout=False):\n",
        "    if not isfile(f'{out_path}{os.path.basename(filename)[:-4]}.csv'):\n",
        "        with open(join(path_to_grammars, filename), 'rb') as f:\n",
        "            pdf = pdftotext.PDF(f, physical=layout)\n",
        "        page_numbers = []\n",
        "        paragraphs = []\n",
        "        for j in range(1, len(pdf) + 1):\n",
        "            addition = re.split('\\n\\n', pdf[j - 1])\n",
        "            paragraphs.extend(addition)\n",
        "            for paragraph in addition:\n",
        "                page_numbers.append(j)\n",
        "        new_dict = get_new_paragraphs(paragraphs, page_numbers)\n",
        "        new_paragraphs = [key for key in new_dict]\n",
        "\n",
        "        lemmatized_paragraphs = []\n",
        "\n",
        "        for paragraph in new_paragraphs:\n",
        "            lemmatized_paragraph = []\n",
        "            doc = model(paragraph.lower())\n",
        "            for token in doc:\n",
        "                if token.lemma_ not in stopwords and token.is_alpha:\n",
        "                    lemmatized_paragraph.append(token.lemma_)\n",
        "            lemmatized_paragraphs.append(lemmatized_paragraph)\n",
        "\n",
        "        bm25 = BM25Okapi(lemmatized_paragraphs)\n",
        "\n",
        "        top_n = bm25.get_top_n(lemmatized_query, new_paragraphs, n=50)\n",
        "\n",
        "        df = pd.DataFrame({'Paragraph': top_n, 'Page number': [new_dict[key] for key in top_n]})\n",
        "        df.to_csv(f'{out_path}{os.path.basename(filename)[:-4]}.csv', index=False)"
      ]
    },
    {
      "cell_type": "code",
      "execution_count": null,
      "metadata": {
        "id": "_73-mBlFBSdy"
      },
      "outputs": [],
      "source": [
        "path_to_grammars = '/content/drive/MyDrive/Grammars Benchmark'\n",
        "grammar_files = [f for f in listdir(path_to_grammars) if isfile(join(path_to_grammars, f))]"
      ]
    },
    {
      "cell_type": "markdown",
      "metadata": {
        "id": "84WtVqgofUu1"
      },
      "source": [
        "## WALS 81A: Order of Subject, Object and Verb"
      ]
    },
    {
      "cell_type": "code",
      "execution_count": null,
      "metadata": {
        "id": "IuOP4KDmcInx",
        "colab": {
          "base_uri": "https://localhost:8080/",
          "height": 126
        },
        "outputId": "0e6613e4-bd4d-47fa-ea3e-bbcbf58c625b"
      },
      "outputs": [
        {
          "output_type": "execute_result",
          "data": {
            "text/plain": [
              "'In linguistics, word order (also known as linear order) is the order of the syntactic constituents of a language. Word order typology studies it from a cross-linguistic perspective, and examines how languages employ different orders. Correlations between orders found in different syntactic sub-domains are also of interest. The primary word orders that are of interest are\\n\\nthe constituent order of a clause, namely the relative order of subject, object, and verb;\\nthe order of modifiers (adjectives, numerals, demonstratives, possessives, and adjuncts) in a noun phrase;\\nthe order of adverbials.\\nSome languages use relatively fixed word order, often relying on the order of constituents to convey grammatical information. Other languages—often those that convey grammatical information through inflection—allow more flexible word order, which can be used to encode pragmatic information, such as topicalisation or focus. However, even languages with flexible word order have a preferred or basic word order, with other word orders considered \"marked\".\\nConstituent word order is defined in terms of a finite verb (V) in combination with two arguments, namely the subject (S), and object (O). Subject and object are here understood to be nouns, since pronouns often tend to display different word order properties. Thus, a transitive sentence has six logically possible basic word orders:\\n\\nabout half of the world\\'s languages deploy subject–object–verb order (SOV);\\nabout one-third of the world\\'s languages deploy subject–verb–object order (SVO);\\na smaller fraction of languages deploy verb–subject–object (VSO) order;\\nthe remaining three arrangements are rarer: verb–object–subject (VOS) is slightly more common than object–verb–subject (OVS), and object–subject–verb (OSV) is the rarest by a significant margin.'"
            ],
            "application/vnd.google.colaboratory.intrinsic+json": {
              "type": "string"
            }
          },
          "metadata": {},
          "execution_count": 13
        }
      ],
      "source": [
        "paragraphs_path = '/content/drive/MyDrive/Grammars Paragraphs/WALS 81A/Wikipedia 50/'\n",
        "\n",
        "# Summary for the Wikipedia article titled \"Word order\"\n",
        "# as of September 3rd, 2024\n",
        "query = get_query(1240489972)\n",
        "query"
      ]
    },
    {
      "cell_type": "code",
      "execution_count": null,
      "metadata": {
        "colab": {
          "base_uri": "https://localhost:8080/",
          "height": 49,
          "referenced_widgets": [
            "d9a7bc81959842e9aa868768a5c82047",
            "d08914d1e76242be89a2beb410ea26ed",
            "b5af555bb6cc4af0b8e2e439ab0aaabc",
            "d82ef359eb424fdabffde9e8db46630e",
            "8f4388e725444787a2e3230fe273b8f4",
            "300ae009736a48529e9a4d367e7badbc",
            "213fb25cbec3425da94725445d3258c2",
            "730dcfc7a2d54ab7a8e32d86e7f177d5",
            "3adc0210cf7f495391f6bd6da9da302e",
            "60a7c6b6a6c64baba56dfd537ea6e3a5",
            "cbed160641674bc3824b534e462690be"
          ]
        },
        "id": "Bk-c3r5jNTc3",
        "outputId": "fb6259ff-5c8a-4530-983c-2249cb2aba5c"
      },
      "outputs": [
        {
          "output_type": "display_data",
          "data": {
            "text/plain": [
              "  0%|          | 0/148 [00:00<?, ?it/s]"
            ],
            "application/vnd.jupyter.widget-view+json": {
              "version_major": 2,
              "version_minor": 0,
              "model_id": "d9a7bc81959842e9aa868768a5c82047"
            }
          },
          "metadata": {}
        }
      ],
      "source": [
        "lemmatized_query = get_lemmatized_query(query)\n",
        "for filename in tqdm(grammar_files):\n",
        "    get_paragraphs_bm25(lemmatized_query, path_to_grammars, filename, paragraphs_path)"
      ]
    },
    {
      "cell_type": "markdown",
      "metadata": {
        "id": "2pfuJqPZTnNH"
      },
      "source": [
        "## GB107: Can standard negation be marked by an affix, clitic or modification of the verb?"
      ]
    },
    {
      "cell_type": "code",
      "execution_count": null,
      "metadata": {
        "id": "qVGmeZN-chB2",
        "colab": {
          "base_uri": "https://localhost:8080/",
          "height": 126
        },
        "outputId": "878a82c8-cec4-41bc-b9d0-d9ee62d68b28"
      },
      "outputs": [
        {
          "output_type": "execute_result",
          "data": {
            "text/plain": [
              "'In linguistics and grammar, affirmation (abbreviated AFF) and negation (NEG) are ways in which grammar encodes positive and negative polarity into verb phrases, clauses, or other utterances. An affirmative (positive) form is used to express the validity or truth of a basic assertion, while a negative form expresses its falsity. For example, the affirmative  sentence \"Joe is here\" asserts that it is true that Joe is currently located near the speaker. Conversely, the negative sentence \"Joe is not here\" asserts that it is not true that Joe is currently located near the speaker.\\nThe grammatical category associated with affirmatives and negatives is called polarity. This means that a clause, sentence, verb phrase, etc. may be said to have either affirmative or negative polarity (its polarity may be either affirmative or negative). Affirmative is typically the unmarked polarity, whereas a negative statement is marked in some way. Negative polarity can be indicated by negating words or particles such as the English not, or the Japanese affix  -nai, or by other means, which reverses the meaning of the predicate. The process of converting affirmative to negative is called negation – the grammatical rules for negation vary from language to language, and a given language may have multiple methods of negation.\\nAffirmative and negative responses (specifically, though not exclusively, to questions) are often expressed using particles or words such as yes and no, where yes is the affirmative, or positive particle, and no is the negation, or negative particle.'"
            ],
            "application/vnd.google.colaboratory.intrinsic+json": {
              "type": "string"
            }
          },
          "metadata": {},
          "execution_count": 15
        }
      ],
      "source": [
        "paragraphs_path = '/content/drive/MyDrive/Grammars Paragraphs/GB 107/Wikipedia 50/'\n",
        "\n",
        "# Summary for the Wikipedia article titled \"Affirmation and negation\"\n",
        "# as of September 3rd, 2024\n",
        "query = get_query(1202783032)\n",
        "query"
      ]
    },
    {
      "cell_type": "code",
      "execution_count": null,
      "metadata": {
        "colab": {
          "base_uri": "https://localhost:8080/",
          "height": 49,
          "referenced_widgets": [
            "f2b5fa817fa945de8193a7a5ce324a3c",
            "a759b4b7b4c84229a3cd0cfd7e27b3fa",
            "ad08e93b1bbb4cbeb99a95c6b8f3d07b",
            "29d5747361514a03901407e391d098ed",
            "4eb320c16d58455592b778fff062f63a",
            "be1aaa4b39cd4f26ad754be0e8fe53e7",
            "6f25fae1c1264e9bbfc8b511dc598537",
            "ce65d6c3db8a48b0a6fc4e0cab3ce584",
            "9c352dc0088348e9bd162e2a95fac73c",
            "f6a4065b3b2e4463b178d41314a518f2",
            "2b4af265fb9a408ba328137bee84920a"
          ]
        },
        "id": "OTek3-XiTmGT",
        "outputId": "42eb038c-199a-4f7d-aea5-461babd2506b"
      },
      "outputs": [
        {
          "output_type": "display_data",
          "data": {
            "text/plain": [
              "  0%|          | 0/148 [00:00<?, ?it/s]"
            ],
            "application/vnd.jupyter.widget-view+json": {
              "version_major": 2,
              "version_minor": 0,
              "model_id": "f2b5fa817fa945de8193a7a5ce324a3c"
            }
          },
          "metadata": {}
        }
      ],
      "source": [
        "lemmatized_query = get_lemmatized_query(query)\n",
        "for filename in tqdm(grammar_files):\n",
        "    get_paragraphs_bm25(lemmatized_query, path_to_grammars, filename, paragraphs_path)"
      ]
    },
    {
      "cell_type": "markdown",
      "metadata": {
        "id": "Hw9AIWvinSe1"
      },
      "source": [
        "## WALS 116A: Polar Questions"
      ]
    },
    {
      "cell_type": "code",
      "execution_count": null,
      "metadata": {
        "id": "FFGsE5LacrKN",
        "colab": {
          "base_uri": "https://localhost:8080/",
          "height": 126
        },
        "outputId": "5f4449e2-6834-4bd4-ad25-ff4bf06e5b17"
      },
      "outputs": [
        {
          "output_type": "execute_result",
          "data": {
            "text/plain": [
              "'In linguistics, a yes–no question, also known as a binary question, a polar question, or a general question, is a question whose expected answer is one of two choices, one that provides an affirmative answer to the question versus one that provides a negative answer to the question. Typically, in English, the choices are either \"yes\" or \"no\". Yes–no questions present an exclusive disjunction, namely a pair of alternatives of which only one is a felicitous answer. In English, such questions can be formed in both positive and negative forms:\\n\\npositive yes/no question:  \"Will you be here tomorrow?\"\\nnegative yes/no question:  \"Won\\'t you be here tomorrow?\"\\nYes–no questions are in contrast with non-polar wh-questions. The latter are also called content questions, and are formed with the five Ws plus an H ( \"who\", \"what\", \"where\", \"when\", \"why\", \"how\"). Rather than restricting the range of possible answers to two alternatives, content questions are compatible with a broad range of alternative answers.  For example, questions beginning with \"who\", involve a set of several alternatives, from which one is to be drawn; in this respect, they are open-ended questions. In contrast, yes–no questions are closed-ended questions, as they only permit one of two answers, namely \"yes\" or \"no\".'"
            ],
            "application/vnd.google.colaboratory.intrinsic+json": {
              "type": "string"
            }
          },
          "metadata": {},
          "execution_count": 17
        }
      ],
      "source": [
        "paragraphs_path = '/content/drive/MyDrive/Grammars Paragraphs/WALS 116A/Wikipedia 50/'\n",
        "\n",
        "# Summary for the Wikipedia article titled \"Yes–no question\"\n",
        "# as of September 3rd, 2024\n",
        "query = get_query(1236424936)\n",
        "query"
      ]
    },
    {
      "cell_type": "code",
      "execution_count": null,
      "metadata": {
        "colab": {
          "base_uri": "https://localhost:8080/",
          "height": 49,
          "referenced_widgets": [
            "56c2db58d63d430eadcbcc67dc1932a0",
            "818bedb47d6940678f58d402ff5421e9",
            "a72eb6bb2ab54a1cadbb015c7248fc60",
            "11a6874d04154e23877ac1a7e5f80db1",
            "5addb9f036cf44ab8134e03022dd6d6f",
            "1c3583062a7e422c8202a7fc045d9a67",
            "80ed457b098843a590dfacb6bee6cfc7",
            "aed496655d1941f797f8e1a6aa35f90e",
            "bb5f8ca88f824e61bb4cacaebfb36abf",
            "5a17eb370ae64c488491b94bd611081c",
            "7879e94eb67e47cca8259aa6468bc9d4"
          ]
        },
        "id": "xgy-ZTmXj0xu",
        "outputId": "14275bd6-4afe-442e-c54f-5b28a2fe0b01"
      },
      "outputs": [
        {
          "output_type": "display_data",
          "data": {
            "text/plain": [
              "  0%|          | 0/148 [00:00<?, ?it/s]"
            ],
            "application/vnd.jupyter.widget-view+json": {
              "version_major": 2,
              "version_minor": 0,
              "model_id": "56c2db58d63d430eadcbcc67dc1932a0"
            }
          },
          "metadata": {}
        }
      ],
      "source": [
        "lemmatized_query = get_lemmatized_query(query)\n",
        "for filename in tqdm(grammar_files):\n",
        "    get_paragraphs_bm25(lemmatized_query, path_to_grammars, filename, paragraphs_path)"
      ]
    },
    {
      "cell_type": "markdown",
      "metadata": {
        "id": "N-3mOoY3cvrG"
      },
      "source": [
        "## WALS 49A: Number of Cases"
      ]
    },
    {
      "cell_type": "code",
      "execution_count": null,
      "metadata": {
        "id": "gksJndI_PfL4"
      },
      "outputs": [],
      "source": [
        "path_to_grammars = '/content/drive/MyDrive/Grammars Benchmark: Number of Cases'\n",
        "grammar_files = [f for f in listdir(path_to_grammars) if isfile(join(path_to_grammars, f))]"
      ]
    },
    {
      "cell_type": "code",
      "execution_count": null,
      "metadata": {
        "id": "RYs1Arcdnmw7",
        "colab": {
          "base_uri": "https://localhost:8080/",
          "height": 126
        },
        "outputId": "2a775fff-4aec-49f6-ef1c-465f590a9bbb"
      },
      "outputs": [
        {
          "output_type": "execute_result",
          "data": {
            "text/plain": [
              "'A grammatical case is a category of nouns and noun modifiers (determiners, adjectives, participles, and numerals) that corresponds to one or more potential grammatical functions for a nominal group in a wording. In various languages, nominal groups consisting of a noun and its modifiers belong to one of a few such categories. For instance, in English, one says I see them and they see me: the nominative pronouns I/they represent the perceiver and the accusative pronouns me/them represent the phenomenon perceived. Here, nominative and accusative are cases, that is, categories of pronouns corresponding to the functions they have in representation.\\nEnglish has largely lost its inflected case system but personal pronouns still have three cases, which are simplified forms of the nominative, accusative (including functions formerly handled by the dative) and genitive cases. They are used with personal pronouns: subjective case (I, you, he, she, it, we, they, who, whoever), objective case (me, you, him, her, it, us, them, whom, whomever) and possessive case (my, mine; your, yours; his; her, hers; its; our, ours; their, theirs; whose; whosever). Forms such as I, he and we are used for the subject (\"I kicked John\"), and forms such as me, him and us are used for the object (\"John kicked me\").\\nAs a language evolves, cases can merge (for instance, in Ancient Greek, the locative case merged with the dative), a phenomenon known as syncretism.\\nLanguages such as Sanskrit, Kannada, Latin, Tamil, and Russian have extensive case systems, with nouns, pronouns, adjectives, and determiners all inflecting (usually by means of different suffixes) to indicate their case. The number of cases differs between languages: Persian has three; modern English has three but for pronouns only; Torlakian dialects, Classical and Modern Standard Arabic have three; German, Icelandic, Modern Greek, and Irish have four; Romanian and Ancient Greek have five; Bengali, Latin, Russian, Slovak, Kajkavian, Slovenian, and Turkish each have at least six; Armenian, Czech, Georgian, Latvian, Lithuanian, Polish, Serbo-Croatian and Ukrainian have seven; Mongolian, Marathi, Sanskrit, Kannada, Tamil, Telugu, Malayalam, Assamese and Greenlandic have eight; Old Nubian had nine; Basque has 13; Estonian has 14; Finnish has 15; Hungarian has 18; and Tsez has at least 36 cases.\\nCommonly encountered cases include nominative, accusative, dative and genitive. A role that one of those languages marks by case is often marked in English with a preposition. For example, the English prepositional phrase with (his) foot (as in \"John kicked the ball with his foot\") might be rendered in Russian using a single noun in the instrumental case, or in Ancient Greek as τῷ ποδί (tôi podí, meaning \"the foot\") with both words (the definite article, and the noun πούς (poús) \"foot\") changing to dative form.\\nMore formally, case has been defined as \"a system of marking dependent nouns for the type of relationship they bear to their heads\".:\\u200ap.1\\u200a Cases should be distinguished from thematic roles such as agent and patient. They are often closely related, and in languages such as Latin, several thematic roles are realised by a somewhat fixed case for deponent verbs, but cases are a syntagmatic/phrasal category, and thematic roles are the function of a syntagma/phrase in a larger structure. Languages having cases often exhibit free word order, as thematic roles are not required to be marked by position in the sentence.'"
            ],
            "application/vnd.google.colaboratory.intrinsic+json": {
              "type": "string"
            }
          },
          "metadata": {},
          "execution_count": 20
        }
      ],
      "source": [
        "paragraphs_path = '/content/drive/MyDrive/Grammars Paragraphs/WALS 49A/Wikipedia 50/'\n",
        "\n",
        "# Summary for the Wikipedia article titled \"Grammatical case\"\n",
        "# as of September 3rd, 2024\n",
        "query = get_query(1238822129)\n",
        "query"
      ]
    },
    {
      "cell_type": "code",
      "execution_count": null,
      "metadata": {
        "colab": {
          "base_uri": "https://localhost:8080/",
          "height": 49,
          "referenced_widgets": [
            "96c0f969c053416da2f15cc49f218b92",
            "ec4fe999352b45d2af4a06719563661f",
            "577ad91c531e4d5ba5b3161ed519631c",
            "b956317c31e749a08700a26689b8f62d",
            "92df2bc120f24265826befb1fb176777",
            "0e9fb5f1d10042f5bf0006e64b853eea",
            "e2bad8f187264f1aae5d0a071ead0bac",
            "87c33567324d4ba5b42dda944ebb2edd",
            "68873234e7434fff81a1262a4c0426e5",
            "adca0cd44b4c458482f44b4e149a758b",
            "b98d402e27964d02b6c6d29df6f33701"
          ]
        },
        "id": "43QFiQGvQJK1",
        "outputId": "56c70c32-b783-4bb5-e269-fb46e42b3487"
      },
      "outputs": [
        {
          "output_type": "display_data",
          "data": {
            "text/plain": [
              "  0%|          | 0/148 [00:00<?, ?it/s]"
            ],
            "application/vnd.jupyter.widget-view+json": {
              "version_major": 2,
              "version_minor": 0,
              "model_id": "96c0f969c053416da2f15cc49f218b92"
            }
          },
          "metadata": {}
        }
      ],
      "source": [
        "lemmatized_query = get_lemmatized_query(query)\n",
        "for filename in tqdm(grammar_files):\n",
        "    get_paragraphs_bm25(lemmatized_query, path_to_grammars, filename, paragraphs_path)"
      ]
    }
  ],
  "metadata": {
    "colab": {
      "provenance": []
    },
    "language_info": {
      "name": "python"
    },
    "widgets": {
      "application/vnd.jupyter.widget-state+json": {
        "d9a7bc81959842e9aa868768a5c82047": {
          "model_module": "@jupyter-widgets/controls",
          "model_name": "HBoxModel",
          "model_module_version": "1.5.0",
          "state": {
            "_dom_classes": [],
            "_model_module": "@jupyter-widgets/controls",
            "_model_module_version": "1.5.0",
            "_model_name": "HBoxModel",
            "_view_count": null,
            "_view_module": "@jupyter-widgets/controls",
            "_view_module_version": "1.5.0",
            "_view_name": "HBoxView",
            "box_style": "",
            "children": [
              "IPY_MODEL_d08914d1e76242be89a2beb410ea26ed",
              "IPY_MODEL_b5af555bb6cc4af0b8e2e439ab0aaabc",
              "IPY_MODEL_d82ef359eb424fdabffde9e8db46630e"
            ],
            "layout": "IPY_MODEL_8f4388e725444787a2e3230fe273b8f4"
          }
        },
        "d08914d1e76242be89a2beb410ea26ed": {
          "model_module": "@jupyter-widgets/controls",
          "model_name": "HTMLModel",
          "model_module_version": "1.5.0",
          "state": {
            "_dom_classes": [],
            "_model_module": "@jupyter-widgets/controls",
            "_model_module_version": "1.5.0",
            "_model_name": "HTMLModel",
            "_view_count": null,
            "_view_module": "@jupyter-widgets/controls",
            "_view_module_version": "1.5.0",
            "_view_name": "HTMLView",
            "description": "",
            "description_tooltip": null,
            "layout": "IPY_MODEL_300ae009736a48529e9a4d367e7badbc",
            "placeholder": "​",
            "style": "IPY_MODEL_213fb25cbec3425da94725445d3258c2",
            "value": "100%"
          }
        },
        "b5af555bb6cc4af0b8e2e439ab0aaabc": {
          "model_module": "@jupyter-widgets/controls",
          "model_name": "FloatProgressModel",
          "model_module_version": "1.5.0",
          "state": {
            "_dom_classes": [],
            "_model_module": "@jupyter-widgets/controls",
            "_model_module_version": "1.5.0",
            "_model_name": "FloatProgressModel",
            "_view_count": null,
            "_view_module": "@jupyter-widgets/controls",
            "_view_module_version": "1.5.0",
            "_view_name": "ProgressView",
            "bar_style": "success",
            "description": "",
            "description_tooltip": null,
            "layout": "IPY_MODEL_730dcfc7a2d54ab7a8e32d86e7f177d5",
            "max": 148,
            "min": 0,
            "orientation": "horizontal",
            "style": "IPY_MODEL_3adc0210cf7f495391f6bd6da9da302e",
            "value": 148
          }
        },
        "d82ef359eb424fdabffde9e8db46630e": {
          "model_module": "@jupyter-widgets/controls",
          "model_name": "HTMLModel",
          "model_module_version": "1.5.0",
          "state": {
            "_dom_classes": [],
            "_model_module": "@jupyter-widgets/controls",
            "_model_module_version": "1.5.0",
            "_model_name": "HTMLModel",
            "_view_count": null,
            "_view_module": "@jupyter-widgets/controls",
            "_view_module_version": "1.5.0",
            "_view_name": "HTMLView",
            "description": "",
            "description_tooltip": null,
            "layout": "IPY_MODEL_60a7c6b6a6c64baba56dfd537ea6e3a5",
            "placeholder": "​",
            "style": "IPY_MODEL_cbed160641674bc3824b534e462690be",
            "value": " 148/148 [00:00&lt;00:00, 302.40it/s]"
          }
        },
        "8f4388e725444787a2e3230fe273b8f4": {
          "model_module": "@jupyter-widgets/base",
          "model_name": "LayoutModel",
          "model_module_version": "1.2.0",
          "state": {
            "_model_module": "@jupyter-widgets/base",
            "_model_module_version": "1.2.0",
            "_model_name": "LayoutModel",
            "_view_count": null,
            "_view_module": "@jupyter-widgets/base",
            "_view_module_version": "1.2.0",
            "_view_name": "LayoutView",
            "align_content": null,
            "align_items": null,
            "align_self": null,
            "border": null,
            "bottom": null,
            "display": null,
            "flex": null,
            "flex_flow": null,
            "grid_area": null,
            "grid_auto_columns": null,
            "grid_auto_flow": null,
            "grid_auto_rows": null,
            "grid_column": null,
            "grid_gap": null,
            "grid_row": null,
            "grid_template_areas": null,
            "grid_template_columns": null,
            "grid_template_rows": null,
            "height": null,
            "justify_content": null,
            "justify_items": null,
            "left": null,
            "margin": null,
            "max_height": null,
            "max_width": null,
            "min_height": null,
            "min_width": null,
            "object_fit": null,
            "object_position": null,
            "order": null,
            "overflow": null,
            "overflow_x": null,
            "overflow_y": null,
            "padding": null,
            "right": null,
            "top": null,
            "visibility": null,
            "width": null
          }
        },
        "300ae009736a48529e9a4d367e7badbc": {
          "model_module": "@jupyter-widgets/base",
          "model_name": "LayoutModel",
          "model_module_version": "1.2.0",
          "state": {
            "_model_module": "@jupyter-widgets/base",
            "_model_module_version": "1.2.0",
            "_model_name": "LayoutModel",
            "_view_count": null,
            "_view_module": "@jupyter-widgets/base",
            "_view_module_version": "1.2.0",
            "_view_name": "LayoutView",
            "align_content": null,
            "align_items": null,
            "align_self": null,
            "border": null,
            "bottom": null,
            "display": null,
            "flex": null,
            "flex_flow": null,
            "grid_area": null,
            "grid_auto_columns": null,
            "grid_auto_flow": null,
            "grid_auto_rows": null,
            "grid_column": null,
            "grid_gap": null,
            "grid_row": null,
            "grid_template_areas": null,
            "grid_template_columns": null,
            "grid_template_rows": null,
            "height": null,
            "justify_content": null,
            "justify_items": null,
            "left": null,
            "margin": null,
            "max_height": null,
            "max_width": null,
            "min_height": null,
            "min_width": null,
            "object_fit": null,
            "object_position": null,
            "order": null,
            "overflow": null,
            "overflow_x": null,
            "overflow_y": null,
            "padding": null,
            "right": null,
            "top": null,
            "visibility": null,
            "width": null
          }
        },
        "213fb25cbec3425da94725445d3258c2": {
          "model_module": "@jupyter-widgets/controls",
          "model_name": "DescriptionStyleModel",
          "model_module_version": "1.5.0",
          "state": {
            "_model_module": "@jupyter-widgets/controls",
            "_model_module_version": "1.5.0",
            "_model_name": "DescriptionStyleModel",
            "_view_count": null,
            "_view_module": "@jupyter-widgets/base",
            "_view_module_version": "1.2.0",
            "_view_name": "StyleView",
            "description_width": ""
          }
        },
        "730dcfc7a2d54ab7a8e32d86e7f177d5": {
          "model_module": "@jupyter-widgets/base",
          "model_name": "LayoutModel",
          "model_module_version": "1.2.0",
          "state": {
            "_model_module": "@jupyter-widgets/base",
            "_model_module_version": "1.2.0",
            "_model_name": "LayoutModel",
            "_view_count": null,
            "_view_module": "@jupyter-widgets/base",
            "_view_module_version": "1.2.0",
            "_view_name": "LayoutView",
            "align_content": null,
            "align_items": null,
            "align_self": null,
            "border": null,
            "bottom": null,
            "display": null,
            "flex": null,
            "flex_flow": null,
            "grid_area": null,
            "grid_auto_columns": null,
            "grid_auto_flow": null,
            "grid_auto_rows": null,
            "grid_column": null,
            "grid_gap": null,
            "grid_row": null,
            "grid_template_areas": null,
            "grid_template_columns": null,
            "grid_template_rows": null,
            "height": null,
            "justify_content": null,
            "justify_items": null,
            "left": null,
            "margin": null,
            "max_height": null,
            "max_width": null,
            "min_height": null,
            "min_width": null,
            "object_fit": null,
            "object_position": null,
            "order": null,
            "overflow": null,
            "overflow_x": null,
            "overflow_y": null,
            "padding": null,
            "right": null,
            "top": null,
            "visibility": null,
            "width": null
          }
        },
        "3adc0210cf7f495391f6bd6da9da302e": {
          "model_module": "@jupyter-widgets/controls",
          "model_name": "ProgressStyleModel",
          "model_module_version": "1.5.0",
          "state": {
            "_model_module": "@jupyter-widgets/controls",
            "_model_module_version": "1.5.0",
            "_model_name": "ProgressStyleModel",
            "_view_count": null,
            "_view_module": "@jupyter-widgets/base",
            "_view_module_version": "1.2.0",
            "_view_name": "StyleView",
            "bar_color": null,
            "description_width": ""
          }
        },
        "60a7c6b6a6c64baba56dfd537ea6e3a5": {
          "model_module": "@jupyter-widgets/base",
          "model_name": "LayoutModel",
          "model_module_version": "1.2.0",
          "state": {
            "_model_module": "@jupyter-widgets/base",
            "_model_module_version": "1.2.0",
            "_model_name": "LayoutModel",
            "_view_count": null,
            "_view_module": "@jupyter-widgets/base",
            "_view_module_version": "1.2.0",
            "_view_name": "LayoutView",
            "align_content": null,
            "align_items": null,
            "align_self": null,
            "border": null,
            "bottom": null,
            "display": null,
            "flex": null,
            "flex_flow": null,
            "grid_area": null,
            "grid_auto_columns": null,
            "grid_auto_flow": null,
            "grid_auto_rows": null,
            "grid_column": null,
            "grid_gap": null,
            "grid_row": null,
            "grid_template_areas": null,
            "grid_template_columns": null,
            "grid_template_rows": null,
            "height": null,
            "justify_content": null,
            "justify_items": null,
            "left": null,
            "margin": null,
            "max_height": null,
            "max_width": null,
            "min_height": null,
            "min_width": null,
            "object_fit": null,
            "object_position": null,
            "order": null,
            "overflow": null,
            "overflow_x": null,
            "overflow_y": null,
            "padding": null,
            "right": null,
            "top": null,
            "visibility": null,
            "width": null
          }
        },
        "cbed160641674bc3824b534e462690be": {
          "model_module": "@jupyter-widgets/controls",
          "model_name": "DescriptionStyleModel",
          "model_module_version": "1.5.0",
          "state": {
            "_model_module": "@jupyter-widgets/controls",
            "_model_module_version": "1.5.0",
            "_model_name": "DescriptionStyleModel",
            "_view_count": null,
            "_view_module": "@jupyter-widgets/base",
            "_view_module_version": "1.2.0",
            "_view_name": "StyleView",
            "description_width": ""
          }
        },
        "f2b5fa817fa945de8193a7a5ce324a3c": {
          "model_module": "@jupyter-widgets/controls",
          "model_name": "HBoxModel",
          "model_module_version": "1.5.0",
          "state": {
            "_dom_classes": [],
            "_model_module": "@jupyter-widgets/controls",
            "_model_module_version": "1.5.0",
            "_model_name": "HBoxModel",
            "_view_count": null,
            "_view_module": "@jupyter-widgets/controls",
            "_view_module_version": "1.5.0",
            "_view_name": "HBoxView",
            "box_style": "",
            "children": [
              "IPY_MODEL_a759b4b7b4c84229a3cd0cfd7e27b3fa",
              "IPY_MODEL_ad08e93b1bbb4cbeb99a95c6b8f3d07b",
              "IPY_MODEL_29d5747361514a03901407e391d098ed"
            ],
            "layout": "IPY_MODEL_4eb320c16d58455592b778fff062f63a"
          }
        },
        "a759b4b7b4c84229a3cd0cfd7e27b3fa": {
          "model_module": "@jupyter-widgets/controls",
          "model_name": "HTMLModel",
          "model_module_version": "1.5.0",
          "state": {
            "_dom_classes": [],
            "_model_module": "@jupyter-widgets/controls",
            "_model_module_version": "1.5.0",
            "_model_name": "HTMLModel",
            "_view_count": null,
            "_view_module": "@jupyter-widgets/controls",
            "_view_module_version": "1.5.0",
            "_view_name": "HTMLView",
            "description": "",
            "description_tooltip": null,
            "layout": "IPY_MODEL_be1aaa4b39cd4f26ad754be0e8fe53e7",
            "placeholder": "​",
            "style": "IPY_MODEL_6f25fae1c1264e9bbfc8b511dc598537",
            "value": "100%"
          }
        },
        "ad08e93b1bbb4cbeb99a95c6b8f3d07b": {
          "model_module": "@jupyter-widgets/controls",
          "model_name": "FloatProgressModel",
          "model_module_version": "1.5.0",
          "state": {
            "_dom_classes": [],
            "_model_module": "@jupyter-widgets/controls",
            "_model_module_version": "1.5.0",
            "_model_name": "FloatProgressModel",
            "_view_count": null,
            "_view_module": "@jupyter-widgets/controls",
            "_view_module_version": "1.5.0",
            "_view_name": "ProgressView",
            "bar_style": "success",
            "description": "",
            "description_tooltip": null,
            "layout": "IPY_MODEL_ce65d6c3db8a48b0a6fc4e0cab3ce584",
            "max": 148,
            "min": 0,
            "orientation": "horizontal",
            "style": "IPY_MODEL_9c352dc0088348e9bd162e2a95fac73c",
            "value": 148
          }
        },
        "29d5747361514a03901407e391d098ed": {
          "model_module": "@jupyter-widgets/controls",
          "model_name": "HTMLModel",
          "model_module_version": "1.5.0",
          "state": {
            "_dom_classes": [],
            "_model_module": "@jupyter-widgets/controls",
            "_model_module_version": "1.5.0",
            "_model_name": "HTMLModel",
            "_view_count": null,
            "_view_module": "@jupyter-widgets/controls",
            "_view_module_version": "1.5.0",
            "_view_name": "HTMLView",
            "description": "",
            "description_tooltip": null,
            "layout": "IPY_MODEL_f6a4065b3b2e4463b178d41314a518f2",
            "placeholder": "​",
            "style": "IPY_MODEL_2b4af265fb9a408ba328137bee84920a",
            "value": " 148/148 [00:00&lt;00:00, 1946.39it/s]"
          }
        },
        "4eb320c16d58455592b778fff062f63a": {
          "model_module": "@jupyter-widgets/base",
          "model_name": "LayoutModel",
          "model_module_version": "1.2.0",
          "state": {
            "_model_module": "@jupyter-widgets/base",
            "_model_module_version": "1.2.0",
            "_model_name": "LayoutModel",
            "_view_count": null,
            "_view_module": "@jupyter-widgets/base",
            "_view_module_version": "1.2.0",
            "_view_name": "LayoutView",
            "align_content": null,
            "align_items": null,
            "align_self": null,
            "border": null,
            "bottom": null,
            "display": null,
            "flex": null,
            "flex_flow": null,
            "grid_area": null,
            "grid_auto_columns": null,
            "grid_auto_flow": null,
            "grid_auto_rows": null,
            "grid_column": null,
            "grid_gap": null,
            "grid_row": null,
            "grid_template_areas": null,
            "grid_template_columns": null,
            "grid_template_rows": null,
            "height": null,
            "justify_content": null,
            "justify_items": null,
            "left": null,
            "margin": null,
            "max_height": null,
            "max_width": null,
            "min_height": null,
            "min_width": null,
            "object_fit": null,
            "object_position": null,
            "order": null,
            "overflow": null,
            "overflow_x": null,
            "overflow_y": null,
            "padding": null,
            "right": null,
            "top": null,
            "visibility": null,
            "width": null
          }
        },
        "be1aaa4b39cd4f26ad754be0e8fe53e7": {
          "model_module": "@jupyter-widgets/base",
          "model_name": "LayoutModel",
          "model_module_version": "1.2.0",
          "state": {
            "_model_module": "@jupyter-widgets/base",
            "_model_module_version": "1.2.0",
            "_model_name": "LayoutModel",
            "_view_count": null,
            "_view_module": "@jupyter-widgets/base",
            "_view_module_version": "1.2.0",
            "_view_name": "LayoutView",
            "align_content": null,
            "align_items": null,
            "align_self": null,
            "border": null,
            "bottom": null,
            "display": null,
            "flex": null,
            "flex_flow": null,
            "grid_area": null,
            "grid_auto_columns": null,
            "grid_auto_flow": null,
            "grid_auto_rows": null,
            "grid_column": null,
            "grid_gap": null,
            "grid_row": null,
            "grid_template_areas": null,
            "grid_template_columns": null,
            "grid_template_rows": null,
            "height": null,
            "justify_content": null,
            "justify_items": null,
            "left": null,
            "margin": null,
            "max_height": null,
            "max_width": null,
            "min_height": null,
            "min_width": null,
            "object_fit": null,
            "object_position": null,
            "order": null,
            "overflow": null,
            "overflow_x": null,
            "overflow_y": null,
            "padding": null,
            "right": null,
            "top": null,
            "visibility": null,
            "width": null
          }
        },
        "6f25fae1c1264e9bbfc8b511dc598537": {
          "model_module": "@jupyter-widgets/controls",
          "model_name": "DescriptionStyleModel",
          "model_module_version": "1.5.0",
          "state": {
            "_model_module": "@jupyter-widgets/controls",
            "_model_module_version": "1.5.0",
            "_model_name": "DescriptionStyleModel",
            "_view_count": null,
            "_view_module": "@jupyter-widgets/base",
            "_view_module_version": "1.2.0",
            "_view_name": "StyleView",
            "description_width": ""
          }
        },
        "ce65d6c3db8a48b0a6fc4e0cab3ce584": {
          "model_module": "@jupyter-widgets/base",
          "model_name": "LayoutModel",
          "model_module_version": "1.2.0",
          "state": {
            "_model_module": "@jupyter-widgets/base",
            "_model_module_version": "1.2.0",
            "_model_name": "LayoutModel",
            "_view_count": null,
            "_view_module": "@jupyter-widgets/base",
            "_view_module_version": "1.2.0",
            "_view_name": "LayoutView",
            "align_content": null,
            "align_items": null,
            "align_self": null,
            "border": null,
            "bottom": null,
            "display": null,
            "flex": null,
            "flex_flow": null,
            "grid_area": null,
            "grid_auto_columns": null,
            "grid_auto_flow": null,
            "grid_auto_rows": null,
            "grid_column": null,
            "grid_gap": null,
            "grid_row": null,
            "grid_template_areas": null,
            "grid_template_columns": null,
            "grid_template_rows": null,
            "height": null,
            "justify_content": null,
            "justify_items": null,
            "left": null,
            "margin": null,
            "max_height": null,
            "max_width": null,
            "min_height": null,
            "min_width": null,
            "object_fit": null,
            "object_position": null,
            "order": null,
            "overflow": null,
            "overflow_x": null,
            "overflow_y": null,
            "padding": null,
            "right": null,
            "top": null,
            "visibility": null,
            "width": null
          }
        },
        "9c352dc0088348e9bd162e2a95fac73c": {
          "model_module": "@jupyter-widgets/controls",
          "model_name": "ProgressStyleModel",
          "model_module_version": "1.5.0",
          "state": {
            "_model_module": "@jupyter-widgets/controls",
            "_model_module_version": "1.5.0",
            "_model_name": "ProgressStyleModel",
            "_view_count": null,
            "_view_module": "@jupyter-widgets/base",
            "_view_module_version": "1.2.0",
            "_view_name": "StyleView",
            "bar_color": null,
            "description_width": ""
          }
        },
        "f6a4065b3b2e4463b178d41314a518f2": {
          "model_module": "@jupyter-widgets/base",
          "model_name": "LayoutModel",
          "model_module_version": "1.2.0",
          "state": {
            "_model_module": "@jupyter-widgets/base",
            "_model_module_version": "1.2.0",
            "_model_name": "LayoutModel",
            "_view_count": null,
            "_view_module": "@jupyter-widgets/base",
            "_view_module_version": "1.2.0",
            "_view_name": "LayoutView",
            "align_content": null,
            "align_items": null,
            "align_self": null,
            "border": null,
            "bottom": null,
            "display": null,
            "flex": null,
            "flex_flow": null,
            "grid_area": null,
            "grid_auto_columns": null,
            "grid_auto_flow": null,
            "grid_auto_rows": null,
            "grid_column": null,
            "grid_gap": null,
            "grid_row": null,
            "grid_template_areas": null,
            "grid_template_columns": null,
            "grid_template_rows": null,
            "height": null,
            "justify_content": null,
            "justify_items": null,
            "left": null,
            "margin": null,
            "max_height": null,
            "max_width": null,
            "min_height": null,
            "min_width": null,
            "object_fit": null,
            "object_position": null,
            "order": null,
            "overflow": null,
            "overflow_x": null,
            "overflow_y": null,
            "padding": null,
            "right": null,
            "top": null,
            "visibility": null,
            "width": null
          }
        },
        "2b4af265fb9a408ba328137bee84920a": {
          "model_module": "@jupyter-widgets/controls",
          "model_name": "DescriptionStyleModel",
          "model_module_version": "1.5.0",
          "state": {
            "_model_module": "@jupyter-widgets/controls",
            "_model_module_version": "1.5.0",
            "_model_name": "DescriptionStyleModel",
            "_view_count": null,
            "_view_module": "@jupyter-widgets/base",
            "_view_module_version": "1.2.0",
            "_view_name": "StyleView",
            "description_width": ""
          }
        },
        "56c2db58d63d430eadcbcc67dc1932a0": {
          "model_module": "@jupyter-widgets/controls",
          "model_name": "HBoxModel",
          "model_module_version": "1.5.0",
          "state": {
            "_dom_classes": [],
            "_model_module": "@jupyter-widgets/controls",
            "_model_module_version": "1.5.0",
            "_model_name": "HBoxModel",
            "_view_count": null,
            "_view_module": "@jupyter-widgets/controls",
            "_view_module_version": "1.5.0",
            "_view_name": "HBoxView",
            "box_style": "",
            "children": [
              "IPY_MODEL_818bedb47d6940678f58d402ff5421e9",
              "IPY_MODEL_a72eb6bb2ab54a1cadbb015c7248fc60",
              "IPY_MODEL_11a6874d04154e23877ac1a7e5f80db1"
            ],
            "layout": "IPY_MODEL_5addb9f036cf44ab8134e03022dd6d6f"
          }
        },
        "818bedb47d6940678f58d402ff5421e9": {
          "model_module": "@jupyter-widgets/controls",
          "model_name": "HTMLModel",
          "model_module_version": "1.5.0",
          "state": {
            "_dom_classes": [],
            "_model_module": "@jupyter-widgets/controls",
            "_model_module_version": "1.5.0",
            "_model_name": "HTMLModel",
            "_view_count": null,
            "_view_module": "@jupyter-widgets/controls",
            "_view_module_version": "1.5.0",
            "_view_name": "HTMLView",
            "description": "",
            "description_tooltip": null,
            "layout": "IPY_MODEL_1c3583062a7e422c8202a7fc045d9a67",
            "placeholder": "​",
            "style": "IPY_MODEL_80ed457b098843a590dfacb6bee6cfc7",
            "value": "100%"
          }
        },
        "a72eb6bb2ab54a1cadbb015c7248fc60": {
          "model_module": "@jupyter-widgets/controls",
          "model_name": "FloatProgressModel",
          "model_module_version": "1.5.0",
          "state": {
            "_dom_classes": [],
            "_model_module": "@jupyter-widgets/controls",
            "_model_module_version": "1.5.0",
            "_model_name": "FloatProgressModel",
            "_view_count": null,
            "_view_module": "@jupyter-widgets/controls",
            "_view_module_version": "1.5.0",
            "_view_name": "ProgressView",
            "bar_style": "success",
            "description": "",
            "description_tooltip": null,
            "layout": "IPY_MODEL_aed496655d1941f797f8e1a6aa35f90e",
            "max": 148,
            "min": 0,
            "orientation": "horizontal",
            "style": "IPY_MODEL_bb5f8ca88f824e61bb4cacaebfb36abf",
            "value": 148
          }
        },
        "11a6874d04154e23877ac1a7e5f80db1": {
          "model_module": "@jupyter-widgets/controls",
          "model_name": "HTMLModel",
          "model_module_version": "1.5.0",
          "state": {
            "_dom_classes": [],
            "_model_module": "@jupyter-widgets/controls",
            "_model_module_version": "1.5.0",
            "_model_name": "HTMLModel",
            "_view_count": null,
            "_view_module": "@jupyter-widgets/controls",
            "_view_module_version": "1.5.0",
            "_view_name": "HTMLView",
            "description": "",
            "description_tooltip": null,
            "layout": "IPY_MODEL_5a17eb370ae64c488491b94bd611081c",
            "placeholder": "​",
            "style": "IPY_MODEL_7879e94eb67e47cca8259aa6468bc9d4",
            "value": " 148/148 [00:00&lt;00:00, 2594.73it/s]"
          }
        },
        "5addb9f036cf44ab8134e03022dd6d6f": {
          "model_module": "@jupyter-widgets/base",
          "model_name": "LayoutModel",
          "model_module_version": "1.2.0",
          "state": {
            "_model_module": "@jupyter-widgets/base",
            "_model_module_version": "1.2.0",
            "_model_name": "LayoutModel",
            "_view_count": null,
            "_view_module": "@jupyter-widgets/base",
            "_view_module_version": "1.2.0",
            "_view_name": "LayoutView",
            "align_content": null,
            "align_items": null,
            "align_self": null,
            "border": null,
            "bottom": null,
            "display": null,
            "flex": null,
            "flex_flow": null,
            "grid_area": null,
            "grid_auto_columns": null,
            "grid_auto_flow": null,
            "grid_auto_rows": null,
            "grid_column": null,
            "grid_gap": null,
            "grid_row": null,
            "grid_template_areas": null,
            "grid_template_columns": null,
            "grid_template_rows": null,
            "height": null,
            "justify_content": null,
            "justify_items": null,
            "left": null,
            "margin": null,
            "max_height": null,
            "max_width": null,
            "min_height": null,
            "min_width": null,
            "object_fit": null,
            "object_position": null,
            "order": null,
            "overflow": null,
            "overflow_x": null,
            "overflow_y": null,
            "padding": null,
            "right": null,
            "top": null,
            "visibility": null,
            "width": null
          }
        },
        "1c3583062a7e422c8202a7fc045d9a67": {
          "model_module": "@jupyter-widgets/base",
          "model_name": "LayoutModel",
          "model_module_version": "1.2.0",
          "state": {
            "_model_module": "@jupyter-widgets/base",
            "_model_module_version": "1.2.0",
            "_model_name": "LayoutModel",
            "_view_count": null,
            "_view_module": "@jupyter-widgets/base",
            "_view_module_version": "1.2.0",
            "_view_name": "LayoutView",
            "align_content": null,
            "align_items": null,
            "align_self": null,
            "border": null,
            "bottom": null,
            "display": null,
            "flex": null,
            "flex_flow": null,
            "grid_area": null,
            "grid_auto_columns": null,
            "grid_auto_flow": null,
            "grid_auto_rows": null,
            "grid_column": null,
            "grid_gap": null,
            "grid_row": null,
            "grid_template_areas": null,
            "grid_template_columns": null,
            "grid_template_rows": null,
            "height": null,
            "justify_content": null,
            "justify_items": null,
            "left": null,
            "margin": null,
            "max_height": null,
            "max_width": null,
            "min_height": null,
            "min_width": null,
            "object_fit": null,
            "object_position": null,
            "order": null,
            "overflow": null,
            "overflow_x": null,
            "overflow_y": null,
            "padding": null,
            "right": null,
            "top": null,
            "visibility": null,
            "width": null
          }
        },
        "80ed457b098843a590dfacb6bee6cfc7": {
          "model_module": "@jupyter-widgets/controls",
          "model_name": "DescriptionStyleModel",
          "model_module_version": "1.5.0",
          "state": {
            "_model_module": "@jupyter-widgets/controls",
            "_model_module_version": "1.5.0",
            "_model_name": "DescriptionStyleModel",
            "_view_count": null,
            "_view_module": "@jupyter-widgets/base",
            "_view_module_version": "1.2.0",
            "_view_name": "StyleView",
            "description_width": ""
          }
        },
        "aed496655d1941f797f8e1a6aa35f90e": {
          "model_module": "@jupyter-widgets/base",
          "model_name": "LayoutModel",
          "model_module_version": "1.2.0",
          "state": {
            "_model_module": "@jupyter-widgets/base",
            "_model_module_version": "1.2.0",
            "_model_name": "LayoutModel",
            "_view_count": null,
            "_view_module": "@jupyter-widgets/base",
            "_view_module_version": "1.2.0",
            "_view_name": "LayoutView",
            "align_content": null,
            "align_items": null,
            "align_self": null,
            "border": null,
            "bottom": null,
            "display": null,
            "flex": null,
            "flex_flow": null,
            "grid_area": null,
            "grid_auto_columns": null,
            "grid_auto_flow": null,
            "grid_auto_rows": null,
            "grid_column": null,
            "grid_gap": null,
            "grid_row": null,
            "grid_template_areas": null,
            "grid_template_columns": null,
            "grid_template_rows": null,
            "height": null,
            "justify_content": null,
            "justify_items": null,
            "left": null,
            "margin": null,
            "max_height": null,
            "max_width": null,
            "min_height": null,
            "min_width": null,
            "object_fit": null,
            "object_position": null,
            "order": null,
            "overflow": null,
            "overflow_x": null,
            "overflow_y": null,
            "padding": null,
            "right": null,
            "top": null,
            "visibility": null,
            "width": null
          }
        },
        "bb5f8ca88f824e61bb4cacaebfb36abf": {
          "model_module": "@jupyter-widgets/controls",
          "model_name": "ProgressStyleModel",
          "model_module_version": "1.5.0",
          "state": {
            "_model_module": "@jupyter-widgets/controls",
            "_model_module_version": "1.5.0",
            "_model_name": "ProgressStyleModel",
            "_view_count": null,
            "_view_module": "@jupyter-widgets/base",
            "_view_module_version": "1.2.0",
            "_view_name": "StyleView",
            "bar_color": null,
            "description_width": ""
          }
        },
        "5a17eb370ae64c488491b94bd611081c": {
          "model_module": "@jupyter-widgets/base",
          "model_name": "LayoutModel",
          "model_module_version": "1.2.0",
          "state": {
            "_model_module": "@jupyter-widgets/base",
            "_model_module_version": "1.2.0",
            "_model_name": "LayoutModel",
            "_view_count": null,
            "_view_module": "@jupyter-widgets/base",
            "_view_module_version": "1.2.0",
            "_view_name": "LayoutView",
            "align_content": null,
            "align_items": null,
            "align_self": null,
            "border": null,
            "bottom": null,
            "display": null,
            "flex": null,
            "flex_flow": null,
            "grid_area": null,
            "grid_auto_columns": null,
            "grid_auto_flow": null,
            "grid_auto_rows": null,
            "grid_column": null,
            "grid_gap": null,
            "grid_row": null,
            "grid_template_areas": null,
            "grid_template_columns": null,
            "grid_template_rows": null,
            "height": null,
            "justify_content": null,
            "justify_items": null,
            "left": null,
            "margin": null,
            "max_height": null,
            "max_width": null,
            "min_height": null,
            "min_width": null,
            "object_fit": null,
            "object_position": null,
            "order": null,
            "overflow": null,
            "overflow_x": null,
            "overflow_y": null,
            "padding": null,
            "right": null,
            "top": null,
            "visibility": null,
            "width": null
          }
        },
        "7879e94eb67e47cca8259aa6468bc9d4": {
          "model_module": "@jupyter-widgets/controls",
          "model_name": "DescriptionStyleModel",
          "model_module_version": "1.5.0",
          "state": {
            "_model_module": "@jupyter-widgets/controls",
            "_model_module_version": "1.5.0",
            "_model_name": "DescriptionStyleModel",
            "_view_count": null,
            "_view_module": "@jupyter-widgets/base",
            "_view_module_version": "1.2.0",
            "_view_name": "StyleView",
            "description_width": ""
          }
        },
        "96c0f969c053416da2f15cc49f218b92": {
          "model_module": "@jupyter-widgets/controls",
          "model_name": "HBoxModel",
          "model_module_version": "1.5.0",
          "state": {
            "_dom_classes": [],
            "_model_module": "@jupyter-widgets/controls",
            "_model_module_version": "1.5.0",
            "_model_name": "HBoxModel",
            "_view_count": null,
            "_view_module": "@jupyter-widgets/controls",
            "_view_module_version": "1.5.0",
            "_view_name": "HBoxView",
            "box_style": "",
            "children": [
              "IPY_MODEL_ec4fe999352b45d2af4a06719563661f",
              "IPY_MODEL_577ad91c531e4d5ba5b3161ed519631c",
              "IPY_MODEL_b956317c31e749a08700a26689b8f62d"
            ],
            "layout": "IPY_MODEL_92df2bc120f24265826befb1fb176777"
          }
        },
        "ec4fe999352b45d2af4a06719563661f": {
          "model_module": "@jupyter-widgets/controls",
          "model_name": "HTMLModel",
          "model_module_version": "1.5.0",
          "state": {
            "_dom_classes": [],
            "_model_module": "@jupyter-widgets/controls",
            "_model_module_version": "1.5.0",
            "_model_name": "HTMLModel",
            "_view_count": null,
            "_view_module": "@jupyter-widgets/controls",
            "_view_module_version": "1.5.0",
            "_view_name": "HTMLView",
            "description": "",
            "description_tooltip": null,
            "layout": "IPY_MODEL_0e9fb5f1d10042f5bf0006e64b853eea",
            "placeholder": "​",
            "style": "IPY_MODEL_e2bad8f187264f1aae5d0a071ead0bac",
            "value": "100%"
          }
        },
        "577ad91c531e4d5ba5b3161ed519631c": {
          "model_module": "@jupyter-widgets/controls",
          "model_name": "FloatProgressModel",
          "model_module_version": "1.5.0",
          "state": {
            "_dom_classes": [],
            "_model_module": "@jupyter-widgets/controls",
            "_model_module_version": "1.5.0",
            "_model_name": "FloatProgressModel",
            "_view_count": null,
            "_view_module": "@jupyter-widgets/controls",
            "_view_module_version": "1.5.0",
            "_view_name": "ProgressView",
            "bar_style": "success",
            "description": "",
            "description_tooltip": null,
            "layout": "IPY_MODEL_87c33567324d4ba5b42dda944ebb2edd",
            "max": 148,
            "min": 0,
            "orientation": "horizontal",
            "style": "IPY_MODEL_68873234e7434fff81a1262a4c0426e5",
            "value": 148
          }
        },
        "b956317c31e749a08700a26689b8f62d": {
          "model_module": "@jupyter-widgets/controls",
          "model_name": "HTMLModel",
          "model_module_version": "1.5.0",
          "state": {
            "_dom_classes": [],
            "_model_module": "@jupyter-widgets/controls",
            "_model_module_version": "1.5.0",
            "_model_name": "HTMLModel",
            "_view_count": null,
            "_view_module": "@jupyter-widgets/controls",
            "_view_module_version": "1.5.0",
            "_view_name": "HTMLView",
            "description": "",
            "description_tooltip": null,
            "layout": "IPY_MODEL_adca0cd44b4c458482f44b4e149a758b",
            "placeholder": "​",
            "style": "IPY_MODEL_b98d402e27964d02b6c6d29df6f33701",
            "value": " 148/148 [00:00&lt;00:00,  2.56it/s]"
          }
        },
        "92df2bc120f24265826befb1fb176777": {
          "model_module": "@jupyter-widgets/base",
          "model_name": "LayoutModel",
          "model_module_version": "1.2.0",
          "state": {
            "_model_module": "@jupyter-widgets/base",
            "_model_module_version": "1.2.0",
            "_model_name": "LayoutModel",
            "_view_count": null,
            "_view_module": "@jupyter-widgets/base",
            "_view_module_version": "1.2.0",
            "_view_name": "LayoutView",
            "align_content": null,
            "align_items": null,
            "align_self": null,
            "border": null,
            "bottom": null,
            "display": null,
            "flex": null,
            "flex_flow": null,
            "grid_area": null,
            "grid_auto_columns": null,
            "grid_auto_flow": null,
            "grid_auto_rows": null,
            "grid_column": null,
            "grid_gap": null,
            "grid_row": null,
            "grid_template_areas": null,
            "grid_template_columns": null,
            "grid_template_rows": null,
            "height": null,
            "justify_content": null,
            "justify_items": null,
            "left": null,
            "margin": null,
            "max_height": null,
            "max_width": null,
            "min_height": null,
            "min_width": null,
            "object_fit": null,
            "object_position": null,
            "order": null,
            "overflow": null,
            "overflow_x": null,
            "overflow_y": null,
            "padding": null,
            "right": null,
            "top": null,
            "visibility": null,
            "width": null
          }
        },
        "0e9fb5f1d10042f5bf0006e64b853eea": {
          "model_module": "@jupyter-widgets/base",
          "model_name": "LayoutModel",
          "model_module_version": "1.2.0",
          "state": {
            "_model_module": "@jupyter-widgets/base",
            "_model_module_version": "1.2.0",
            "_model_name": "LayoutModel",
            "_view_count": null,
            "_view_module": "@jupyter-widgets/base",
            "_view_module_version": "1.2.0",
            "_view_name": "LayoutView",
            "align_content": null,
            "align_items": null,
            "align_self": null,
            "border": null,
            "bottom": null,
            "display": null,
            "flex": null,
            "flex_flow": null,
            "grid_area": null,
            "grid_auto_columns": null,
            "grid_auto_flow": null,
            "grid_auto_rows": null,
            "grid_column": null,
            "grid_gap": null,
            "grid_row": null,
            "grid_template_areas": null,
            "grid_template_columns": null,
            "grid_template_rows": null,
            "height": null,
            "justify_content": null,
            "justify_items": null,
            "left": null,
            "margin": null,
            "max_height": null,
            "max_width": null,
            "min_height": null,
            "min_width": null,
            "object_fit": null,
            "object_position": null,
            "order": null,
            "overflow": null,
            "overflow_x": null,
            "overflow_y": null,
            "padding": null,
            "right": null,
            "top": null,
            "visibility": null,
            "width": null
          }
        },
        "e2bad8f187264f1aae5d0a071ead0bac": {
          "model_module": "@jupyter-widgets/controls",
          "model_name": "DescriptionStyleModel",
          "model_module_version": "1.5.0",
          "state": {
            "_model_module": "@jupyter-widgets/controls",
            "_model_module_version": "1.5.0",
            "_model_name": "DescriptionStyleModel",
            "_view_count": null,
            "_view_module": "@jupyter-widgets/base",
            "_view_module_version": "1.2.0",
            "_view_name": "StyleView",
            "description_width": ""
          }
        },
        "87c33567324d4ba5b42dda944ebb2edd": {
          "model_module": "@jupyter-widgets/base",
          "model_name": "LayoutModel",
          "model_module_version": "1.2.0",
          "state": {
            "_model_module": "@jupyter-widgets/base",
            "_model_module_version": "1.2.0",
            "_model_name": "LayoutModel",
            "_view_count": null,
            "_view_module": "@jupyter-widgets/base",
            "_view_module_version": "1.2.0",
            "_view_name": "LayoutView",
            "align_content": null,
            "align_items": null,
            "align_self": null,
            "border": null,
            "bottom": null,
            "display": null,
            "flex": null,
            "flex_flow": null,
            "grid_area": null,
            "grid_auto_columns": null,
            "grid_auto_flow": null,
            "grid_auto_rows": null,
            "grid_column": null,
            "grid_gap": null,
            "grid_row": null,
            "grid_template_areas": null,
            "grid_template_columns": null,
            "grid_template_rows": null,
            "height": null,
            "justify_content": null,
            "justify_items": null,
            "left": null,
            "margin": null,
            "max_height": null,
            "max_width": null,
            "min_height": null,
            "min_width": null,
            "object_fit": null,
            "object_position": null,
            "order": null,
            "overflow": null,
            "overflow_x": null,
            "overflow_y": null,
            "padding": null,
            "right": null,
            "top": null,
            "visibility": null,
            "width": null
          }
        },
        "68873234e7434fff81a1262a4c0426e5": {
          "model_module": "@jupyter-widgets/controls",
          "model_name": "ProgressStyleModel",
          "model_module_version": "1.5.0",
          "state": {
            "_model_module": "@jupyter-widgets/controls",
            "_model_module_version": "1.5.0",
            "_model_name": "ProgressStyleModel",
            "_view_count": null,
            "_view_module": "@jupyter-widgets/base",
            "_view_module_version": "1.2.0",
            "_view_name": "StyleView",
            "bar_color": null,
            "description_width": ""
          }
        },
        "adca0cd44b4c458482f44b4e149a758b": {
          "model_module": "@jupyter-widgets/base",
          "model_name": "LayoutModel",
          "model_module_version": "1.2.0",
          "state": {
            "_model_module": "@jupyter-widgets/base",
            "_model_module_version": "1.2.0",
            "_model_name": "LayoutModel",
            "_view_count": null,
            "_view_module": "@jupyter-widgets/base",
            "_view_module_version": "1.2.0",
            "_view_name": "LayoutView",
            "align_content": null,
            "align_items": null,
            "align_self": null,
            "border": null,
            "bottom": null,
            "display": null,
            "flex": null,
            "flex_flow": null,
            "grid_area": null,
            "grid_auto_columns": null,
            "grid_auto_flow": null,
            "grid_auto_rows": null,
            "grid_column": null,
            "grid_gap": null,
            "grid_row": null,
            "grid_template_areas": null,
            "grid_template_columns": null,
            "grid_template_rows": null,
            "height": null,
            "justify_content": null,
            "justify_items": null,
            "left": null,
            "margin": null,
            "max_height": null,
            "max_width": null,
            "min_height": null,
            "min_width": null,
            "object_fit": null,
            "object_position": null,
            "order": null,
            "overflow": null,
            "overflow_x": null,
            "overflow_y": null,
            "padding": null,
            "right": null,
            "top": null,
            "visibility": null,
            "width": null
          }
        },
        "b98d402e27964d02b6c6d29df6f33701": {
          "model_module": "@jupyter-widgets/controls",
          "model_name": "DescriptionStyleModel",
          "model_module_version": "1.5.0",
          "state": {
            "_model_module": "@jupyter-widgets/controls",
            "_model_module_version": "1.5.0",
            "_model_name": "DescriptionStyleModel",
            "_view_count": null,
            "_view_module": "@jupyter-widgets/base",
            "_view_module_version": "1.2.0",
            "_view_name": "StyleView",
            "description_width": ""
          }
        }
      }
    },
    "kernelspec": {
      "name": "python3",
      "display_name": "Python 3"
    }
  },
  "nbformat": 4,
  "nbformat_minor": 0
}